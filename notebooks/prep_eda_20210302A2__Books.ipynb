{
 "cells": [
  {
   "cell_type": "markdown",
   "metadata": {},
   "source": [
    "- https://nijianmo.github.io/amazon/index.html\n",
    "- https://jmcauley.ucsd.edu/data/amazon/ \n",
    "- https://colab.research.google.com/drive/1Zv6MARGQcrBbLHyjPVVMZVnRWsRnVMpV"
   ]
  },
  {
   "cell_type": "markdown",
   "metadata": {},
   "source": [
    "# get data"
   ]
  },
  {
   "cell_type": "code",
   "execution_count": 3,
   "metadata": {},
   "outputs": [],
   "source": [
    "import pandas as pd\n",
    "import gzip\n",
    "import json"
   ]
  },
  {
   "cell_type": "code",
   "execution_count": 4,
   "metadata": {
    "scrolled": true
   },
   "outputs": [
    {
     "name": "stdout",
     "output_type": "stream",
     "text": [
      "\u001b[0m\u001b[01;31mAll_Amazon_Meta.json.gz\u001b[0m  \u001b[01;31mmeta_Appliances.json.gz\u001b[0m  \u001b[01;31mmeta_Books.json.gz\u001b[0m\r\n"
     ]
    }
   ],
   "source": [
    "ls ../data"
   ]
  },
  {
   "cell_type": "code",
   "execution_count": 8,
   "metadata": {},
   "outputs": [],
   "source": [
    "pth = '../data/meta_Books.json.gz'"
   ]
  },
  {
   "cell_type": "code",
   "execution_count": 5,
   "metadata": {},
   "outputs": [
    {
     "name": "stdout",
     "output_type": "stream",
     "text": [
      "2934949\n",
      "{'category': [], 'tech1': '', 'description': ['It is a biology book with God&apos;s perspective.'], 'fit': '', 'title': 'Biology Gods Living Creation Third Edition 10 (A Beka Book Science Series)', 'also_buy': ['0669009075', 'B000K2P5SA', 'B00MD4G2N0', 'B000ASIPTK', '0130508470', '1892427524', '0321567919', 'B000BJBH20', '0547484631', 'B000HAJTQO', 'B000AUCX7I', '0130365645', 'B000BI1Y2O', '0395976715', '052817729X', '1579246443', 'B001CK63XK', '1591669847', '0395879884', '836585161X', 'B01J2F9BH6', 'B00KYEHR4E', '158008141X', '1857928393', '0927545829', 'B015AR0RA0', 'B000TVHHRE', '0865167990', '1579246052', 'B003NXXVD4', 'B000OH6AX0', '061802087X', 'B000NU2X02', '0743252012'], 'image': [], 'tech2': '', 'brand': 'Keith Graham', 'feature': [], 'rank': '1,349,781 in Books (', 'also_view': ['0019777701', 'B000AUCX7I', 'B000K2P5SA', 'B001CK63XK', 'B01J2F9BH6', 'B000BI1Y2O', '1932012540', 'B0095ZCRCK'], 'main_cat': 'Books', 'similar_item': '', 'date': '', 'price': '$39.94', 'asin': '0000092878'}\n",
      "2934949\n",
      "0\n",
      "2934949\n"
     ]
    }
   ],
   "source": [
    "# https://colab.research.google.com/drive/1Zv6MARGQcrBbLHyjPVVMZVnRWsRnVMpV#scrollTo=7igYuRaV4bF7\n",
    "    \n",
    "### load the meta data\n",
    "\n",
    "data = []\n",
    "with gzip.open(pth) as f:\n",
    "    for l in f:\n",
    "        data.append(json.loads(l.strip()))\n",
    "    \n",
    "# total length of list, this number equals total number of products\n",
    "print(len(data))\n",
    "\n",
    "# first row of the list\n",
    "print(data[0])\n",
    "\n",
    "# convert list into pandas dataframe\n",
    "\n",
    "df = pd.DataFrame.from_dict(data)\n",
    "\n",
    "print(len(df))\n",
    "\n",
    "\n",
    "### remove rows with unformatted title (i.e. some 'title' may still contain html style content)\n",
    "\n",
    "df3 = df.fillna('')\n",
    "df4 = df3[df3.title.str.contains('getTime')] # unformatted rows\n",
    "df5 = df3[~df3.title.str.contains('getTime')] # filter those unformatted rows\n",
    "print(len(df4))\n",
    "print(len(df5))\n",
    "\n",
    "# how those unformatted rows look like"
   ]
  },
  {
   "cell_type": "code",
   "execution_count": 9,
   "metadata": {},
   "outputs": [],
   "source": [
    "# https://colab.research.google.com/drive/1Zv6MARGQcrBbLHyjPVVMZVnRWsRnVMpV#scrollTo=7igYuRaV4bF7\n",
    "    \n",
    "### load the meta data\n",
    "def get_meta_data(pth):\n",
    "    data = []\n",
    "    with gzip.open(pth) as f:\n",
    "        for l in f:\n",
    "            data.append(json.loads(l.strip()))\n",
    "\n",
    "    # total length of list, this number equals total number of products\n",
    "    print(\"len(data)\", len(data))\n",
    "\n",
    "    # convert list into pandas dataframe\n",
    "    df = pd.DataFrame.from_dict(data)\n",
    "    print(\"len(df)\", len(df))\n",
    "\n",
    "    ### remove rows with unformatted title (i.e. some 'title' may still contain html style content)\n",
    "    df3 = df.fillna('')\n",
    "    df4 = df3[df3.title.str.contains('getTime')] # unformatted rows\n",
    "    df5 = df3[~df3.title.str.contains('getTime')] # filter those unformatted rows\n",
    "    print(\"len(df4)\", len(df4))\n",
    "    print(\"len(df5)\", len(df5))\n",
    "\n",
    "    return df5"
   ]
  },
  {
   "cell_type": "code",
   "execution_count": 10,
   "metadata": {},
   "outputs": [
    {
     "name": "stdout",
     "output_type": "stream",
     "text": [
      "len(data) 2934949\n",
      "len(df) 2934949\n",
      "len(df4) 0\n",
      "len(df5) 2934949\n"
     ]
    }
   ],
   "source": [
    "df = get_meta_data(pth)"
   ]
  },
  {
   "cell_type": "markdown",
   "metadata": {},
   "source": [
    "# eda"
   ]
  },
  {
   "cell_type": "code",
   "execution_count": 11,
   "metadata": {},
   "outputs": [
    {
     "data": {
      "text/plain": [
       "(2934949, 18)"
      ]
     },
     "execution_count": 11,
     "metadata": {},
     "output_type": "execute_result"
    }
   ],
   "source": [
    "df.shape"
   ]
  },
  {
   "cell_type": "code",
   "execution_count": 12,
   "metadata": {},
   "outputs": [
    {
     "data": {
      "text/html": [
       "<div>\n",
       "<style scoped>\n",
       "    .dataframe tbody tr th:only-of-type {\n",
       "        vertical-align: middle;\n",
       "    }\n",
       "\n",
       "    .dataframe tbody tr th {\n",
       "        vertical-align: top;\n",
       "    }\n",
       "\n",
       "    .dataframe thead th {\n",
       "        text-align: right;\n",
       "    }\n",
       "</style>\n",
       "<table border=\"1\" class=\"dataframe\">\n",
       "  <thead>\n",
       "    <tr style=\"text-align: right;\">\n",
       "      <th></th>\n",
       "      <th>category</th>\n",
       "      <th>tech1</th>\n",
       "      <th>description</th>\n",
       "      <th>fit</th>\n",
       "      <th>title</th>\n",
       "      <th>also_buy</th>\n",
       "      <th>image</th>\n",
       "      <th>tech2</th>\n",
       "      <th>brand</th>\n",
       "      <th>feature</th>\n",
       "      <th>rank</th>\n",
       "      <th>also_view</th>\n",
       "      <th>main_cat</th>\n",
       "      <th>similar_item</th>\n",
       "      <th>date</th>\n",
       "      <th>price</th>\n",
       "      <th>asin</th>\n",
       "      <th>details</th>\n",
       "    </tr>\n",
       "  </thead>\n",
       "  <tbody>\n",
       "    <tr>\n",
       "      <th>0</th>\n",
       "      <td>[]</td>\n",
       "      <td></td>\n",
       "      <td>[It is a biology book with God&amp;apos;s perspect...</td>\n",
       "      <td></td>\n",
       "      <td>Biology Gods Living Creation Third Edition 10 ...</td>\n",
       "      <td>[0669009075, B000K2P5SA, B00MD4G2N0, B000ASIPT...</td>\n",
       "      <td>[]</td>\n",
       "      <td></td>\n",
       "      <td>Keith Graham</td>\n",
       "      <td>[]</td>\n",
       "      <td>1,349,781 in Books (</td>\n",
       "      <td>[0019777701, B000AUCX7I, B000K2P5SA, B001CK63X...</td>\n",
       "      <td>Books</td>\n",
       "      <td></td>\n",
       "      <td></td>\n",
       "      <td>$39.94</td>\n",
       "      <td>0000092878</td>\n",
       "      <td></td>\n",
       "    </tr>\n",
       "    <tr>\n",
       "      <th>1</th>\n",
       "      <td>[Books, New, Used &amp; Rental Textbooks, Medicine...</td>\n",
       "      <td></td>\n",
       "      <td>[]</td>\n",
       "      <td></td>\n",
       "      <td>Mksap 16 Audio Companion: Medical Knowledge Se...</td>\n",
       "      <td>[]</td>\n",
       "      <td>[]</td>\n",
       "      <td></td>\n",
       "      <td>Acp</td>\n",
       "      <td>[]</td>\n",
       "      <td>1,702,625 in Books (</td>\n",
       "      <td>[B01MUCYEV7, B01KUGTY6O]</td>\n",
       "      <td>Books</td>\n",
       "      <td></td>\n",
       "      <td></td>\n",
       "      <td></td>\n",
       "      <td>000047715X</td>\n",
       "      <td></td>\n",
       "    </tr>\n",
       "    <tr>\n",
       "      <th>2</th>\n",
       "      <td>[Books, Arts &amp; Photography, Music]</td>\n",
       "      <td></td>\n",
       "      <td>[Discography of American Punk, Hardcore, and P...</td>\n",
       "      <td></td>\n",
       "      <td>Flex! Discography of North American Punk, Hard...</td>\n",
       "      <td>[]</td>\n",
       "      <td>[]</td>\n",
       "      <td></td>\n",
       "      <td>Burkhard Jarisch</td>\n",
       "      <td>[]</td>\n",
       "      <td>6,291,012 in Books (</td>\n",
       "      <td>[]</td>\n",
       "      <td>Books</td>\n",
       "      <td></td>\n",
       "      <td></td>\n",
       "      <td>$199.99</td>\n",
       "      <td>0000004545</td>\n",
       "      <td></td>\n",
       "    </tr>\n",
       "    <tr>\n",
       "      <th>3</th>\n",
       "      <td>[Books, Arts &amp; Photography, Music]</td>\n",
       "      <td></td>\n",
       "      <td>[This is a collection of classic gospel hymns ...</td>\n",
       "      <td></td>\n",
       "      <td>Heavenly Highway Hymns: Shaped-Note Hymnal</td>\n",
       "      <td>[]</td>\n",
       "      <td>[]</td>\n",
       "      <td></td>\n",
       "      <td>Stamps/Baxter</td>\n",
       "      <td>[]</td>\n",
       "      <td>2,384,057 in Books (</td>\n",
       "      <td>[0006180116, 0996092730, B000QFOGY0, B06WWKNDL...</td>\n",
       "      <td>Books</td>\n",
       "      <td></td>\n",
       "      <td></td>\n",
       "      <td></td>\n",
       "      <td>0000013765</td>\n",
       "      <td></td>\n",
       "    </tr>\n",
       "    <tr>\n",
       "      <th>4</th>\n",
       "      <td>[]</td>\n",
       "      <td></td>\n",
       "      <td>[]</td>\n",
       "      <td></td>\n",
       "      <td>Georgina Goodman Nelson Womens Size 8.5 Purple...</td>\n",
       "      <td>[]</td>\n",
       "      <td>[]</td>\n",
       "      <td></td>\n",
       "      <td></td>\n",
       "      <td>[]</td>\n",
       "      <td>11,735,726 in Books (</td>\n",
       "      <td>[]</td>\n",
       "      <td>Books</td>\n",
       "      <td></td>\n",
       "      <td></td>\n",
       "      <td>$164.10</td>\n",
       "      <td>0000000116</td>\n",
       "      <td></td>\n",
       "    </tr>\n",
       "  </tbody>\n",
       "</table>\n",
       "</div>"
      ],
      "text/plain": [
       "                                            category tech1  \\\n",
       "0                                                 []         \n",
       "1  [Books, New, Used & Rental Textbooks, Medicine...         \n",
       "2                 [Books, Arts & Photography, Music]         \n",
       "3                 [Books, Arts & Photography, Music]         \n",
       "4                                                 []         \n",
       "\n",
       "                                         description fit  \\\n",
       "0  [It is a biology book with God&apos;s perspect...       \n",
       "1                                                 []       \n",
       "2  [Discography of American Punk, Hardcore, and P...       \n",
       "3  [This is a collection of classic gospel hymns ...       \n",
       "4                                                 []       \n",
       "\n",
       "                                               title  \\\n",
       "0  Biology Gods Living Creation Third Edition 10 ...   \n",
       "1  Mksap 16 Audio Companion: Medical Knowledge Se...   \n",
       "2  Flex! Discography of North American Punk, Hard...   \n",
       "3         Heavenly Highway Hymns: Shaped-Note Hymnal   \n",
       "4  Georgina Goodman Nelson Womens Size 8.5 Purple...   \n",
       "\n",
       "                                            also_buy image tech2  \\\n",
       "0  [0669009075, B000K2P5SA, B00MD4G2N0, B000ASIPT...    []         \n",
       "1                                                 []    []         \n",
       "2                                                 []    []         \n",
       "3                                                 []    []         \n",
       "4                                                 []    []         \n",
       "\n",
       "              brand feature                   rank  \\\n",
       "0      Keith Graham      []   1,349,781 in Books (   \n",
       "1               Acp      []   1,702,625 in Books (   \n",
       "2  Burkhard Jarisch      []   6,291,012 in Books (   \n",
       "3     Stamps/Baxter      []   2,384,057 in Books (   \n",
       "4                        []  11,735,726 in Books (   \n",
       "\n",
       "                                           also_view main_cat similar_item  \\\n",
       "0  [0019777701, B000AUCX7I, B000K2P5SA, B001CK63X...    Books                \n",
       "1                           [B01MUCYEV7, B01KUGTY6O]    Books                \n",
       "2                                                 []    Books                \n",
       "3  [0006180116, 0996092730, B000QFOGY0, B06WWKNDL...    Books                \n",
       "4                                                 []    Books                \n",
       "\n",
       "  date    price        asin details  \n",
       "0        $39.94  0000092878          \n",
       "1                000047715X          \n",
       "2       $199.99  0000004545          \n",
       "3                0000013765          \n",
       "4       $164.10  0000000116          "
      ]
     },
     "execution_count": 12,
     "metadata": {},
     "output_type": "execute_result"
    }
   ],
   "source": [
    "df.head()"
   ]
  },
  {
   "cell_type": "code",
   "execution_count": 13,
   "metadata": {},
   "outputs": [
    {
     "data": {
      "text/plain": [
       "0                 Books\n",
       "1                 Books\n",
       "2                 Books\n",
       "3                 Books\n",
       "4                 Books\n",
       "               ...     \n",
       "2934944    Buy a Kindle\n",
       "2934945    Buy a Kindle\n",
       "2934946           Books\n",
       "2934947    Buy a Kindle\n",
       "2934948           Books\n",
       "Name: main_cat, Length: 2934949, dtype: object"
      ]
     },
     "execution_count": 13,
     "metadata": {},
     "output_type": "execute_result"
    }
   ],
   "source": [
    "df.main_cat"
   ]
  },
  {
   "cell_type": "code",
   "execution_count": 14,
   "metadata": {},
   "outputs": [
    {
     "data": {
      "text/plain": [
       "0          Biology Gods Living Creation Third Edition 10 ...\n",
       "1          Mksap 16 Audio Companion: Medical Knowledge Se...\n",
       "2          Flex! Discography of North American Punk, Hard...\n",
       "3                 Heavenly Highway Hymns: Shaped-Note Hymnal\n",
       "4          Georgina Goodman Nelson Womens Size 8.5 Purple...\n",
       "                                 ...                        \n",
       "2934944    Made Men: A Thriller (Law of Retaliation Book ...\n",
       "2934945    Raptor&#39;s Desire (A Planet Desire novelette...\n",
       "2934946    LG K4 Case,LG Optimus Zone 3 Case,LG Spree Cas...\n",
       "2934947                                Magickal Incantations\n",
       "2934948    White Away EURO 2016 Match Football Soccer Adu...\n",
       "Name: title, Length: 2934949, dtype: object"
      ]
     },
     "execution_count": 14,
     "metadata": {},
     "output_type": "execute_result"
    }
   ],
   "source": [
    "df.title"
   ]
  },
  {
   "cell_type": "code",
   "execution_count": 15,
   "metadata": {},
   "outputs": [
    {
     "data": {
      "text/plain": [
       "0                                Keith Graham\n",
       "1                                         Acp\n",
       "2                            Burkhard Jarisch\n",
       "3                               Stamps/Baxter\n",
       "4                                            \n",
       "                          ...                \n",
       "2934944     Visit Amazon's Bradley Ernst Page\n",
       "2934945    Visit Amazon's Delilah Devlin Page\n",
       "2934946                                      \n",
       "2934947                             SilvrMyst\n",
       "2934948                                      \n",
       "Name: brand, Length: 2934949, dtype: object"
      ]
     },
     "execution_count": 15,
     "metadata": {},
     "output_type": "execute_result"
    }
   ],
   "source": [
    "df.brand"
   ]
  },
  {
   "cell_type": "code",
   "execution_count": 16,
   "metadata": {},
   "outputs": [
    {
     "data": {
      "text/plain": [
       "0          [It is a biology book with God&apos;s perspect...\n",
       "1                                                         []\n",
       "2          [Discography of American Punk, Hardcore, and P...\n",
       "3          [This is a collection of classic gospel hymns ...\n",
       "4                                                         []\n",
       "                                 ...                        \n",
       "2934944                                                   []\n",
       "2934945                                                   []\n",
       "2934946                                                   []\n",
       "2934947                                                   []\n",
       "2934948                                                   []\n",
       "Name: description, Length: 2934949, dtype: object"
      ]
     },
     "execution_count": 16,
     "metadata": {},
     "output_type": "execute_result"
    }
   ],
   "source": [
    "df.description"
   ]
  },
  {
   "cell_type": "code",
   "execution_count": 17,
   "metadata": {},
   "outputs": [
    {
     "data": {
      "text/plain": [
       "0                                                         []\n",
       "1          [Books, New, Used & Rental Textbooks, Medicine...\n",
       "2                         [Books, Arts & Photography, Music]\n",
       "3                         [Books, Arts & Photography, Music]\n",
       "4                                                         []\n",
       "                                 ...                        \n",
       "2934944    [Books, Mystery, Thriller & Suspense, Thriller...\n",
       "2934945               [Books, Literature & Fiction, Erotica]\n",
       "2934946                                                   []\n",
       "2934947    [Books, Religion & Spirituality, New Age & Spi...\n",
       "2934948                                                   []\n",
       "Name: category, Length: 2934949, dtype: object"
      ]
     },
     "execution_count": 17,
     "metadata": {},
     "output_type": "execute_result"
    }
   ],
   "source": [
    "df.category"
   ]
  },
  {
   "cell_type": "code",
   "execution_count": 22,
   "metadata": {},
   "outputs": [
    {
     "data": {
      "text/plain": [
       "array([[\"What's In A Name?\",\n",
       "        list(['Books', 'Christian Books &amp; Bibles', 'Christian Living']),\n",
       "        'Books'],\n",
       "       ['The Legendary Judges of Magic (Pia the Pinena Fairy)',\n",
       "        list(['Books', \"Children's Books\", 'Action & Adventure']),\n",
       "        'Books'],\n",
       "       ['Transforming the World: Rochester at 150', list([]), 'Books']],\n",
       "      dtype=object)"
      ]
     },
     "execution_count": 22,
     "metadata": {},
     "output_type": "execute_result"
    }
   ],
   "source": [
    "df[['title','category','main_cat']].sample(3).values"
   ]
  },
  {
   "cell_type": "code",
   "execution_count": null,
   "metadata": {},
   "outputs": [],
   "source": []
  },
  {
   "cell_type": "code",
   "execution_count": null,
   "metadata": {},
   "outputs": [],
   "source": []
  },
  {
   "cell_type": "code",
   "execution_count": null,
   "metadata": {},
   "outputs": [],
   "source": []
  },
  {
   "cell_type": "code",
   "execution_count": null,
   "metadata": {},
   "outputs": [],
   "source": []
  }
 ],
 "metadata": {
  "kernelspec": {
   "display_name": "product-category",
   "language": "python",
   "name": "product-category"
  },
  "language_info": {
   "codemirror_mode": {
    "name": "ipython",
    "version": 3
   },
   "file_extension": ".py",
   "mimetype": "text/x-python",
   "name": "python",
   "nbconvert_exporter": "python",
   "pygments_lexer": "ipython3",
   "version": "3.7.9"
  },
  "toc": {
   "base_numbering": 1,
   "nav_menu": {},
   "number_sections": true,
   "sideBar": true,
   "skip_h1_title": false,
   "title_cell": "Table of Contents",
   "title_sidebar": "Contents",
   "toc_cell": false,
   "toc_position": {},
   "toc_section_display": true,
   "toc_window_display": false
  }
 },
 "nbformat": 4,
 "nbformat_minor": 4
}
