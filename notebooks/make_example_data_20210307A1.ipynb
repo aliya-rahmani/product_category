{
 "cells": [
  {
   "cell_type": "markdown",
   "metadata": {},
   "source": [
    "- https://nijianmo.github.io/amazon/index.html\n",
    "- https://jmcauley.ucsd.edu/data/amazon/ \n",
    "- https://colab.research.google.com/drive/1Zv6MARGQcrBbLHyjPVVMZVnRWsRnVMpV"
   ]
  },
  {
   "cell_type": "code",
   "execution_count": 6,
   "metadata": {},
   "outputs": [],
   "source": [
    "import pandas as pd\n"
   ]
  },
  {
   "cell_type": "code",
   "execution_count": 7,
   "metadata": {},
   "outputs": [],
   "source": [
    "PRFX_PRP = 'prep_20210307B1'\n",
    "PRFX = 'make_example_data_20210307A1'\n",
    "HOME = \"/data/git/product-category\"\n",
    "p_out = f'{HOME}/data/{PRFX}'\n",
    "!mkdir -p {p_out}"
   ]
  },
  {
   "cell_type": "code",
   "execution_count": 8,
   "metadata": {},
   "outputs": [],
   "source": [
    "sz = int(1e4)\n",
    "DATA2USE = f'{HOME}/data/data_sample_{sz}__{PRFX_PRP}.csv'\n",
    "df = pd.read_csv(DATA2USE, nrows=100)\n"
   ]
  },
  {
   "cell_type": "code",
   "execution_count": 12,
   "metadata": {},
   "outputs": [],
   "source": [
    "df.to_csv(f'{p_out}/sample_data.csv', index=False)"
   ]
  },
  {
   "cell_type": "code",
   "execution_count": null,
   "metadata": {},
   "outputs": [],
   "source": []
  },
  {
   "cell_type": "markdown",
   "metadata": {},
   "source": [
    "# get data"
   ]
  },
  {
   "cell_type": "markdown",
   "metadata": {},
   "source": [
    "    download from http://localhost:8080/notebooks/git/product-category/notebooks/secrets_get_amazon_data.ipynb"
   ]
  },
  {
   "cell_type": "code",
   "execution_count": 2,
   "metadata": {},
   "outputs": [],
   "source": [
    "import pandas as pd\n",
    "import gzip\n",
    "import json\n",
    "from collections import Counter"
   ]
  },
  {
   "cell_type": "code",
   "execution_count": 3,
   "metadata": {},
   "outputs": [
    {
     "name": "stdout",
     "output_type": "stream",
     "text": [
      "total 13G\r\n",
      "-rw-rw-r-- 1 ubuntu ubuntu   30M Dec  2 00:07 meta_AMAZON_FASHION.json.gz\r\n",
      "-rw-rw-r-- 1 ubuntu ubuntu  9.6M Aug  7  2020 meta_All_Beauty.json.gz\r\n",
      "-rw-rw-r-- 1 ubuntu ubuntu   57M Aug  7  2020 meta_Appliances.json.gz\r\n",
      "-rw-rw-r-- 1 ubuntu ubuntu   57M Aug  7  2020 meta_Appliances.json.gz.1\r\n",
      "-rw-rw-r-- 1 ubuntu ubuntu  125M Aug  7  2020 meta_Arts_Crafts_and_Sewing.json.gz\r\n",
      "-rw-rw-r-- 1 ubuntu ubuntu  1.5G Aug  7  2020 meta_Automotive.json.gz\r\n",
      "-rw-rw-r-- 1 ubuntu ubuntu  1.2G Aug  7  2020 meta_Books.json.gz\r\n",
      "-rw-rw-r-- 1 ubuntu ubuntu  1.2G Aug  7  2020 meta_Books.json.gz.1\r\n",
      "-rw-rw-r-- 1 ubuntu ubuntu  153M Aug  7  2020 meta_CDs_and_Vinyl.json.gz\r\n",
      "-rw-rw-r-- 1 ubuntu ubuntu  333M Aug  7  2020 meta_Cell_Phones_and_Accessories.json.gz\r\n",
      "-rw-rw-r-- 1 ubuntu ubuntu  1.5G Dec  2 00:18 meta_Clothing_Shoes_and_Jewelry.json.gz\r\n",
      "-rw-rw-r-- 1 ubuntu ubuntu   12M Aug  7  2020 meta_Digital_Music.json.gz\r\n",
      "-rw-rw-r-- 1 ubuntu ubuntu  1.2G Aug  7  2020 meta_Electronics.json.gz\r\n",
      "-rw-rw-r-- 1 ubuntu ubuntu  372K Aug  7  2020 meta_Gift_Cards.json.gz\r\n",
      "-rw-rw-r-- 1 ubuntu ubuntu  102M Aug  7  2020 meta_Grocery_and_Gourmet_Food.json.gz\r\n",
      "-rw-rw-r-- 1 ubuntu ubuntu  1.7G Aug  7  2020 meta_Home_and_Kitchen.json.gz\r\n",
      "-rw-rw-r-- 1 ubuntu ubuntu   79M Aug  7  2020 meta_Industrial_and_Scientific.json.gz\r\n",
      "-rw-rw-r-- 1 ubuntu ubuntu   96M Aug  7  2020 meta_Kindle_Store.json.gz\r\n",
      "-rw-rw-r-- 1 ubuntu ubuntu  7.1M Aug  7  2020 meta_Luxury_Beauty.json.gz\r\n",
      "-rw-rw-r-- 1 ubuntu ubuntu  1.2M Aug  7  2020 meta_Magazine_Subscriptions.json.gz\r\n",
      "-rw-rw-r-- 1 ubuntu ubuntu  100M Aug  7  2020 meta_Movies_and_TV.json.gz\r\n",
      "-rw-rw-r-- 1 ubuntu ubuntu  163M Aug  7  2020 meta_Musical_Instruments.json.gz\r\n",
      "-rw-rw-r-- 1 ubuntu ubuntu  485M Aug  7  2020 meta_Office_Products.json.gz\r\n",
      "-rw-rw-r-- 1 ubuntu ubuntu  399M Aug  7  2020 meta_Patio_Lawn_and_Garden.json.gz\r\n",
      "-rw-rw-r-- 1 ubuntu ubuntu  269M Aug  7  2020 meta_Pet_Supplies.json.gz\r\n",
      "-rw-rw-r-- 1 ubuntu ubuntu  4.9M Aug  7  2020 meta_Prime_Pantry.json.gz\r\n",
      "-rw-rw-r-- 1 ubuntu ubuntu   15M Aug  7  2020 meta_Software.json.gz\r\n",
      "-rw-rw-r-- 1 ubuntu ubuntu  490M Aug  7  2020 meta_Sports_and_Outdoors.json.gz\r\n",
      "-rw-rw-r-- 1 ubuntu ubuntu 1008M Aug  7  2020 meta_Tools_and_Home_Improvement.json.gz\r\n",
      "-rw-rw-r-- 1 ubuntu ubuntu  763M Aug  7  2020 meta_Toys_and_Games.json.gz\r\n",
      "-rw-rw-r-- 1 ubuntu ubuntu   50M Aug  7  2020 meta_Video_Games.json.gz\r\n"
     ]
    }
   ],
   "source": [
    "pdata = \"/data/git/product-category/data/amazon_meta_data\"\n",
    "!ls -hl {pdata}"
   ]
  },
  {
   "cell_type": "code",
   "execution_count": 4,
   "metadata": {},
   "outputs": [
    {
     "data": {
      "text/plain": [
       "['meta_AMAZON_FASHION.json.gz',\n",
       " 'meta_All_Beauty.json.gz',\n",
       " 'meta_Appliances.json.gz',\n",
       " 'meta_Arts_Crafts_and_Sewing.json.gz',\n",
       " 'meta_Automotive.json.gz',\n",
       " 'meta_Books.json.gz',\n",
       " 'meta_CDs_and_Vinyl.json.gz',\n",
       " 'meta_Cell_Phones_and_Accessories.json.gz',\n",
       " 'meta_Clothing_Shoes_and_Jewelry.json.gz',\n",
       " 'meta_Digital_Music.json.gz',\n",
       " 'meta_Electronics.json.gz',\n",
       " 'meta_Gift_Cards.json.gz',\n",
       " 'meta_Grocery_and_Gourmet_Food.json.gz',\n",
       " 'meta_Home_and_Kitchen.json.gz',\n",
       " 'meta_Industrial_and_Scientific.json.gz',\n",
       " 'meta_Kindle_Store.json.gz',\n",
       " 'meta_Luxury_Beauty.json.gz',\n",
       " 'meta_Magazine_Subscriptions.json.gz',\n",
       " 'meta_Movies_and_TV.json.gz',\n",
       " 'meta_Musical_Instruments.json.gz',\n",
       " 'meta_Office_Products.json.gz',\n",
       " 'meta_Patio_Lawn_and_Garden.json.gz',\n",
       " 'meta_Pet_Supplies.json.gz',\n",
       " 'meta_Prime_Pantry.json.gz',\n",
       " 'meta_Software.json.gz',\n",
       " 'meta_Sports_and_Outdoors.json.gz',\n",
       " 'meta_Tools_and_Home_Improvement.json.gz',\n",
       " 'meta_Toys_and_Games.json.gz',\n",
       " 'meta_Video_Games.json.gz']"
      ]
     },
     "execution_count": 4,
     "metadata": {},
     "output_type": "execute_result"
    }
   ],
   "source": [
    "fnms = !ls {pdata}\n",
    "fnms = [o for o in fnms if o.endswith('.json.gz')]\n",
    "fnms"
   ]
  },
  {
   "cell_type": "code",
   "execution_count": 5,
   "metadata": {},
   "outputs": [
    {
     "data": {
      "text/plain": [
       "{'AMAZON_FASHION': 'meta_AMAZON_FASHION.json.gz',\n",
       " 'All_Beauty': 'meta_All_Beauty.json.gz',\n",
       " 'Appliance': 'meta_Appliances.json.gz',\n",
       " 'Arts_Crafts_and_Sewi': 'meta_Arts_Crafts_and_Sewing.json.gz',\n",
       " 'Automotive': 'meta_Automotive.json.gz',\n",
       " 'Book': 'meta_Books.json.gz',\n",
       " 'CDs_and_Vinyl': 'meta_CDs_and_Vinyl.json.gz',\n",
       " 'Cell_Phones_and_Accessorie': 'meta_Cell_Phones_and_Accessories.json.gz',\n",
       " 'Clothing_Shoes_and_Jewelry': 'meta_Clothing_Shoes_and_Jewelry.json.gz',\n",
       " 'Digital_Music': 'meta_Digital_Music.json.gz',\n",
       " 'Electronic': 'meta_Electronics.json.gz',\n",
       " 'Gift_Card': 'meta_Gift_Cards.json.gz',\n",
       " 'Grocery_and_Gourmet_Food': 'meta_Grocery_and_Gourmet_Food.json.gz',\n",
       " 'Home_and_Kitche': 'meta_Home_and_Kitchen.json.gz',\n",
       " 'Industrial_and_Scientific': 'meta_Industrial_and_Scientific.json.gz',\n",
       " 'Kindle_Store': 'meta_Kindle_Store.json.gz',\n",
       " 'Luxury_Beauty': 'meta_Luxury_Beauty.json.gz',\n",
       " 'Magazine_Subscripti': 'meta_Magazine_Subscriptions.json.gz',\n",
       " 'Movies_and_TV': 'meta_Movies_and_TV.json.gz',\n",
       " 'Musical_Instrument': 'meta_Musical_Instruments.json.gz',\n",
       " 'Office_Product': 'meta_Office_Products.json.gz',\n",
       " 'Patio_Lawn_and_Garde': 'meta_Patio_Lawn_and_Garden.json.gz',\n",
       " 'Pet_Supplie': 'meta_Pet_Supplies.json.gz',\n",
       " 'Prime_Pantry': 'meta_Prime_Pantry.json.gz',\n",
       " 'Software': 'meta_Software.json.gz',\n",
       " 'Sports_and_Outdoor': 'meta_Sports_and_Outdoors.json.gz',\n",
       " 'Tools_and_Home_Improvement': 'meta_Tools_and_Home_Improvement.json.gz',\n",
       " 'Toys_and_Game': 'meta_Toys_and_Games.json.gz',\n",
       " 'Video_Game': 'meta_Video_Games.json.gz'}"
      ]
     },
     "execution_count": 5,
     "metadata": {},
     "output_type": "execute_result"
    }
   ],
   "source": [
    "domains = [o.strip('meta_').strip('.json.gz') for o in fnms]\n",
    "dmn2fnm = dict(zip(domains, fnms))\n",
    "dmn2fnm"
   ]
  },
  {
   "cell_type": "code",
   "execution_count": 6,
   "metadata": {},
   "outputs": [],
   "source": [
    "KEYS2USE = set(['category', 'title',])"
   ]
  },
  {
   "cell_type": "code",
   "execution_count": 7,
   "metadata": {},
   "outputs": [],
   "source": [
    "# https://colab.research.google.com/drive/1Zv6MARGQcrBbLHyjPVVMZVnRWsRnVMpV#scrollTo=7igYuRaV4bF7\n",
    "    \n",
    "### load the meta data\n",
    "def get_meta_data(domain, nrows=None):\n",
    "    keys2use = KEYS2USE\n",
    "    fnm = dmn2fnm[domain]\n",
    "    data = []\n",
    "    with gzip.open(f'{pdata}/{fnm}') as f:\n",
    "        for i,l in enumerate(f):\n",
    "            dat = json.loads(l.strip())\n",
    "            dat = {k:v for k,v in dat.items() if k in keys2use}\n",
    "            data.append(dat)\n",
    "            if nrows and i>nrows: break\n",
    "\n",
    "    # total length of list, this number equals total number of products\n",
    "#     print(\"len(data)\", len(data))\n",
    "\n",
    "    # convert list into pandas dataframe\n",
    "    df = pd.DataFrame.from_dict(data)\n",
    "#     print(\"len(df)\", len(df))\n",
    "\n",
    "    ### remove rows with unformatted title (i.e. some 'title' may still contain html style content)\n",
    "    df3 = df.dropna()\n",
    "    df4 = df3[df3.title.str.contains('getTime')] # unformatted rows\n",
    "    df5 = df3[~df3.title.str.contains('getTime')] # filter those unformatted rows\n",
    "#     print(\"len(df4)\", len(df4))\n",
    "#     print(\"len(df5)\", len(df5))\n",
    "\n",
    "    return df5"
   ]
  },
  {
   "cell_type": "code",
   "execution_count": 8,
   "metadata": {},
   "outputs": [
    {
     "data": {
      "text/html": [
       "<div>\n",
       "<style scoped>\n",
       "    .dataframe tbody tr th:only-of-type {\n",
       "        vertical-align: middle;\n",
       "    }\n",
       "\n",
       "    .dataframe tbody tr th {\n",
       "        vertical-align: top;\n",
       "    }\n",
       "\n",
       "    .dataframe thead th {\n",
       "        text-align: right;\n",
       "    }\n",
       "</style>\n",
       "<table border=\"1\" class=\"dataframe\">\n",
       "  <thead>\n",
       "    <tr style=\"text-align: right;\">\n",
       "      <th></th>\n",
       "      <th>category</th>\n",
       "      <th>title</th>\n",
       "    </tr>\n",
       "  </thead>\n",
       "  <tbody>\n",
       "    <tr>\n",
       "      <th>0</th>\n",
       "      <td>[Arts, Crafts &amp; Sewing, Sewing, Trim &amp; Embelli...</td>\n",
       "      <td>You Son of a Bitch! 1987 Embroidered Patch</td>\n",
       "    </tr>\n",
       "    <tr>\n",
       "      <th>1</th>\n",
       "      <td>[Arts, Crafts &amp; Sewing, Crafting, Paper &amp; Pape...</td>\n",
       "      <td>Origami Stars Papers Package 1H (5 packs)</td>\n",
       "    </tr>\n",
       "    <tr>\n",
       "      <th>2</th>\n",
       "      <td>[Arts, Crafts &amp; Sewing, Painting, Drawing &amp; Ar...</td>\n",
       "      <td>Yi De Ge Chinese Calligraphy Sumi Drawing Blac...</td>\n",
       "    </tr>\n",
       "  </tbody>\n",
       "</table>\n",
       "</div>"
      ],
      "text/plain": [
       "                                            category  \\\n",
       "0  [Arts, Crafts & Sewing, Sewing, Trim & Embelli...   \n",
       "1  [Arts, Crafts & Sewing, Crafting, Paper & Pape...   \n",
       "2  [Arts, Crafts & Sewing, Painting, Drawing & Ar...   \n",
       "\n",
       "                                               title  \n",
       "0         You Son of a Bitch! 1987 Embroidered Patch  \n",
       "1          Origami Stars Papers Package 1H (5 packs)  \n",
       "2  Yi De Ge Chinese Calligraphy Sumi Drawing Blac...  "
      ]
     },
     "execution_count": 8,
     "metadata": {},
     "output_type": "execute_result"
    }
   ],
   "source": [
    "df = get_meta_data(domains[3], nrows=10000)\n",
    "df.head(3)"
   ]
  },
  {
   "cell_type": "raw",
   "metadata": {
    "scrolled": false
   },
   "source": [
    "for dmn in domains:\n",
    "    df = get_meta_data(dmn, nrows=1000)\n",
    "    print(dmn, df.shape)\n",
    "    display(df.sample(5))"
   ]
  },
  {
   "cell_type": "markdown",
   "metadata": {},
   "source": [
    "# preprocess data"
   ]
  },
  {
   "cell_type": "markdown",
   "metadata": {},
   "source": [
    "## concate"
   ]
  },
  {
   "cell_type": "code",
   "execution_count": 9,
   "metadata": {},
   "outputs": [
    {
     "name": "stdout",
     "output_type": "stream",
     "text": [
      "AMAZON_FASHION\n",
      "All_Beauty\n",
      "Appliance\n",
      "(29639, 2)\n"
     ]
    },
    {
     "data": {
      "text/html": [
       "<div>\n",
       "<style scoped>\n",
       "    .dataframe tbody tr th:only-of-type {\n",
       "        vertical-align: middle;\n",
       "    }\n",
       "\n",
       "    .dataframe tbody tr th {\n",
       "        vertical-align: top;\n",
       "    }\n",
       "\n",
       "    .dataframe thead th {\n",
       "        text-align: right;\n",
       "    }\n",
       "</style>\n",
       "<table border=\"1\" class=\"dataframe\">\n",
       "  <thead>\n",
       "    <tr style=\"text-align: right;\">\n",
       "      <th></th>\n",
       "      <th>category</th>\n",
       "      <th>title</th>\n",
       "    </tr>\n",
       "  </thead>\n",
       "  <tbody>\n",
       "    <tr>\n",
       "      <th>27618</th>\n",
       "      <td>[Appliances, Parts &amp;amp; Accessories]</td>\n",
       "      <td>Minn Kota Riptide Ulterra 80/IP w/i-Pilot - No...</td>\n",
       "    </tr>\n",
       "    <tr>\n",
       "      <th>19299</th>\n",
       "      <td>[Appliances, Parts &amp; Accessories, Range Parts ...</td>\n",
       "      <td>Frigidaire 316218401 Control Knob Range/Stove/...</td>\n",
       "    </tr>\n",
       "  </tbody>\n",
       "</table>\n",
       "</div>"
      ],
      "text/plain": [
       "                                                category  \\\n",
       "27618              [Appliances, Parts &amp; Accessories]   \n",
       "19299  [Appliances, Parts & Accessories, Range Parts ...   \n",
       "\n",
       "                                                   title  \n",
       "27618  Minn Kota Riptide Ulterra 80/IP w/i-Pilot - No...  \n",
       "19299  Frigidaire 316218401 Control Knob Range/Stove/...  "
      ]
     },
     "metadata": {},
     "output_type": "display_data"
    },
    {
     "name": "stdout",
     "output_type": "stream",
     "text": [
      "Arts_Crafts_and_Sewi\n",
      "(284889, 2)\n"
     ]
    },
    {
     "data": {
      "text/html": [
       "<div>\n",
       "<style scoped>\n",
       "    .dataframe tbody tr th:only-of-type {\n",
       "        vertical-align: middle;\n",
       "    }\n",
       "\n",
       "    .dataframe tbody tr th {\n",
       "        vertical-align: top;\n",
       "    }\n",
       "\n",
       "    .dataframe thead th {\n",
       "        text-align: right;\n",
       "    }\n",
       "</style>\n",
       "<table border=\"1\" class=\"dataframe\">\n",
       "  <thead>\n",
       "    <tr style=\"text-align: right;\">\n",
       "      <th></th>\n",
       "      <th>category</th>\n",
       "      <th>title</th>\n",
       "    </tr>\n",
       "  </thead>\n",
       "  <tbody>\n",
       "    <tr>\n",
       "      <th>54809</th>\n",
       "      <td>[Arts, Crafts &amp; Sewing, Sewing, Trim &amp; Embelli...</td>\n",
       "      <td>City Of Los Angeles Patch 3&amp;quot;</td>\n",
       "    </tr>\n",
       "    <tr>\n",
       "      <th>206018</th>\n",
       "      <td>[Arts, Crafts &amp; Sewing, Sewing, Trim &amp; Embelli...</td>\n",
       "      <td>Cotton Linen Blend Fabric Ribbon, 5/8-inch, 25...</td>\n",
       "    </tr>\n",
       "  </tbody>\n",
       "</table>\n",
       "</div>"
      ],
      "text/plain": [
       "                                                 category  \\\n",
       "54809   [Arts, Crafts & Sewing, Sewing, Trim & Embelli...   \n",
       "206018  [Arts, Crafts & Sewing, Sewing, Trim & Embelli...   \n",
       "\n",
       "                                                    title  \n",
       "54809                   City Of Los Angeles Patch 3&quot;  \n",
       "206018  Cotton Linen Blend Fabric Ribbon, 5/8-inch, 25...  "
      ]
     },
     "metadata": {},
     "output_type": "display_data"
    },
    {
     "name": "stdout",
     "output_type": "stream",
     "text": [
      "Automotive\n",
      "(897587, 2)\n"
     ]
    },
    {
     "data": {
      "text/html": [
       "<div>\n",
       "<style scoped>\n",
       "    .dataframe tbody tr th:only-of-type {\n",
       "        vertical-align: middle;\n",
       "    }\n",
       "\n",
       "    .dataframe tbody tr th {\n",
       "        vertical-align: top;\n",
       "    }\n",
       "\n",
       "    .dataframe thead th {\n",
       "        text-align: right;\n",
       "    }\n",
       "</style>\n",
       "<table border=\"1\" class=\"dataframe\">\n",
       "  <thead>\n",
       "    <tr style=\"text-align: right;\">\n",
       "      <th></th>\n",
       "      <th>category</th>\n",
       "      <th>title</th>\n",
       "    </tr>\n",
       "  </thead>\n",
       "  <tbody>\n",
       "    <tr>\n",
       "      <th>741718</th>\n",
       "      <td>[Automotive, Replacement Parts, Gaskets, Full ...</td>\n",
       "      <td>Speedmaster PCE347.1009 Engine Gasket Sets</td>\n",
       "    </tr>\n",
       "    <tr>\n",
       "      <th>821345</th>\n",
       "      <td>[Automotive, Replacement Parts, Fuel System, F...</td>\n",
       "      <td>GMB 596-1150 Generator Fuel Pump</td>\n",
       "    </tr>\n",
       "  </tbody>\n",
       "</table>\n",
       "</div>"
      ],
      "text/plain": [
       "                                                 category  \\\n",
       "741718  [Automotive, Replacement Parts, Gaskets, Full ...   \n",
       "821345  [Automotive, Replacement Parts, Fuel System, F...   \n",
       "\n",
       "                                             title  \n",
       "741718  Speedmaster PCE347.1009 Engine Gasket Sets  \n",
       "821345            GMB 596-1150 Generator Fuel Pump  "
      ]
     },
     "metadata": {},
     "output_type": "display_data"
    },
    {
     "name": "stdout",
     "output_type": "stream",
     "text": [
      "Book\n",
      "(2545520, 2)\n"
     ]
    },
    {
     "data": {
      "text/html": [
       "<div>\n",
       "<style scoped>\n",
       "    .dataframe tbody tr th:only-of-type {\n",
       "        vertical-align: middle;\n",
       "    }\n",
       "\n",
       "    .dataframe tbody tr th {\n",
       "        vertical-align: top;\n",
       "    }\n",
       "\n",
       "    .dataframe thead th {\n",
       "        text-align: right;\n",
       "    }\n",
       "</style>\n",
       "<table border=\"1\" class=\"dataframe\">\n",
       "  <thead>\n",
       "    <tr style=\"text-align: right;\">\n",
       "      <th></th>\n",
       "      <th>category</th>\n",
       "      <th>title</th>\n",
       "    </tr>\n",
       "  </thead>\n",
       "  <tbody>\n",
       "    <tr>\n",
       "      <th>1902591</th>\n",
       "      <td>[Books, Comics &amp;amp; Graphic Novels, Graphic N...</td>\n",
       "      <td>Batman: The Movies</td>\n",
       "    </tr>\n",
       "    <tr>\n",
       "      <th>410132</th>\n",
       "      <td>[Books, Literature &amp;amp; Fiction, Poetry]</td>\n",
       "      <td>Canto General</td>\n",
       "    </tr>\n",
       "  </tbody>\n",
       "</table>\n",
       "</div>"
      ],
      "text/plain": [
       "                                                  category               title\n",
       "1902591  [Books, Comics &amp; Graphic Novels, Graphic N...  Batman: The Movies\n",
       "410132           [Books, Literature &amp; Fiction, Poetry]       Canto General"
      ]
     },
     "metadata": {},
     "output_type": "display_data"
    },
    {
     "name": "stdout",
     "output_type": "stream",
     "text": [
      "CDs_and_Vinyl\n",
      "(516914, 2)\n"
     ]
    },
    {
     "data": {
      "text/html": [
       "<div>\n",
       "<style scoped>\n",
       "    .dataframe tbody tr th:only-of-type {\n",
       "        vertical-align: middle;\n",
       "    }\n",
       "\n",
       "    .dataframe tbody tr th {\n",
       "        vertical-align: top;\n",
       "    }\n",
       "\n",
       "    .dataframe thead th {\n",
       "        text-align: right;\n",
       "    }\n",
       "</style>\n",
       "<table border=\"1\" class=\"dataframe\">\n",
       "  <thead>\n",
       "    <tr style=\"text-align: right;\">\n",
       "      <th></th>\n",
       "      <th>category</th>\n",
       "      <th>title</th>\n",
       "    </tr>\n",
       "  </thead>\n",
       "  <tbody>\n",
       "    <tr>\n",
       "      <th>308073</th>\n",
       "      <td>[CDs &amp; Vinyl, Alternative Rock, Indie &amp; Lo-Fi,...</td>\n",
       "      <td>Dirty Reggae</td>\n",
       "    </tr>\n",
       "    <tr>\n",
       "      <th>37667</th>\n",
       "      <td>[CDs &amp; Vinyl, Blues, Regional Blues, Texas Blues]</td>\n",
       "      <td>Coffee House Blues</td>\n",
       "    </tr>\n",
       "  </tbody>\n",
       "</table>\n",
       "</div>"
      ],
      "text/plain": [
       "                                                 category               title\n",
       "308073  [CDs & Vinyl, Alternative Rock, Indie & Lo-Fi,...        Dirty Reggae\n",
       "37667   [CDs & Vinyl, Blues, Regional Blues, Texas Blues]  Coffee House Blues"
      ]
     },
     "metadata": {},
     "output_type": "display_data"
    },
    {
     "name": "stdout",
     "output_type": "stream",
     "text": [
      "Cell_Phones_and_Accessorie\n",
      "(534466, 2)\n"
     ]
    },
    {
     "data": {
      "text/html": [
       "<div>\n",
       "<style scoped>\n",
       "    .dataframe tbody tr th:only-of-type {\n",
       "        vertical-align: middle;\n",
       "    }\n",
       "\n",
       "    .dataframe tbody tr th {\n",
       "        vertical-align: top;\n",
       "    }\n",
       "\n",
       "    .dataframe thead th {\n",
       "        text-align: right;\n",
       "    }\n",
       "</style>\n",
       "<table border=\"1\" class=\"dataframe\">\n",
       "  <thead>\n",
       "    <tr style=\"text-align: right;\">\n",
       "      <th></th>\n",
       "      <th>category</th>\n",
       "      <th>title</th>\n",
       "    </tr>\n",
       "  </thead>\n",
       "  <tbody>\n",
       "    <tr>\n",
       "      <th>243901</th>\n",
       "      <td>[Cell Phones &amp; Accessories, Accessories, Signa...</td>\n",
       "      <td>zBoost YX545 SOHO Cell Phone Signal Booster</td>\n",
       "    </tr>\n",
       "    <tr>\n",
       "      <th>397973</th>\n",
       "      <td>[Cell Phones &amp; Accessories, Cases, Holsters &amp; ...</td>\n",
       "      <td>Custom Black Veil Brides Design TPU Snap On Ca...</td>\n",
       "    </tr>\n",
       "  </tbody>\n",
       "</table>\n",
       "</div>"
      ],
      "text/plain": [
       "                                                 category  \\\n",
       "243901  [Cell Phones & Accessories, Accessories, Signa...   \n",
       "397973  [Cell Phones & Accessories, Cases, Holsters & ...   \n",
       "\n",
       "                                                    title  \n",
       "243901        zBoost YX545 SOHO Cell Phone Signal Booster  \n",
       "397973  Custom Black Veil Brides Design TPU Snap On Ca...  "
      ]
     },
     "metadata": {},
     "output_type": "display_data"
    },
    {
     "name": "stdout",
     "output_type": "stream",
     "text": [
      "Clothing_Shoes_and_Jewelry\n",
      "(2665530, 2)\n"
     ]
    },
    {
     "data": {
      "text/html": [
       "<div>\n",
       "<style scoped>\n",
       "    .dataframe tbody tr th:only-of-type {\n",
       "        vertical-align: middle;\n",
       "    }\n",
       "\n",
       "    .dataframe tbody tr th {\n",
       "        vertical-align: top;\n",
       "    }\n",
       "\n",
       "    .dataframe thead th {\n",
       "        text-align: right;\n",
       "    }\n",
       "</style>\n",
       "<table border=\"1\" class=\"dataframe\">\n",
       "  <thead>\n",
       "    <tr style=\"text-align: right;\">\n",
       "      <th></th>\n",
       "      <th>category</th>\n",
       "      <th>title</th>\n",
       "    </tr>\n",
       "  </thead>\n",
       "  <tbody>\n",
       "    <tr>\n",
       "      <th>1105079</th>\n",
       "      <td>[Clothing, Shoes &amp; Jewelry, Women, Clothing, D...</td>\n",
       "      <td>Urban Identity Women's Framed Bodycon Sheath E...</td>\n",
       "    </tr>\n",
       "    <tr>\n",
       "      <th>1977429</th>\n",
       "      <td>[Clothing, Shoes &amp; Jewelry, Girls, Clothing, C...</td>\n",
       "      <td>Kirei Sui Girls Blue Lavender Satin Trimmed Tu...</td>\n",
       "    </tr>\n",
       "  </tbody>\n",
       "</table>\n",
       "</div>"
      ],
      "text/plain": [
       "                                                  category  \\\n",
       "1105079  [Clothing, Shoes & Jewelry, Women, Clothing, D...   \n",
       "1977429  [Clothing, Shoes & Jewelry, Girls, Clothing, C...   \n",
       "\n",
       "                                                     title  \n",
       "1105079  Urban Identity Women's Framed Bodycon Sheath E...  \n",
       "1977429  Kirei Sui Girls Blue Lavender Satin Trimmed Tu...  "
      ]
     },
     "metadata": {},
     "output_type": "display_data"
    },
    {
     "name": "stdout",
     "output_type": "stream",
     "text": [
      "Digital_Music\n",
      "(7, 2)\n"
     ]
    },
    {
     "data": {
      "text/html": [
       "<div>\n",
       "<style scoped>\n",
       "    .dataframe tbody tr th:only-of-type {\n",
       "        vertical-align: middle;\n",
       "    }\n",
       "\n",
       "    .dataframe tbody tr th {\n",
       "        vertical-align: top;\n",
       "    }\n",
       "\n",
       "    .dataframe thead th {\n",
       "        text-align: right;\n",
       "    }\n",
       "</style>\n",
       "<table border=\"1\" class=\"dataframe\">\n",
       "  <thead>\n",
       "    <tr style=\"text-align: right;\">\n",
       "      <th></th>\n",
       "      <th>category</th>\n",
       "      <th>title</th>\n",
       "    </tr>\n",
       "  </thead>\n",
       "  <tbody>\n",
       "    <tr>\n",
       "      <th>35678</th>\n",
       "      <td>[Digital Music, Blues, Electric Blues Guitar]</td>\n",
       "      <td>Shinybow VGA Video + Audio CAT5 Receiver SB-6110R</td>\n",
       "    </tr>\n",
       "    <tr>\n",
       "      <th>70842</th>\n",
       "      <td>[Digital Music, Broadway &amp; Vocalists]</td>\n",
       "      <td>&lt;span id=\"parentalAdvisory\" class=\"a-size-medi...</td>\n",
       "    </tr>\n",
       "  </tbody>\n",
       "</table>\n",
       "</div>"
      ],
      "text/plain": [
       "                                            category  \\\n",
       "35678  [Digital Music, Blues, Electric Blues Guitar]   \n",
       "70842          [Digital Music, Broadway & Vocalists]   \n",
       "\n",
       "                                                   title  \n",
       "35678  Shinybow VGA Video + Audio CAT5 Receiver SB-6110R  \n",
       "70842  <span id=\"parentalAdvisory\" class=\"a-size-medi...  "
      ]
     },
     "metadata": {},
     "output_type": "display_data"
    },
    {
     "name": "stdout",
     "output_type": "stream",
     "text": [
      "Electronic\n",
      "(786445, 2)\n"
     ]
    },
    {
     "data": {
      "text/html": [
       "<div>\n",
       "<style scoped>\n",
       "    .dataframe tbody tr th:only-of-type {\n",
       "        vertical-align: middle;\n",
       "    }\n",
       "\n",
       "    .dataframe tbody tr th {\n",
       "        vertical-align: top;\n",
       "    }\n",
       "\n",
       "    .dataframe thead th {\n",
       "        text-align: right;\n",
       "    }\n",
       "</style>\n",
       "<table border=\"1\" class=\"dataframe\">\n",
       "  <thead>\n",
       "    <tr style=\"text-align: right;\">\n",
       "      <th></th>\n",
       "      <th>category</th>\n",
       "      <th>title</th>\n",
       "    </tr>\n",
       "  </thead>\n",
       "  <tbody>\n",
       "    <tr>\n",
       "      <th>767155</th>\n",
       "      <td>[Electronics, Computers &amp; Accessories, Laptop ...</td>\n",
       "      <td>Custom&amp;nbsp;Vinyl&amp;nbsp;Decal Monogram Sticker,...</td>\n",
       "    </tr>\n",
       "    <tr>\n",
       "      <th>275863</th>\n",
       "      <td>[Electronics, Computers &amp; Accessories, Data St...</td>\n",
       "      <td>Icy Dock MB662USEB-2S-1 DAS Hard Drive Array</td>\n",
       "    </tr>\n",
       "  </tbody>\n",
       "</table>\n",
       "</div>"
      ],
      "text/plain": [
       "                                                 category  \\\n",
       "767155  [Electronics, Computers & Accessories, Laptop ...   \n",
       "275863  [Electronics, Computers & Accessories, Data St...   \n",
       "\n",
       "                                                    title  \n",
       "767155  Custom&nbsp;Vinyl&nbsp;Decal Monogram Sticker,...  \n",
       "275863       Icy Dock MB662USEB-2S-1 DAS Hard Drive Array  "
      ]
     },
     "metadata": {},
     "output_type": "display_data"
    },
    {
     "name": "stdout",
     "output_type": "stream",
     "text": [
      "Gift_Card\n",
      "(1542, 2)\n"
     ]
    },
    {
     "data": {
      "text/html": [
       "<div>\n",
       "<style scoped>\n",
       "    .dataframe tbody tr th:only-of-type {\n",
       "        vertical-align: middle;\n",
       "    }\n",
       "\n",
       "    .dataframe tbody tr th {\n",
       "        vertical-align: top;\n",
       "    }\n",
       "\n",
       "    .dataframe thead th {\n",
       "        text-align: right;\n",
       "    }\n",
       "</style>\n",
       "<table border=\"1\" class=\"dataframe\">\n",
       "  <thead>\n",
       "    <tr style=\"text-align: right;\">\n",
       "      <th></th>\n",
       "      <th>category</th>\n",
       "      <th>title</th>\n",
       "    </tr>\n",
       "  </thead>\n",
       "  <tbody>\n",
       "    <tr>\n",
       "      <th>310</th>\n",
       "      <td>[Gift Cards, Gift Cards, &lt;/span&gt;&lt;/span&gt;&lt;/span&gt;]</td>\n",
       "      <td>Microsoft Xbox 52M-00158 X360 Live 12 month Go...</td>\n",
       "    </tr>\n",
       "    <tr>\n",
       "      <th>42</th>\n",
       "      <td>[Gift Cards, Gift Cards, No expiration, no fee...</td>\n",
       "      <td>Amazon Gift Card - Print - Thank You</td>\n",
       "    </tr>\n",
       "  </tbody>\n",
       "</table>\n",
       "</div>"
      ],
      "text/plain": [
       "                                              category  \\\n",
       "310    [Gift Cards, Gift Cards, </span></span></span>]   \n",
       "42   [Gift Cards, Gift Cards, No expiration, no fee...   \n",
       "\n",
       "                                                 title  \n",
       "310  Microsoft Xbox 52M-00158 X360 Live 12 month Go...  \n",
       "42                Amazon Gift Card - Print - Thank You  "
      ]
     },
     "metadata": {},
     "output_type": "display_data"
    },
    {
     "name": "stdout",
     "output_type": "stream",
     "text": [
      "Grocery_and_Gourmet_Food\n",
      "(287051, 2)\n"
     ]
    },
    {
     "data": {
      "text/html": [
       "<div>\n",
       "<style scoped>\n",
       "    .dataframe tbody tr th:only-of-type {\n",
       "        vertical-align: middle;\n",
       "    }\n",
       "\n",
       "    .dataframe tbody tr th {\n",
       "        vertical-align: top;\n",
       "    }\n",
       "\n",
       "    .dataframe thead th {\n",
       "        text-align: right;\n",
       "    }\n",
       "</style>\n",
       "<table border=\"1\" class=\"dataframe\">\n",
       "  <thead>\n",
       "    <tr style=\"text-align: right;\">\n",
       "      <th></th>\n",
       "      <th>category</th>\n",
       "      <th>title</th>\n",
       "    </tr>\n",
       "  </thead>\n",
       "  <tbody>\n",
       "    <tr>\n",
       "      <th>61797</th>\n",
       "      <td>[Grocery &amp; Gourmet Food, Snack Foods, Cookies,...</td>\n",
       "      <td>Walkers Shortbread Homebake Fingers, 5.3-Ounce...</td>\n",
       "    </tr>\n",
       "    <tr>\n",
       "      <th>112930</th>\n",
       "      <td>[Grocery &amp; Gourmet Food, Snack Foods, Crackers]</td>\n",
       "      <td>Nairn's Oat Crackers, Sunflower, 6.03-Ounce</td>\n",
       "    </tr>\n",
       "  </tbody>\n",
       "</table>\n",
       "</div>"
      ],
      "text/plain": [
       "                                                 category  \\\n",
       "61797   [Grocery & Gourmet Food, Snack Foods, Cookies,...   \n",
       "112930    [Grocery & Gourmet Food, Snack Foods, Crackers]   \n",
       "\n",
       "                                                    title  \n",
       "61797   Walkers Shortbread Homebake Fingers, 5.3-Ounce...  \n",
       "112930        Nairn's Oat Crackers, Sunflower, 6.03-Ounce  "
      ]
     },
     "metadata": {},
     "output_type": "display_data"
    },
    {
     "name": "stdout",
     "output_type": "stream",
     "text": [
      "Home_and_Kitche\n",
      "(1300540, 2)\n"
     ]
    },
    {
     "data": {
      "text/html": [
       "<div>\n",
       "<style scoped>\n",
       "    .dataframe tbody tr th:only-of-type {\n",
       "        vertical-align: middle;\n",
       "    }\n",
       "\n",
       "    .dataframe tbody tr th {\n",
       "        vertical-align: top;\n",
       "    }\n",
       "\n",
       "    .dataframe thead th {\n",
       "        text-align: right;\n",
       "    }\n",
       "</style>\n",
       "<table border=\"1\" class=\"dataframe\">\n",
       "  <thead>\n",
       "    <tr style=\"text-align: right;\">\n",
       "      <th></th>\n",
       "      <th>category</th>\n",
       "      <th>title</th>\n",
       "    </tr>\n",
       "  </thead>\n",
       "  <tbody>\n",
       "    <tr>\n",
       "      <th>553366</th>\n",
       "      <td>[Home &amp; Kitchen, Home Dcor, Home Dcor Accents,...</td>\n",
       "      <td>Ball Game Today Small Baseball Distressed Stee...</td>\n",
       "    </tr>\n",
       "    <tr>\n",
       "      <th>604756</th>\n",
       "      <td>[Home &amp; Kitchen, Bedding, Decorative Pillows, ...</td>\n",
       "      <td>IMAX 86018 Bloom Pillow, Purple</td>\n",
       "    </tr>\n",
       "  </tbody>\n",
       "</table>\n",
       "</div>"
      ],
      "text/plain": [
       "                                                 category  \\\n",
       "553366  [Home & Kitchen, Home Dcor, Home Dcor Accents,...   \n",
       "604756  [Home & Kitchen, Bedding, Decorative Pillows, ...   \n",
       "\n",
       "                                                    title  \n",
       "553366  Ball Game Today Small Baseball Distressed Stee...  \n",
       "604756                    IMAX 86018 Bloom Pillow, Purple  "
      ]
     },
     "metadata": {},
     "output_type": "display_data"
    },
    {
     "name": "stdout",
     "output_type": "stream",
     "text": [
      "Industrial_and_Scientific\n",
      "(159350, 2)\n"
     ]
    },
    {
     "data": {
      "text/html": [
       "<div>\n",
       "<style scoped>\n",
       "    .dataframe tbody tr th:only-of-type {\n",
       "        vertical-align: middle;\n",
       "    }\n",
       "\n",
       "    .dataframe tbody tr th {\n",
       "        vertical-align: top;\n",
       "    }\n",
       "\n",
       "    .dataframe thead th {\n",
       "        text-align: right;\n",
       "    }\n",
       "</style>\n",
       "<table border=\"1\" class=\"dataframe\">\n",
       "  <thead>\n",
       "    <tr style=\"text-align: right;\">\n",
       "      <th></th>\n",
       "      <th>category</th>\n",
       "      <th>title</th>\n",
       "    </tr>\n",
       "  </thead>\n",
       "  <tbody>\n",
       "    <tr>\n",
       "      <th>82441</th>\n",
       "      <td>[Industrial &amp; Scientific, Industrial Hardware,...</td>\n",
       "      <td>The Hillman Group 853040 .148 x 7/8-Inch Angle...</td>\n",
       "    </tr>\n",
       "    <tr>\n",
       "      <th>141826</th>\n",
       "      <td>[Industrial &amp; Scientific, Fasteners, Bolts, He...</td>\n",
       "      <td>uxcell M8 x 25mm Full Thread Nylon Metric Hex ...</td>\n",
       "    </tr>\n",
       "  </tbody>\n",
       "</table>\n",
       "</div>"
      ],
      "text/plain": [
       "                                                 category  \\\n",
       "82441   [Industrial & Scientific, Industrial Hardware,...   \n",
       "141826  [Industrial & Scientific, Fasteners, Bolts, He...   \n",
       "\n",
       "                                                    title  \n",
       "82441   The Hillman Group 853040 .148 x 7/8-Inch Angle...  \n",
       "141826  uxcell M8 x 25mm Full Thread Nylon Metric Hex ...  "
      ]
     },
     "metadata": {},
     "output_type": "display_data"
    },
    {
     "name": "stdout",
     "output_type": "stream",
     "text": [
      "Kindle_Store\n",
      "(491670, 2)\n"
     ]
    },
    {
     "data": {
      "text/html": [
       "<div>\n",
       "<style scoped>\n",
       "    .dataframe tbody tr th:only-of-type {\n",
       "        vertical-align: middle;\n",
       "    }\n",
       "\n",
       "    .dataframe tbody tr th {\n",
       "        vertical-align: top;\n",
       "    }\n",
       "\n",
       "    .dataframe thead th {\n",
       "        text-align: right;\n",
       "    }\n",
       "</style>\n",
       "<table border=\"1\" class=\"dataframe\">\n",
       "  <thead>\n",
       "    <tr style=\"text-align: right;\">\n",
       "      <th></th>\n",
       "      <th>category</th>\n",
       "      <th>title</th>\n",
       "    </tr>\n",
       "  </thead>\n",
       "  <tbody>\n",
       "    <tr>\n",
       "      <th>416972</th>\n",
       "      <td>[Kindle Store, Kindle eBooks, Science Fiction ...</td>\n",
       "      <td>Wasteland Warriors</td>\n",
       "    </tr>\n",
       "    <tr>\n",
       "      <th>468092</th>\n",
       "      <td>[Kindle Store, Kindle eBooks, Arts &amp; Photography]</td>\n",
       "      <td>Superhero Coloring Book: Coloring Books for Ki...</td>\n",
       "    </tr>\n",
       "  </tbody>\n",
       "</table>\n",
       "</div>"
      ],
      "text/plain": [
       "                                                 category  \\\n",
       "416972  [Kindle Store, Kindle eBooks, Science Fiction ...   \n",
       "468092  [Kindle Store, Kindle eBooks, Arts & Photography]   \n",
       "\n",
       "                                                    title  \n",
       "416972                                 Wasteland Warriors  \n",
       "468092  Superhero Coloring Book: Coloring Books for Ki...  "
      ]
     },
     "metadata": {},
     "output_type": "display_data"
    },
    {
     "name": "stdout",
     "output_type": "stream",
     "text": [
      "Luxury_Beauty\n",
      "Magazine_Subscripti\n",
      "(2883, 2)\n"
     ]
    },
    {
     "data": {
      "text/html": [
       "<div>\n",
       "<style scoped>\n",
       "    .dataframe tbody tr th:only-of-type {\n",
       "        vertical-align: middle;\n",
       "    }\n",
       "\n",
       "    .dataframe tbody tr th {\n",
       "        vertical-align: top;\n",
       "    }\n",
       "\n",
       "    .dataframe thead th {\n",
       "        text-align: right;\n",
       "    }\n",
       "</style>\n",
       "<table border=\"1\" class=\"dataframe\">\n",
       "  <thead>\n",
       "    <tr style=\"text-align: right;\">\n",
       "      <th></th>\n",
       "      <th>category</th>\n",
       "      <th>title</th>\n",
       "    </tr>\n",
       "  </thead>\n",
       "  <tbody>\n",
       "    <tr>\n",
       "      <th>632</th>\n",
       "      <td>[Magazine Subscriptions, Fashion &amp; Style, Women]</td>\n",
       "      <td>&lt;span class=\"a-size-medium a-color-secondary\"</td>\n",
       "    </tr>\n",
       "    <tr>\n",
       "      <th>1039</th>\n",
       "      <td>[Magazine Subscriptions, Arts, Music &amp; Photogr...</td>\n",
       "      <td>&lt;span class=\"a-size-medium a-color-secondary\"</td>\n",
       "    </tr>\n",
       "  </tbody>\n",
       "</table>\n",
       "</div>"
      ],
      "text/plain": [
       "                                               category  \\\n",
       "632    [Magazine Subscriptions, Fashion & Style, Women]   \n",
       "1039  [Magazine Subscriptions, Arts, Music & Photogr...   \n",
       "\n",
       "                                              title  \n",
       "632   <span class=\"a-size-medium a-color-secondary\"  \n",
       "1039  <span class=\"a-size-medium a-color-secondary\"  "
      ]
     },
     "metadata": {},
     "output_type": "display_data"
    },
    {
     "name": "stdout",
     "output_type": "stream",
     "text": [
      "Movies_and_TV\n",
      "(203541, 2)\n"
     ]
    },
    {
     "data": {
      "text/html": [
       "<div>\n",
       "<style scoped>\n",
       "    .dataframe tbody tr th:only-of-type {\n",
       "        vertical-align: middle;\n",
       "    }\n",
       "\n",
       "    .dataframe tbody tr th {\n",
       "        vertical-align: top;\n",
       "    }\n",
       "\n",
       "    .dataframe thead th {\n",
       "        text-align: right;\n",
       "    }\n",
       "</style>\n",
       "<table border=\"1\" class=\"dataframe\">\n",
       "  <thead>\n",
       "    <tr style=\"text-align: right;\">\n",
       "      <th></th>\n",
       "      <th>category</th>\n",
       "      <th>title</th>\n",
       "    </tr>\n",
       "  </thead>\n",
       "  <tbody>\n",
       "    <tr>\n",
       "      <th>183070</th>\n",
       "      <td>[Movies &amp; TV, Studio Specials, Warner Home Vid...</td>\n",
       "      <td>Duck Dodgers: Seasons 1 and 2 (Dark Side of th...</td>\n",
       "    </tr>\n",
       "    <tr>\n",
       "      <th>180516</th>\n",
       "      <td>[Movies &amp; TV, Discovery Channel]</td>\n",
       "      <td>SONY PICTURES HOME ENTER Inside Job</td>\n",
       "    </tr>\n",
       "  </tbody>\n",
       "</table>\n",
       "</div>"
      ],
      "text/plain": [
       "                                                 category  \\\n",
       "183070  [Movies & TV, Studio Specials, Warner Home Vid...   \n",
       "180516                   [Movies & TV, Discovery Channel]   \n",
       "\n",
       "                                                    title  \n",
       "183070  Duck Dodgers: Seasons 1 and 2 (Dark Side of th...  \n",
       "180516                SONY PICTURES HOME ENTER Inside Job  "
      ]
     },
     "metadata": {},
     "output_type": "display_data"
    },
    {
     "name": "stdout",
     "output_type": "stream",
     "text": [
      "Musical_Instrument\n",
      "(114397, 2)\n"
     ]
    },
    {
     "data": {
      "text/html": [
       "<div>\n",
       "<style scoped>\n",
       "    .dataframe tbody tr th:only-of-type {\n",
       "        vertical-align: middle;\n",
       "    }\n",
       "\n",
       "    .dataframe tbody tr th {\n",
       "        vertical-align: top;\n",
       "    }\n",
       "\n",
       "    .dataframe thead th {\n",
       "        text-align: right;\n",
       "    }\n",
       "</style>\n",
       "<table border=\"1\" class=\"dataframe\">\n",
       "  <thead>\n",
       "    <tr style=\"text-align: right;\">\n",
       "      <th></th>\n",
       "      <th>category</th>\n",
       "      <th>title</th>\n",
       "    </tr>\n",
       "  </thead>\n",
       "  <tbody>\n",
       "    <tr>\n",
       "      <th>56705</th>\n",
       "      <td>[Musical Instruments, Live Sound &amp; Stage, Moni...</td>\n",
       "      <td>Pair of Rockville Tripod DJ PA Speaker Stands ...</td>\n",
       "    </tr>\n",
       "    <tr>\n",
       "      <th>97755</th>\n",
       "      <td>[Musical Instruments, Drums &amp; Percussion, Hand...</td>\n",
       "      <td>Tunable Sheesham Tambourine 10&amp;quot; Deluxe w/...</td>\n",
       "    </tr>\n",
       "  </tbody>\n",
       "</table>\n",
       "</div>"
      ],
      "text/plain": [
       "                                                category  \\\n",
       "56705  [Musical Instruments, Live Sound & Stage, Moni...   \n",
       "97755  [Musical Instruments, Drums & Percussion, Hand...   \n",
       "\n",
       "                                                   title  \n",
       "56705  Pair of Rockville Tripod DJ PA Speaker Stands ...  \n",
       "97755  Tunable Sheesham Tambourine 10&quot; Deluxe w/...  "
      ]
     },
     "metadata": {},
     "output_type": "display_data"
    },
    {
     "name": "stdout",
     "output_type": "stream",
     "text": [
      "Office_Product\n",
      "(298876, 2)\n"
     ]
    },
    {
     "data": {
      "text/html": [
       "<div>\n",
       "<style scoped>\n",
       "    .dataframe tbody tr th:only-of-type {\n",
       "        vertical-align: middle;\n",
       "    }\n",
       "\n",
       "    .dataframe tbody tr th {\n",
       "        vertical-align: top;\n",
       "    }\n",
       "\n",
       "    .dataframe thead th {\n",
       "        text-align: right;\n",
       "    }\n",
       "</style>\n",
       "<table border=\"1\" class=\"dataframe\">\n",
       "  <thead>\n",
       "    <tr style=\"text-align: right;\">\n",
       "      <th></th>\n",
       "      <th>category</th>\n",
       "      <th>title</th>\n",
       "    </tr>\n",
       "  </thead>\n",
       "  <tbody>\n",
       "    <tr>\n",
       "      <th>52475</th>\n",
       "      <td>[Office Products, Office Electronics, Other Of...</td>\n",
       "      <td>Aurora  AU1215XB 31215 12-Sheet Medium-Duty Cr...</td>\n",
       "    </tr>\n",
       "    <tr>\n",
       "      <th>53314</th>\n",
       "      <td>[Office Products, Office &amp; School Supplies, Wr...</td>\n",
       "      <td>Pilot Mechanical Pencil S10, Transparent Black...</td>\n",
       "    </tr>\n",
       "  </tbody>\n",
       "</table>\n",
       "</div>"
      ],
      "text/plain": [
       "                                                category  \\\n",
       "52475  [Office Products, Office Electronics, Other Of...   \n",
       "53314  [Office Products, Office & School Supplies, Wr...   \n",
       "\n",
       "                                                   title  \n",
       "52475  Aurora  AU1215XB 31215 12-Sheet Medium-Duty Cr...  \n",
       "53314  Pilot Mechanical Pencil S10, Transparent Black...  "
      ]
     },
     "metadata": {},
     "output_type": "display_data"
    },
    {
     "name": "stdout",
     "output_type": "stream",
     "text": [
      "Patio_Lawn_and_Garde\n",
      "(279456, 2)\n"
     ]
    },
    {
     "data": {
      "text/html": [
       "<div>\n",
       "<style scoped>\n",
       "    .dataframe tbody tr th:only-of-type {\n",
       "        vertical-align: middle;\n",
       "    }\n",
       "\n",
       "    .dataframe tbody tr th {\n",
       "        vertical-align: top;\n",
       "    }\n",
       "\n",
       "    .dataframe thead th {\n",
       "        text-align: right;\n",
       "    }\n",
       "</style>\n",
       "<table border=\"1\" class=\"dataframe\">\n",
       "  <thead>\n",
       "    <tr style=\"text-align: right;\">\n",
       "      <th></th>\n",
       "      <th>category</th>\n",
       "      <th>title</th>\n",
       "    </tr>\n",
       "  </thead>\n",
       "  <tbody>\n",
       "    <tr>\n",
       "      <th>185794</th>\n",
       "      <td>[Patio, Lawn &amp; Garden, Grills &amp; Outdoor Cookin...</td>\n",
       "      <td>Chefmate Wireless Grilling Thermometer - Progr...</td>\n",
       "    </tr>\n",
       "    <tr>\n",
       "      <th>93302</th>\n",
       "      <td>[Patio, Lawn &amp; Garden, Grills &amp; Outdoor Cookin...</td>\n",
       "      <td>Vermont Casting 50004555 Smoker box</td>\n",
       "    </tr>\n",
       "  </tbody>\n",
       "</table>\n",
       "</div>"
      ],
      "text/plain": [
       "                                                 category  \\\n",
       "185794  [Patio, Lawn & Garden, Grills & Outdoor Cookin...   \n",
       "93302   [Patio, Lawn & Garden, Grills & Outdoor Cookin...   \n",
       "\n",
       "                                                    title  \n",
       "185794  Chefmate Wireless Grilling Thermometer - Progr...  \n",
       "93302                 Vermont Casting 50004555 Smoker box  "
      ]
     },
     "metadata": {},
     "output_type": "display_data"
    },
    {
     "name": "stdout",
     "output_type": "stream",
     "text": [
      "Pet_Supplie\n",
      "(189454, 2)\n"
     ]
    },
    {
     "data": {
      "text/html": [
       "<div>\n",
       "<style scoped>\n",
       "    .dataframe tbody tr th:only-of-type {\n",
       "        vertical-align: middle;\n",
       "    }\n",
       "\n",
       "    .dataframe tbody tr th {\n",
       "        vertical-align: top;\n",
       "    }\n",
       "\n",
       "    .dataframe thead th {\n",
       "        text-align: right;\n",
       "    }\n",
       "</style>\n",
       "<table border=\"1\" class=\"dataframe\">\n",
       "  <thead>\n",
       "    <tr style=\"text-align: right;\">\n",
       "      <th></th>\n",
       "      <th>category</th>\n",
       "      <th>title</th>\n",
       "    </tr>\n",
       "  </thead>\n",
       "  <tbody>\n",
       "    <tr>\n",
       "      <th>160931</th>\n",
       "      <td>[Pet Supplies, Cats, Litter &amp; Housebreaking, L...</td>\n",
       "      <td>Plastic Pet Dog Cat Kitten Litter Scoop Scoope...</td>\n",
       "    </tr>\n",
       "    <tr>\n",
       "      <th>170225</th>\n",
       "      <td>[Pet Supplies, Dogs, Health Supplies, Wormers]</td>\n",
       "      <td>PETARMOR 12 Count Worm-Away Caps for Dogs</td>\n",
       "    </tr>\n",
       "  </tbody>\n",
       "</table>\n",
       "</div>"
      ],
      "text/plain": [
       "                                                 category  \\\n",
       "160931  [Pet Supplies, Cats, Litter & Housebreaking, L...   \n",
       "170225     [Pet Supplies, Dogs, Health Supplies, Wormers]   \n",
       "\n",
       "                                                    title  \n",
       "160931  Plastic Pet Dog Cat Kitten Litter Scoop Scoope...  \n",
       "170225          PETARMOR 12 Count Worm-Away Caps for Dogs  "
      ]
     },
     "metadata": {},
     "output_type": "display_data"
    },
    {
     "name": "stdout",
     "output_type": "stream",
     "text": [
      "Prime_Pantry\n",
      "Software\n",
      "(24727, 2)\n"
     ]
    },
    {
     "data": {
      "text/html": [
       "<div>\n",
       "<style scoped>\n",
       "    .dataframe tbody tr th:only-of-type {\n",
       "        vertical-align: middle;\n",
       "    }\n",
       "\n",
       "    .dataframe tbody tr th {\n",
       "        vertical-align: top;\n",
       "    }\n",
       "\n",
       "    .dataframe thead th {\n",
       "        text-align: right;\n",
       "    }\n",
       "</style>\n",
       "<table border=\"1\" class=\"dataframe\">\n",
       "  <thead>\n",
       "    <tr style=\"text-align: right;\">\n",
       "      <th></th>\n",
       "      <th>category</th>\n",
       "      <th>title</th>\n",
       "    </tr>\n",
       "  </thead>\n",
       "  <tbody>\n",
       "    <tr>\n",
       "      <th>12068</th>\n",
       "      <td>[Software, Music, Instrument Instruction]</td>\n",
       "      <td>Singing Coach Unlimited</td>\n",
       "    </tr>\n",
       "    <tr>\n",
       "      <th>5541</th>\n",
       "      <td>[Software, Children's, Early Learning]</td>\n",
       "      <td>Sammy's Science House</td>\n",
       "    </tr>\n",
       "  </tbody>\n",
       "</table>\n",
       "</div>"
      ],
      "text/plain": [
       "                                        category                    title\n",
       "12068  [Software, Music, Instrument Instruction]  Singing Coach Unlimited\n",
       "5541      [Software, Children's, Early Learning]    Sammy's Science House"
      ]
     },
     "metadata": {},
     "output_type": "display_data"
    },
    {
     "name": "stdout",
     "output_type": "stream",
     "text": [
      "Sports_and_Outdoor\n",
      "(893979, 2)\n"
     ]
    },
    {
     "data": {
      "text/html": [
       "<div>\n",
       "<style scoped>\n",
       "    .dataframe tbody tr th:only-of-type {\n",
       "        vertical-align: middle;\n",
       "    }\n",
       "\n",
       "    .dataframe tbody tr th {\n",
       "        vertical-align: top;\n",
       "    }\n",
       "\n",
       "    .dataframe thead th {\n",
       "        text-align: right;\n",
       "    }\n",
       "</style>\n",
       "<table border=\"1\" class=\"dataframe\">\n",
       "  <thead>\n",
       "    <tr style=\"text-align: right;\">\n",
       "      <th></th>\n",
       "      <th>category</th>\n",
       "      <th>title</th>\n",
       "    </tr>\n",
       "  </thead>\n",
       "  <tbody>\n",
       "    <tr>\n",
       "      <th>190820</th>\n",
       "      <td>[Sports &amp; Outdoors, Outdoor Recreation, Campin...</td>\n",
       "      <td>Chef Craft 21439 1-Piece 12 by 12 Food Tent, W...</td>\n",
       "    </tr>\n",
       "    <tr>\n",
       "      <th>468063</th>\n",
       "      <td>[Sports &amp; Outdoors, Fan Shop, Home &amp; Kitchen, ...</td>\n",
       "      <td>WinCraft NCAA Auburn University 52196012 Multi...</td>\n",
       "    </tr>\n",
       "  </tbody>\n",
       "</table>\n",
       "</div>"
      ],
      "text/plain": [
       "                                                 category  \\\n",
       "190820  [Sports & Outdoors, Outdoor Recreation, Campin...   \n",
       "468063  [Sports & Outdoors, Fan Shop, Home & Kitchen, ...   \n",
       "\n",
       "                                                    title  \n",
       "190820  Chef Craft 21439 1-Piece 12 by 12 Food Tent, W...  \n",
       "468063  WinCraft NCAA Auburn University 52196012 Multi...  "
      ]
     },
     "metadata": {},
     "output_type": "display_data"
    },
    {
     "name": "stdout",
     "output_type": "stream",
     "text": [
      "Tools_and_Home_Improvement\n",
      "(544118, 2)\n"
     ]
    },
    {
     "data": {
      "text/html": [
       "<div>\n",
       "<style scoped>\n",
       "    .dataframe tbody tr th:only-of-type {\n",
       "        vertical-align: middle;\n",
       "    }\n",
       "\n",
       "    .dataframe tbody tr th {\n",
       "        vertical-align: top;\n",
       "    }\n",
       "\n",
       "    .dataframe thead th {\n",
       "        text-align: right;\n",
       "    }\n",
       "</style>\n",
       "<table border=\"1\" class=\"dataframe\">\n",
       "  <thead>\n",
       "    <tr style=\"text-align: right;\">\n",
       "      <th></th>\n",
       "      <th>category</th>\n",
       "      <th>title</th>\n",
       "    </tr>\n",
       "  </thead>\n",
       "  <tbody>\n",
       "    <tr>\n",
       "      <th>18539</th>\n",
       "      <td>[Tools &amp; Home Improvement, Power &amp; Hand Tools,...</td>\n",
       "      <td>Milwaukee 48-52-5010 4-Inch Stringer Bead Wheel</td>\n",
       "    </tr>\n",
       "    <tr>\n",
       "      <th>504525</th>\n",
       "      <td>[Tools &amp; Home Improvement, Electrical]</td>\n",
       "      <td>Sunward Natural Rock Crystal Quartz Hexagonal ...</td>\n",
       "    </tr>\n",
       "  </tbody>\n",
       "</table>\n",
       "</div>"
      ],
      "text/plain": [
       "                                                 category  \\\n",
       "18539   [Tools & Home Improvement, Power & Hand Tools,...   \n",
       "504525             [Tools & Home Improvement, Electrical]   \n",
       "\n",
       "                                                    title  \n",
       "18539     Milwaukee 48-52-5010 4-Inch Stringer Bead Wheel  \n",
       "504525  Sunward Natural Rock Crystal Quartz Hexagonal ...  "
      ]
     },
     "metadata": {},
     "output_type": "display_data"
    },
    {
     "name": "stdout",
     "output_type": "stream",
     "text": [
      "Toys_and_Game\n",
      "(571640, 2)\n"
     ]
    },
    {
     "data": {
      "text/html": [
       "<div>\n",
       "<style scoped>\n",
       "    .dataframe tbody tr th:only-of-type {\n",
       "        vertical-align: middle;\n",
       "    }\n",
       "\n",
       "    .dataframe tbody tr th {\n",
       "        vertical-align: top;\n",
       "    }\n",
       "\n",
       "    .dataframe thead th {\n",
       "        text-align: right;\n",
       "    }\n",
       "</style>\n",
       "<table border=\"1\" class=\"dataframe\">\n",
       "  <thead>\n",
       "    <tr style=\"text-align: right;\">\n",
       "      <th></th>\n",
       "      <th>category</th>\n",
       "      <th>title</th>\n",
       "    </tr>\n",
       "  </thead>\n",
       "  <tbody>\n",
       "    <tr>\n",
       "      <th>264601</th>\n",
       "      <td>[Toys &amp; Games, Party Supplies, Party Packs]</td>\n",
       "      <td>SpongeBob SquarePants Theme Birthday Party or ...</td>\n",
       "    </tr>\n",
       "    <tr>\n",
       "      <th>449082</th>\n",
       "      <td>[Toys &amp; Games, Dress Up &amp; Pretend Play, Access...</td>\n",
       "      <td>Aviator Black Bomber Hat &amp;amp; Goggles - One Size</td>\n",
       "    </tr>\n",
       "  </tbody>\n",
       "</table>\n",
       "</div>"
      ],
      "text/plain": [
       "                                                 category  \\\n",
       "264601        [Toys & Games, Party Supplies, Party Packs]   \n",
       "449082  [Toys & Games, Dress Up & Pretend Play, Access...   \n",
       "\n",
       "                                                    title  \n",
       "264601  SpongeBob SquarePants Theme Birthday Party or ...  \n",
       "449082  Aviator Black Bomber Hat &amp; Goggles - One Size  "
      ]
     },
     "metadata": {},
     "output_type": "display_data"
    },
    {
     "name": "stdout",
     "output_type": "stream",
     "text": [
      "Video_Game\n",
      "(82394, 2)\n"
     ]
    },
    {
     "data": {
      "text/html": [
       "<div>\n",
       "<style scoped>\n",
       "    .dataframe tbody tr th:only-of-type {\n",
       "        vertical-align: middle;\n",
       "    }\n",
       "\n",
       "    .dataframe tbody tr th {\n",
       "        vertical-align: top;\n",
       "    }\n",
       "\n",
       "    .dataframe thead th {\n",
       "        text-align: right;\n",
       "    }\n",
       "</style>\n",
       "<table border=\"1\" class=\"dataframe\">\n",
       "  <thead>\n",
       "    <tr style=\"text-align: right;\">\n",
       "      <th></th>\n",
       "      <th>category</th>\n",
       "      <th>title</th>\n",
       "    </tr>\n",
       "  </thead>\n",
       "  <tbody>\n",
       "    <tr>\n",
       "      <th>45129</th>\n",
       "      <td>[Video Games, Retro Gaming &amp; Microconsoles, Pl...</td>\n",
       "      <td>Naruto Shippuden Ultimate Ninja 5 Ps2 PAL</td>\n",
       "    </tr>\n",
       "    <tr>\n",
       "      <th>19004</th>\n",
       "      <td>[Video Games, Retro Gaming &amp; Microconsoles, Ga...</td>\n",
       "      <td>Pokemon GB Color Carry Case-GB4 - Game Boy Color</td>\n",
       "    </tr>\n",
       "  </tbody>\n",
       "</table>\n",
       "</div>"
      ],
      "text/plain": [
       "                                                category  \\\n",
       "45129  [Video Games, Retro Gaming & Microconsoles, Pl...   \n",
       "19004  [Video Games, Retro Gaming & Microconsoles, Ga...   \n",
       "\n",
       "                                                  title  \n",
       "45129         Naruto Shippuden Ultimate Ninja 5 Ps2 PAL  \n",
       "19004  Pokemon GB Color Carry Case-GB4 - Game Boy Color  "
      ]
     },
     "metadata": {},
     "output_type": "display_data"
    }
   ],
   "source": [
    "dfs = []\n",
    "for dmn in domains:\n",
    "    print(dmn)\n",
    "    df = get_meta_data(dmn, nrows=None)\n",
    "    if set(df.columns)!= KEYS2USE: continue\n",
    "    df = df[df.category.apply(len)>0]\n",
    "    if len(df)==0: continue\n",
    "    print(df.shape)\n",
    "    display(df.sample(2))\n",
    "    dfs.append(df)"
   ]
  },
  {
   "cell_type": "code",
   "execution_count": 10,
   "metadata": {
    "scrolled": true
   },
   "outputs": [
    {
     "data": {
      "text/plain": [
       "(13706615, 2)"
      ]
     },
     "execution_count": 10,
     "metadata": {},
     "output_type": "execute_result"
    }
   ],
   "source": [
    "df = pd.concat(dfs)\n",
    "df.shape"
   ]
  },
  {
   "cell_type": "code",
   "execution_count": 11,
   "metadata": {
    "scrolled": true
   },
   "outputs": [
    {
     "data": {
      "text/html": [
       "<div>\n",
       "<style scoped>\n",
       "    .dataframe tbody tr th:only-of-type {\n",
       "        vertical-align: middle;\n",
       "    }\n",
       "\n",
       "    .dataframe tbody tr th {\n",
       "        vertical-align: top;\n",
       "    }\n",
       "\n",
       "    .dataframe thead th {\n",
       "        text-align: right;\n",
       "    }\n",
       "</style>\n",
       "<table border=\"1\" class=\"dataframe\">\n",
       "  <thead>\n",
       "    <tr style=\"text-align: right;\">\n",
       "      <th></th>\n",
       "      <th>category</th>\n",
       "      <th>title</th>\n",
       "    </tr>\n",
       "  </thead>\n",
       "  <tbody>\n",
       "    <tr>\n",
       "      <th>977765</th>\n",
       "      <td>[Home &amp; Kitchen, Kitchen &amp; Dining, Dining &amp; En...</td>\n",
       "      <td>BUNN Glass Coffee Pot Decanter/Carafe, Orange,...</td>\n",
       "    </tr>\n",
       "    <tr>\n",
       "      <th>270428</th>\n",
       "      <td>[Tools &amp; Home Improvement, Power &amp; Hand Tools,...</td>\n",
       "      <td>PT 37875 Pipe Dies 3/4&amp;quot; Manual Pipe threa...</td>\n",
       "    </tr>\n",
       "    <tr>\n",
       "      <th>17134</th>\n",
       "      <td>[Grocery &amp; Gourmet Food, Candy &amp; Chocolate, Ha...</td>\n",
       "      <td>Rockit Energy Pops, 80-Count Display Box</td>\n",
       "    </tr>\n",
       "  </tbody>\n",
       "</table>\n",
       "</div>"
      ],
      "text/plain": [
       "                                                 category  \\\n",
       "977765  [Home & Kitchen, Kitchen & Dining, Dining & En...   \n",
       "270428  [Tools & Home Improvement, Power & Hand Tools,...   \n",
       "17134   [Grocery & Gourmet Food, Candy & Chocolate, Ha...   \n",
       "\n",
       "                                                    title  \n",
       "977765  BUNN Glass Coffee Pot Decanter/Carafe, Orange,...  \n",
       "270428  PT 37875 Pipe Dies 3/4&quot; Manual Pipe threa...  \n",
       "17134            Rockit Energy Pops, 80-Count Display Box  "
      ]
     },
     "execution_count": 11,
     "metadata": {},
     "output_type": "execute_result"
    }
   ],
   "source": [
    "df.sample(3)"
   ]
  },
  {
   "cell_type": "markdown",
   "metadata": {},
   "source": [
    "## cleanup"
   ]
  },
  {
   "cell_type": "markdown",
   "metadata": {},
   "source": [
    "### category"
   ]
  },
  {
   "cell_type": "code",
   "execution_count": 12,
   "metadata": {},
   "outputs": [
    {
     "name": "stdout",
     "output_type": "stream",
     "text": [
      "df.shape: (13706615, 2)\n",
      "CPU times: user 3min 31s, sys: 4.81 s, total: 3min 36s\n",
      "Wall time: 3min 36s\n"
     ]
    }
   ],
   "source": [
    "%%time\n",
    "def try2eval(x):\n",
    "    try:\n",
    "        x = eval(x)\n",
    "        x = (o.replace('|','') for o in x)\n",
    "        return '|'.join(x)\n",
    "    except SyntaxError:\n",
    "        return \"\"\n",
    "\n",
    "df.category = df.category.astype(str)\n",
    "df.category = df.category.apply(try2eval)\n",
    "print(\"df.shape:\", df.shape)"
   ]
  },
  {
   "cell_type": "markdown",
   "metadata": {},
   "source": [
    "### text"
   ]
  },
  {
   "cell_type": "code",
   "execution_count": 13,
   "metadata": {},
   "outputs": [],
   "source": [
    "import re\n",
    "\n",
    "def cleanhtml(raw_html):\n",
    "    cleanr = re.compile('<.*?>')\n",
    "    cleantext = re.sub(cleanr, '', raw_html)\n",
    "    return cleantext"
   ]
  },
  {
   "cell_type": "code",
   "execution_count": 14,
   "metadata": {},
   "outputs": [
    {
     "name": "stdout",
     "output_type": "stream",
     "text": [
      "CPU times: user 34.9 s, sys: 200 ms, total: 35.1 s\n",
      "Wall time: 35.1 s\n"
     ]
    }
   ],
   "source": [
    "%%time\n",
    "df.title = df.title.apply(cleanhtml)"
   ]
  },
  {
   "cell_type": "markdown",
   "metadata": {},
   "source": [
    "# train val split"
   ]
  },
  {
   "cell_type": "code",
   "execution_count": 15,
   "metadata": {},
   "outputs": [],
   "source": [
    "import numpy as np\n",
    "\n",
    "np.random.seed(101)\n",
    "df['is_validation'] = np.random.choice(2, size=len(df), p=[0.85,0.15])"
   ]
  },
  {
   "cell_type": "code",
   "execution_count": 16,
   "metadata": {},
   "outputs": [
    {
     "data": {
      "text/plain": [
       "0    11649808\n",
       "1     2056807\n",
       "Name: is_validation, dtype: int64"
      ]
     },
     "execution_count": 16,
     "metadata": {},
     "output_type": "execute_result"
    }
   ],
   "source": [
    "df.is_validation.value_counts()"
   ]
  },
  {
   "cell_type": "code",
   "execution_count": 17,
   "metadata": {},
   "outputs": [
    {
     "data": {
      "text/html": [
       "<div>\n",
       "<style scoped>\n",
       "    .dataframe tbody tr th:only-of-type {\n",
       "        vertical-align: middle;\n",
       "    }\n",
       "\n",
       "    .dataframe tbody tr th {\n",
       "        vertical-align: top;\n",
       "    }\n",
       "\n",
       "    .dataframe thead th {\n",
       "        text-align: right;\n",
       "    }\n",
       "</style>\n",
       "<table border=\"1\" class=\"dataframe\">\n",
       "  <thead>\n",
       "    <tr style=\"text-align: right;\">\n",
       "      <th></th>\n",
       "      <th>category</th>\n",
       "      <th>title</th>\n",
       "      <th>is_validation</th>\n",
       "    </tr>\n",
       "  </thead>\n",
       "  <tbody>\n",
       "    <tr>\n",
       "      <th>966930</th>\n",
       "      <td>Home &amp; Kitchen|Furniture</td>\n",
       "      <td>1,000-lb. Capacity Heavy-Duty Portable Chair</td>\n",
       "      <td>0</td>\n",
       "    </tr>\n",
       "    <tr>\n",
       "      <th>412242</th>\n",
       "      <td>Automotive|Replacement Parts|Brake System|Rotors</td>\n",
       "      <td>DuraGo BP691 MS Front Semi-Metallic Brake Pad</td>\n",
       "      <td>0</td>\n",
       "    </tr>\n",
       "    <tr>\n",
       "      <th>508706</th>\n",
       "      <td>Books|Literature &amp;amp; Fiction|Short Stories &amp;...</td>\n",
       "      <td>Sevenfold</td>\n",
       "      <td>0</td>\n",
       "    </tr>\n",
       "  </tbody>\n",
       "</table>\n",
       "</div>"
      ],
      "text/plain": [
       "                                                 category  \\\n",
       "966930                           Home & Kitchen|Furniture   \n",
       "412242   Automotive|Replacement Parts|Brake System|Rotors   \n",
       "508706  Books|Literature &amp; Fiction|Short Stories &...   \n",
       "\n",
       "                                                title  is_validation  \n",
       "966930   1,000-lb. Capacity Heavy-Duty Portable Chair              0  \n",
       "412242  DuraGo BP691 MS Front Semi-Metallic Brake Pad              0  \n",
       "508706                                      Sevenfold              0  "
      ]
     },
     "execution_count": 17,
     "metadata": {},
     "output_type": "execute_result"
    }
   ],
   "source": [
    "df.sample(3)"
   ]
  },
  {
   "cell_type": "markdown",
   "metadata": {},
   "source": [
    "# save"
   ]
  },
  {
   "cell_type": "code",
   "execution_count": 18,
   "metadata": {},
   "outputs": [
    {
     "name": "stdout",
     "output_type": "stream",
     "text": [
      "CPU times: user 1min 32s, sys: 4.58 s, total: 1min 37s\n",
      "Wall time: 1min 38s\n"
     ]
    }
   ],
   "source": [
    "%%time\n",
    "df.to_csv(f'../data/data__{prfx}.csv', index=False)"
   ]
  },
  {
   "cell_type": "code",
   "execution_count": 19,
   "metadata": {},
   "outputs": [
    {
     "name": "stdout",
     "output_type": "stream",
     "text": [
      "-rw-rw-r-- 1 ubuntu ubuntu 2.1G Mar  7 16:48 ../data/data__prep_20210307B1.csv\r\n"
     ]
    }
   ],
   "source": [
    "ls -hl ../data/data__{prfx}.csv"
   ]
  },
  {
   "cell_type": "markdown",
   "metadata": {},
   "source": [
    "## make a sample"
   ]
  },
  {
   "cell_type": "code",
   "execution_count": 20,
   "metadata": {},
   "outputs": [],
   "source": [
    "import numpy as np\n",
    "np.random.seed(101)\n",
    "df_sample = df.sample(10000)"
   ]
  },
  {
   "cell_type": "code",
   "execution_count": 21,
   "metadata": {},
   "outputs": [],
   "source": [
    "df_sample.to_csv(f'../data/data_sample__{prfx}.csv', index=False)"
   ]
  },
  {
   "cell_type": "markdown",
   "metadata": {},
   "source": [
    "## make more samples"
   ]
  },
  {
   "cell_type": "code",
   "execution_count": 3,
   "metadata": {},
   "outputs": [
    {
     "name": "stdout",
     "output_type": "stream",
     "text": [
      "CPU times: user 22.2 s, sys: 3.06 s, total: 25.2 s\n",
      "Wall time: 33.2 s\n"
     ]
    }
   ],
   "source": [
    "%%time\n",
    "df = pd.read_csv(f'../data/data__{prfx}.csv')"
   ]
  },
  {
   "cell_type": "code",
   "execution_count": 4,
   "metadata": {},
   "outputs": [
    {
     "data": {
      "text/plain": [
       "13706615"
      ]
     },
     "execution_count": 4,
     "metadata": {},
     "output_type": "execute_result"
    }
   ],
   "source": [
    "len(df)"
   ]
  },
  {
   "cell_type": "code",
   "execution_count": 5,
   "metadata": {},
   "outputs": [],
   "source": [
    "for sz in (int(o) for o in (1e4, 1e5, 5e5, 1e6, 5e6)):\n",
    "    df_sample = df.sample(sz)\n",
    "    df_sample.to_csv(f'../data/data_sample_{sz}__{prfx}.csv', index=False)"
   ]
  },
  {
   "cell_type": "code",
   "execution_count": null,
   "metadata": {},
   "outputs": [],
   "source": []
  }
 ],
 "metadata": {
  "kernelspec": {
   "display_name": "product-category",
   "language": "python",
   "name": "product-category"
  },
  "language_info": {
   "codemirror_mode": {
    "name": "ipython",
    "version": 3
   },
   "file_extension": ".py",
   "mimetype": "text/x-python",
   "name": "python",
   "nbconvert_exporter": "python",
   "pygments_lexer": "ipython3",
   "version": "3.7.9"
  },
  "toc": {
   "base_numbering": 1,
   "nav_menu": {},
   "number_sections": true,
   "sideBar": true,
   "skip_h1_title": false,
   "title_cell": "Table of Contents",
   "title_sidebar": "Contents",
   "toc_cell": false,
   "toc_position": {},
   "toc_section_display": true,
   "toc_window_display": true
  }
 },
 "nbformat": 4,
 "nbformat_minor": 4
}
