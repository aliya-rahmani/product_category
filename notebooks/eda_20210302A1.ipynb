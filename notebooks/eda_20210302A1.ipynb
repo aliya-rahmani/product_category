{
 "cells": [
  {
   "cell_type": "code",
   "execution_count": 22,
   "metadata": {},
   "outputs": [],
   "source": [
    "import pandas as pd\n",
    "from collections import Counter"
   ]
  },
  {
   "cell_type": "code",
   "execution_count": 23,
   "metadata": {},
   "outputs": [],
   "source": [
    "# http://localhost:8080/notebooks/git/product-category/notebooks/prep_20210302A1.ipynb\n",
    "prfx_prp = 'prep_20210302B1'"
   ]
  },
  {
   "cell_type": "raw",
   "metadata": {},
   "source": [
    "%%time\n",
    "df = pd.read_csv(f'../data/data__{prfx_prp}.csv')\n",
    "df.shape"
   ]
  },
  {
   "cell_type": "code",
   "execution_count": 61,
   "metadata": {
    "scrolled": true
   },
   "outputs": [
    {
     "name": "stdout",
     "output_type": "stream",
     "text": [
      "CPU times: user 88.1 ms, sys: 7.9 ms, total: 96 ms\n",
      "Wall time: 94.2 ms\n"
     ]
    },
    {
     "data": {
      "text/plain": [
       "(10000, 7)"
      ]
     },
     "execution_count": 61,
     "metadata": {},
     "output_type": "execute_result"
    }
   ],
   "source": [
    "%%time\n",
    "df = pd.read_csv(f'../data/data_sample__{prfx_prp}.csv')\n",
    "df.shape"
   ]
  },
  {
   "cell_type": "code",
   "execution_count": 62,
   "metadata": {},
   "outputs": [
    {
     "data": {
      "text/plain": [
       "0       [Clothing, Shoes & Jewelry, Women, Contemporar...\n",
       "1       [Tools & Home Improvement, Measuring & Layout ...\n",
       "2       [Clothing, Shoes & Jewelry, Novelty & More, Cl...\n",
       "3       [Home & Kitchen, Kitchen & Dining, Dining & En...\n",
       "4       [Automotive, Motorcycle & Powersports, Protect...\n",
       "                              ...                        \n",
       "9995    [Clothing, Shoes & Jewelry, Novelty & More, Cl...\n",
       "9996         [Books, Literature & Fiction, Genre Fiction]\n",
       "9997    [Tools & Home Improvement, Power & Hand Tools,...\n",
       "9998    [Electronics, Computers & Accessories, Network...\n",
       "9999    [Clothing, Shoes & Jewelry, Women, Shoes, Boot...\n",
       "Name: category, Length: 10000, dtype: object"
      ]
     },
     "execution_count": 62,
     "metadata": {},
     "output_type": "execute_result"
    }
   ],
   "source": [
    "df['category'] = df.category.apply(eval)\n",
    "df.category"
   ]
  },
  {
   "cell_type": "code",
   "execution_count": 63,
   "metadata": {},
   "outputs": [
    {
     "name": "stdout",
     "output_type": "stream",
     "text": [
      "23\n"
     ]
    },
    {
     "data": {
      "text/plain": [
       "[('Clothing_Shoes_and_Jewelry', 1907),\n",
       " ('Book', 1878),\n",
       " ('Home_and_Kitche', 927),\n",
       " ('Automotive', 669),\n",
       " ('Sports_and_Outdoor', 637),\n",
       " ('Electronic', 598),\n",
       " ('Tools_and_Home_Improvement', 409),\n",
       " ('Cell_Phones_and_Accessorie', 397),\n",
       " ('Toys_and_Game', 397),\n",
       " ('Kindle_Store', 380)]"
      ]
     },
     "execution_count": 63,
     "metadata": {},
     "output_type": "execute_result"
    }
   ],
   "source": [
    "dmn2cnt = Counter(df.domain.value_counts().to_dict())\n",
    "print(len(dmn2cnt))\n",
    "dmn2cnt.most_common(10)"
   ]
  },
  {
   "cell_type": "code",
   "execution_count": 64,
   "metadata": {},
   "outputs": [
    {
     "name": "stdout",
     "output_type": "stream",
     "text": [
      "9226\n"
     ]
    },
    {
     "data": {
      "text/plain": [
       "[('Clothing, Shoes & Jewelry', 1907),\n",
       " ('Books', 1878),\n",
       " ('Women', 1046),\n",
       " ('Clothing', 960),\n",
       " ('Home & Kitchen', 959),\n",
       " ('Automotive', 674),\n",
       " ('Sports & Outdoors', 657),\n",
       " ('Electronics', 601),\n",
       " ('Men', 585),\n",
       " ('Accessories', 518)]"
      ]
     },
     "execution_count": 64,
     "metadata": {},
     "output_type": "execute_result"
    }
   ],
   "source": [
    "cat2cnt = Counter([j for i in df.category for j in i])\n",
    "print(len(cat2cnt))\n",
    "cat2cnt.most_common(10)"
   ]
  },
  {
   "cell_type": "code",
   "execution_count": 65,
   "metadata": {},
   "outputs": [
    {
     "data": {
      "text/plain": [
       "[('Birdhouses', 1),\n",
       " ('Brand:Newartist', 1),\n",
       " ('Width: 0.35 inches', 1),\n",
       " ('Color:black', 1),\n",
       " ('Size range:5 sizes', 1),\n",
       " (\"These short-sleeve baby bodysuits are 100% combed ringspun cotton jersey for your baby's comfort. The reinforced three snap closure makes diaper changing a breeze.\",\n",
       "  1),\n",
       " ('Romper designs are professionally printed. Your unique design will make someone smile with funny, cute, vintage, or expressive artwork.',\n",
       "  1),\n",
       " (\"Make this newborn creeper the perfect gift for mom-to-be, Mother's Day, baby shower, baby birthday, and Christmas.\",\n",
       "  1),\n",
       " ('Machine wash cold inside out with like colors. Tumble dry low for easy and convenient care. IMPORTED.',\n",
       "  1),\n",
       " ('Hubs', 1)]"
      ]
     },
     "execution_count": 65,
     "metadata": {},
     "output_type": "execute_result"
    }
   ],
   "source": [
    "cat2cnt.most_common()[-10:]"
   ]
  },
  {
   "cell_type": "code",
   "execution_count": 66,
   "metadata": {},
   "outputs": [
    {
     "data": {
      "text/plain": [
       "(111,\n",
       " ['100% Cotton',\n",
       "  '100% Leather',\n",
       "  '100% Polyester',\n",
       "  'Accessories',\n",
       "  'Accessories & Supplies'])"
      ]
     },
     "execution_count": 66,
     "metadata": {},
     "output_type": "execute_result"
    }
   ],
   "source": [
    "i2cat = sorted(k for k,v in cat2cnt.items() if v>50)\n",
    "len(i2cat), i2cat[:5]"
   ]
  },
  {
   "cell_type": "code",
   "execution_count": null,
   "metadata": {},
   "outputs": [],
   "source": []
  },
  {
   "cell_type": "code",
   "execution_count": null,
   "metadata": {},
   "outputs": [],
   "source": []
  },
  {
   "cell_type": "code",
   "execution_count": null,
   "metadata": {},
   "outputs": [],
   "source": []
  },
  {
   "cell_type": "code",
   "execution_count": null,
   "metadata": {},
   "outputs": [],
   "source": []
  }
 ],
 "metadata": {
  "kernelspec": {
   "display_name": "product-category",
   "language": "python",
   "name": "product-category"
  },
  "language_info": {
   "codemirror_mode": {
    "name": "ipython",
    "version": 3
   },
   "file_extension": ".py",
   "mimetype": "text/x-python",
   "name": "python",
   "nbconvert_exporter": "python",
   "pygments_lexer": "ipython3",
   "version": "3.7.9"
  },
  "toc": {
   "base_numbering": 1,
   "nav_menu": {},
   "number_sections": true,
   "sideBar": true,
   "skip_h1_title": false,
   "title_cell": "Table of Contents",
   "title_sidebar": "Contents",
   "toc_cell": false,
   "toc_position": {},
   "toc_section_display": true,
   "toc_window_display": false
  }
 },
 "nbformat": 4,
 "nbformat_minor": 4
}
