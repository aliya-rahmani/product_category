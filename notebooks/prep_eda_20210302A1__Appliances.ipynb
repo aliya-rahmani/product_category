{
 "cells": [
  {
   "cell_type": "markdown",
   "metadata": {},
   "source": [
    "- https://nijianmo.github.io/amazon/index.html\n",
    "- https://jmcauley.ucsd.edu/data/amazon/ \n",
    "- https://colab.research.google.com/drive/1Zv6MARGQcrBbLHyjPVVMZVnRWsRnVMpV"
   ]
  },
  {
   "cell_type": "markdown",
   "metadata": {},
   "source": [
    "# get data"
   ]
  },
  {
   "cell_type": "code",
   "execution_count": 1,
   "metadata": {},
   "outputs": [],
   "source": [
    "import pandas as pd\n",
    "import gzip\n",
    "import json"
   ]
  },
  {
   "cell_type": "code",
   "execution_count": 2,
   "metadata": {
    "scrolled": true
   },
   "outputs": [
    {
     "name": "stdout",
     "output_type": "stream",
     "text": [
      "\u001b[0m\u001b[01;34mamazon_meta_data\u001b[0m/\r\n"
     ]
    }
   ],
   "source": [
    "ls ../data"
   ]
  },
  {
   "cell_type": "code",
   "execution_count": 3,
   "metadata": {},
   "outputs": [
    {
     "name": "stdout",
     "output_type": "stream",
     "text": [
      "30445\n",
      "{'category': ['Appliances', 'Refrigerators, Freezers & Ice Makers'], 'tech1': ' class=\"a-keyvalue prodDetTable\" role=\"presentation\">\\n         \\n           \\n           \\n           \\n           <tr>\\n            \\n            \\n              \\n              \\n               \\n                <th class=\"a-color-secondary a-size-base prodDetSectionEntry\">\\n                  Brand Name\\n                </th>\\n                \\n              \\n            \\n            \\n           \\n            <td class=\"a-size-base\">\\n              Tupperware\\n            </td>\\n            \\n           </tr>\\n           \\n           \\n           \\n           <tr>\\n            \\n            \\n              \\n              \\n               \\n                <th class=\"a-color-secondary a-size-base prodDetSectionEntry\">\\n                  Item Weight\\n                </th>\\n                \\n              \\n            \\n            \\n           \\n            <td class=\"a-size-base\">\\n              9.6 ounces\\n            </td>\\n            \\n           </tr>\\n           \\n           \\n           \\n           <tr>\\n            \\n            \\n              \\n              \\n               \\n                <th class=\"a-color-secondary a-size-base prodDetSectionEntry\">\\n                  Package Dimensions\\n                </th>\\n                \\n              \\n            \\n            \\n           \\n            <td class=\"a-size-base\">\\n              8.2 x 5 x 4.5 inches\\n            </td>\\n            \\n           </tr>\\n           \\n           \\n          \\n        ', 'description': [], 'fit': '', 'title': 'Tupperware Freezer Square Round Container Set of 6', 'also_buy': [], 'image': [], 'tech2': '', 'brand': 'Tupperware', 'feature': ['Each 3-pc. set includes two 7/8-cup/200 mL and one 1-3/4-cup/400 mL.', 'Use them to keep sandwich fillings, salads or leftovers fresh in the refrigerator.', 'Gently twist the container to \"pop\" out frozen foods for reheating.', 'Dishwasher Safe.', 'Set weights less than 13 oz!'], 'rank': ['>#39,745 in Appliances (See top 100)'], 'also_view': [], 'details': {}, 'main_cat': 'Appliances', 'similar_item': '', 'date': 'November 19, 2008', 'price': '', 'asin': '7301113188'}\n",
      "30445\n",
      "0\n",
      "30445\n"
     ]
    }
   ],
   "source": [
    "# https://colab.research.google.com/drive/1Zv6MARGQcrBbLHyjPVVMZVnRWsRnVMpV#scrollTo=7igYuRaV4bF7\n",
    "    \n",
    "### load the meta data\n",
    "\n",
    "data = []\n",
    "with gzip.open('../data/amazon_meta_data/meta_Appliances.json.gz') as f:\n",
    "    for l in f:\n",
    "        data.append(json.loads(l.strip()))\n",
    "    \n",
    "# total length of list, this number equals total number of products\n",
    "print(len(data))\n",
    "\n",
    "# first row of the list\n",
    "print(data[0])\n",
    "\n",
    "# convert list into pandas dataframe\n",
    "\n",
    "df = pd.DataFrame.from_dict(data)\n",
    "\n",
    "print(len(df))\n",
    "\n",
    "\n",
    "### remove rows with unformatted title (i.e. some 'title' may still contain html style content)\n",
    "\n",
    "df3 = df.fillna('')\n",
    "df4 = df3[df3.title.str.contains('getTime')] # unformatted rows\n",
    "df5 = df3[~df3.title.str.contains('getTime')] # filter those unformatted rows\n",
    "print(len(df4))\n",
    "print(len(df5))\n",
    "\n",
    "# how those unformatted rows look like"
   ]
  },
  {
   "cell_type": "code",
   "execution_count": 4,
   "metadata": {},
   "outputs": [],
   "source": [
    "# https://colab.research.google.com/drive/1Zv6MARGQcrBbLHyjPVVMZVnRWsRnVMpV#scrollTo=7igYuRaV4bF7\n",
    "    \n",
    "### load the meta data\n",
    "def get_meta_data(pth):\n",
    "    data = []\n",
    "    with gzip.open(pth) as f:\n",
    "        for l in f:\n",
    "            data.append(json.loads(l.strip()))\n",
    "\n",
    "    # total length of list, this number equals total number of products\n",
    "    print(\"len(data)\", len(data))\n",
    "\n",
    "    # convert list into pandas dataframe\n",
    "    df = pd.DataFrame.from_dict(data)\n",
    "    print(\"len(df)\", len(df))\n",
    "\n",
    "    ### remove rows with unformatted title (i.e. some 'title' may still contain html style content)\n",
    "    df3 = df.fillna('')\n",
    "    df4 = df3[df3.title.str.contains('getTime')] # unformatted rows\n",
    "    df5 = df3[~df3.title.str.contains('getTime')] # filter those unformatted rows\n",
    "    print(\"len(df4)\", len(df4))\n",
    "    print(\"len(df5)\", len(df5))\n",
    "\n",
    "    return df5"
   ]
  },
  {
   "cell_type": "code",
   "execution_count": 5,
   "metadata": {},
   "outputs": [
    {
     "name": "stdout",
     "output_type": "stream",
     "text": [
      "len(data) 30445\n",
      "len(df) 30445\n",
      "len(df4) 0\n",
      "len(df5) 30445\n"
     ]
    }
   ],
   "source": [
    "df = get_meta_data('../data/amazon_meta_data/meta_Appliances.json.gz')"
   ]
  },
  {
   "cell_type": "markdown",
   "metadata": {},
   "source": [
    "# eda"
   ]
  },
  {
   "cell_type": "code",
   "execution_count": 6,
   "metadata": {},
   "outputs": [
    {
     "data": {
      "text/plain": [
       "(30445, 18)"
      ]
     },
     "execution_count": 6,
     "metadata": {},
     "output_type": "execute_result"
    }
   ],
   "source": [
    "df.shape"
   ]
  },
  {
   "cell_type": "code",
   "execution_count": 7,
   "metadata": {},
   "outputs": [
    {
     "data": {
      "text/html": [
       "<div>\n",
       "<style scoped>\n",
       "    .dataframe tbody tr th:only-of-type {\n",
       "        vertical-align: middle;\n",
       "    }\n",
       "\n",
       "    .dataframe tbody tr th {\n",
       "        vertical-align: top;\n",
       "    }\n",
       "\n",
       "    .dataframe thead th {\n",
       "        text-align: right;\n",
       "    }\n",
       "</style>\n",
       "<table border=\"1\" class=\"dataframe\">\n",
       "  <thead>\n",
       "    <tr style=\"text-align: right;\">\n",
       "      <th></th>\n",
       "      <th>category</th>\n",
       "      <th>tech1</th>\n",
       "      <th>description</th>\n",
       "      <th>fit</th>\n",
       "      <th>title</th>\n",
       "      <th>also_buy</th>\n",
       "      <th>image</th>\n",
       "      <th>tech2</th>\n",
       "      <th>brand</th>\n",
       "      <th>feature</th>\n",
       "      <th>rank</th>\n",
       "      <th>also_view</th>\n",
       "      <th>details</th>\n",
       "      <th>main_cat</th>\n",
       "      <th>similar_item</th>\n",
       "      <th>date</th>\n",
       "      <th>price</th>\n",
       "      <th>asin</th>\n",
       "    </tr>\n",
       "  </thead>\n",
       "  <tbody>\n",
       "    <tr>\n",
       "      <th>0</th>\n",
       "      <td>[Appliances, Refrigerators, Freezers &amp; Ice Mak...</td>\n",
       "      <td>class=\"a-keyvalue prodDetTable\" role=\"present...</td>\n",
       "      <td>[]</td>\n",
       "      <td></td>\n",
       "      <td>Tupperware Freezer Square Round Container Set ...</td>\n",
       "      <td>[]</td>\n",
       "      <td>[]</td>\n",
       "      <td></td>\n",
       "      <td>Tupperware</td>\n",
       "      <td>[Each 3-pc. set includes two 7/8-cup/200 mL an...</td>\n",
       "      <td>[&gt;#39,745 in Appliances (See top 100)]</td>\n",
       "      <td>[]</td>\n",
       "      <td>{}</td>\n",
       "      <td>Appliances</td>\n",
       "      <td></td>\n",
       "      <td>November 19, 2008</td>\n",
       "      <td></td>\n",
       "      <td>7301113188</td>\n",
       "    </tr>\n",
       "    <tr>\n",
       "      <th>1</th>\n",
       "      <td>[Appliances, Refrigerators, Freezers &amp; Ice Mak...</td>\n",
       "      <td>class=\"a-keyvalue prodDetTable\" role=\"present...</td>\n",
       "      <td>[2 X Tupperware Pure &amp; Fresh Unique Covered Co...</td>\n",
       "      <td></td>\n",
       "      <td>2 X Tupperware Pure &amp;amp; Fresh Unique Covered...</td>\n",
       "      <td>[]</td>\n",
       "      <td>[https://images-na.ssl-images-amazon.com/image...</td>\n",
       "      <td></td>\n",
       "      <td>Tupperware</td>\n",
       "      <td>[2 X Tupperware Pure &amp; Fresh Unique Covered Co...</td>\n",
       "      <td>[&gt;#6,118 in Appliances (See top 100)]</td>\n",
       "      <td>[B004RUGHJW]</td>\n",
       "      <td>{}</td>\n",
       "      <td>Appliances</td>\n",
       "      <td></td>\n",
       "      <td>June 5, 2016</td>\n",
       "      <td>$3.62</td>\n",
       "      <td>7861850250</td>\n",
       "    </tr>\n",
       "    <tr>\n",
       "      <th>2</th>\n",
       "      <td>[Appliances, Parts &amp;amp; Accessories]</td>\n",
       "      <td></td>\n",
       "      <td>[]</td>\n",
       "      <td></td>\n",
       "      <td>The Cigar - Moments of Pleasure</td>\n",
       "      <td>[]</td>\n",
       "      <td>[https://images-na.ssl-images-amazon.com/image...</td>\n",
       "      <td></td>\n",
       "      <td>The Cigar Book</td>\n",
       "      <td>[]</td>\n",
       "      <td>[&gt;#1,861,816 in Home &amp;amp; Kitchen (See Top 10...</td>\n",
       "      <td>[B01HCAVSLK, 1632206579]</td>\n",
       "      <td>{}</td>\n",
       "      <td>Amazon Home</td>\n",
       "      <td></td>\n",
       "      <td></td>\n",
       "      <td>$150.26</td>\n",
       "      <td>8792559360</td>\n",
       "    </tr>\n",
       "    <tr>\n",
       "      <th>3</th>\n",
       "      <td>[Appliances, Parts &amp; Accessories]</td>\n",
       "      <td>class=\"a-keyvalue prodDetTable\" role=\"present...</td>\n",
       "      <td>[Multi purpost descaler, especially suited to ...</td>\n",
       "      <td></td>\n",
       "      <td>Caraselle 2X 50G Appliance Descalene</td>\n",
       "      <td>[]</td>\n",
       "      <td>[https://images-na.ssl-images-amazon.com/image...</td>\n",
       "      <td></td>\n",
       "      <td>Caraselle</td>\n",
       "      <td>[]</td>\n",
       "      <td>[&gt;#1,654,505 in Tools &amp; Home Improvement (See ...</td>\n",
       "      <td>[]</td>\n",
       "      <td>{}</td>\n",
       "      <td>Tools &amp; Home Improvement</td>\n",
       "      <td></td>\n",
       "      <td>December 17, 2014</td>\n",
       "      <td>.a-box-inner{background-color:#fff}#alohaBuyBo...</td>\n",
       "      <td>9792954481</td>\n",
       "    </tr>\n",
       "    <tr>\n",
       "      <th>4</th>\n",
       "      <td>[Appliances, Parts &amp; Accessories, Range Parts ...</td>\n",
       "      <td>class=\"a-keyvalue prodDetTable\" role=\"present...</td>\n",
       "      <td>[Full gauge and size beveled-edge; furnished w...</td>\n",
       "      <td></td>\n",
       "      <td>EATON Wiring 39CH-SP-L Arrow Hart 1-Gang Chrom...</td>\n",
       "      <td>[]</td>\n",
       "      <td>[]</td>\n",
       "      <td></td>\n",
       "      <td>EATON Wiring</td>\n",
       "      <td>[Returns will not be honored on this closeout ...</td>\n",
       "      <td>[&gt;#3,066,990 in Tools &amp; Home Improvement (See ...</td>\n",
       "      <td>[]</td>\n",
       "      <td>{}</td>\n",
       "      <td>Tools &amp; Home Improvement</td>\n",
       "      <td></td>\n",
       "      <td>January 16, 2007</td>\n",
       "      <td>$3.43</td>\n",
       "      <td>B00002N5EL</td>\n",
       "    </tr>\n",
       "  </tbody>\n",
       "</table>\n",
       "</div>"
      ],
      "text/plain": [
       "                                            category  \\\n",
       "0  [Appliances, Refrigerators, Freezers & Ice Mak...   \n",
       "1  [Appliances, Refrigerators, Freezers & Ice Mak...   \n",
       "2              [Appliances, Parts &amp; Accessories]   \n",
       "3                  [Appliances, Parts & Accessories]   \n",
       "4  [Appliances, Parts & Accessories, Range Parts ...   \n",
       "\n",
       "                                               tech1  \\\n",
       "0   class=\"a-keyvalue prodDetTable\" role=\"present...   \n",
       "1   class=\"a-keyvalue prodDetTable\" role=\"present...   \n",
       "2                                                      \n",
       "3   class=\"a-keyvalue prodDetTable\" role=\"present...   \n",
       "4   class=\"a-keyvalue prodDetTable\" role=\"present...   \n",
       "\n",
       "                                         description fit  \\\n",
       "0                                                 []       \n",
       "1  [2 X Tupperware Pure & Fresh Unique Covered Co...       \n",
       "2                                                 []       \n",
       "3  [Multi purpost descaler, especially suited to ...       \n",
       "4  [Full gauge and size beveled-edge; furnished w...       \n",
       "\n",
       "                                               title also_buy  \\\n",
       "0  Tupperware Freezer Square Round Container Set ...       []   \n",
       "1  2 X Tupperware Pure &amp; Fresh Unique Covered...       []   \n",
       "2                    The Cigar - Moments of Pleasure       []   \n",
       "3               Caraselle 2X 50G Appliance Descalene       []   \n",
       "4  EATON Wiring 39CH-SP-L Arrow Hart 1-Gang Chrom...       []   \n",
       "\n",
       "                                               image tech2           brand  \\\n",
       "0                                                 []            Tupperware   \n",
       "1  [https://images-na.ssl-images-amazon.com/image...            Tupperware   \n",
       "2  [https://images-na.ssl-images-amazon.com/image...        The Cigar Book   \n",
       "3  [https://images-na.ssl-images-amazon.com/image...             Caraselle   \n",
       "4                                                 []          EATON Wiring   \n",
       "\n",
       "                                             feature  \\\n",
       "0  [Each 3-pc. set includes two 7/8-cup/200 mL an...   \n",
       "1  [2 X Tupperware Pure & Fresh Unique Covered Co...   \n",
       "2                                                 []   \n",
       "3                                                 []   \n",
       "4  [Returns will not be honored on this closeout ...   \n",
       "\n",
       "                                                rank  \\\n",
       "0             [>#39,745 in Appliances (See top 100)]   \n",
       "1              [>#6,118 in Appliances (See top 100)]   \n",
       "2  [>#1,861,816 in Home &amp; Kitchen (See Top 10...   \n",
       "3  [>#1,654,505 in Tools & Home Improvement (See ...   \n",
       "4  [>#3,066,990 in Tools & Home Improvement (See ...   \n",
       "\n",
       "                  also_view details                  main_cat similar_item  \\\n",
       "0                        []      {}                Appliances                \n",
       "1              [B004RUGHJW]      {}                Appliances                \n",
       "2  [B01HCAVSLK, 1632206579]      {}               Amazon Home                \n",
       "3                        []      {}  Tools & Home Improvement                \n",
       "4                        []      {}  Tools & Home Improvement                \n",
       "\n",
       "                date                                              price  \\\n",
       "0  November 19, 2008                                                      \n",
       "1       June 5, 2016                                              $3.62   \n",
       "2                                                               $150.26   \n",
       "3  December 17, 2014  .a-box-inner{background-color:#fff}#alohaBuyBo...   \n",
       "4   January 16, 2007                                              $3.43   \n",
       "\n",
       "         asin  \n",
       "0  7301113188  \n",
       "1  7861850250  \n",
       "2  8792559360  \n",
       "3  9792954481  \n",
       "4  B00002N5EL  "
      ]
     },
     "execution_count": 7,
     "metadata": {},
     "output_type": "execute_result"
    }
   ],
   "source": [
    "df.head()"
   ]
  },
  {
   "cell_type": "code",
   "execution_count": 8,
   "metadata": {},
   "outputs": [
    {
     "data": {
      "text/plain": [
       "0                      Appliances\n",
       "1                      Appliances\n",
       "2                     Amazon Home\n",
       "3        Tools & Home Improvement\n",
       "4        Tools & Home Improvement\n",
       "                   ...           \n",
       "30440    Tools & Home Improvement\n",
       "30441    Tools & Home Improvement\n",
       "30442    Tools & Home Improvement\n",
       "30443    Tools & Home Improvement\n",
       "30444    Tools & Home Improvement\n",
       "Name: main_cat, Length: 30445, dtype: object"
      ]
     },
     "execution_count": 8,
     "metadata": {},
     "output_type": "execute_result"
    }
   ],
   "source": [
    "df.main_cat"
   ]
  },
  {
   "cell_type": "code",
   "execution_count": 9,
   "metadata": {},
   "outputs": [
    {
     "data": {
      "text/plain": [
       "0        Tupperware Freezer Square Round Container Set ...\n",
       "1        2 X Tupperware Pure &amp; Fresh Unique Covered...\n",
       "2                          The Cigar - Moments of Pleasure\n",
       "3                     Caraselle 2X 50G Appliance Descalene\n",
       "4        EATON Wiring 39CH-SP-L Arrow Hart 1-Gang Chrom...\n",
       "                               ...                        \n",
       "30440                                Bosch 00175338 Switch\n",
       "30441                           Bosch 00478807 Panel-Facia\n",
       "30442                             Bosch 00649288 Ice Maker\n",
       "30443                            Frigidaire 316543810 Knob\n",
       "30444                            Bosch 00674704 Pump-Drain\n",
       "Name: title, Length: 30445, dtype: object"
      ]
     },
     "execution_count": 9,
     "metadata": {},
     "output_type": "execute_result"
    }
   ],
   "source": [
    "df.title"
   ]
  },
  {
   "cell_type": "code",
   "execution_count": 10,
   "metadata": {},
   "outputs": [
    {
     "data": {
      "text/plain": [
       "0            Tupperware\n",
       "1            Tupperware\n",
       "2        The Cigar Book\n",
       "3             Caraselle\n",
       "4          EATON Wiring\n",
       "              ...      \n",
       "30440             Bosch\n",
       "30441             Bosch\n",
       "30442             Bosch\n",
       "30443        Frigidaire\n",
       "30444             Bosch\n",
       "Name: brand, Length: 30445, dtype: object"
      ]
     },
     "execution_count": 10,
     "metadata": {},
     "output_type": "execute_result"
    }
   ],
   "source": [
    "df.brand"
   ]
  },
  {
   "cell_type": "code",
   "execution_count": 11,
   "metadata": {},
   "outputs": [
    {
     "data": {
      "text/plain": [
       "0                                                       []\n",
       "1        [2 X Tupperware Pure & Fresh Unique Covered Co...\n",
       "2                                                       []\n",
       "3        [Multi purpost descaler, especially suited to ...\n",
       "4        [Full gauge and size beveled-edge; furnished w...\n",
       "                               ...                        \n",
       "30440    [This is an authorized aftermarket product. Fi...\n",
       "30441    [This is an authorized aftermarket product. Fi...\n",
       "30442    [This is an authorized aftermarket product. Fi...\n",
       "30443    [This is an O.E.M. Authorized part. Fits with ...\n",
       "30444    [This is an authorized aftermarket product. Fi...\n",
       "Name: description, Length: 30445, dtype: object"
      ]
     },
     "execution_count": 11,
     "metadata": {},
     "output_type": "execute_result"
    }
   ],
   "source": [
    "df.description"
   ]
  },
  {
   "cell_type": "code",
   "execution_count": 12,
   "metadata": {},
   "outputs": [
    {
     "data": {
      "text/plain": [
       "0        [Appliances, Refrigerators, Freezers & Ice Mak...\n",
       "1        [Appliances, Refrigerators, Freezers & Ice Mak...\n",
       "2                    [Appliances, Parts &amp; Accessories]\n",
       "3                        [Appliances, Parts & Accessories]\n",
       "4        [Appliances, Parts & Accessories, Range Parts ...\n",
       "                               ...                        \n",
       "30440                    [Appliances, Parts & Accessories]\n",
       "30441                    [Appliances, Parts & Accessories]\n",
       "30442                    [Appliances, Parts & Accessories]\n",
       "30443    [Appliances, Parts & Accessories, Range Parts ...\n",
       "30444                    [Appliances, Parts & Accessories]\n",
       "Name: category, Length: 30445, dtype: object"
      ]
     },
     "execution_count": 12,
     "metadata": {},
     "output_type": "execute_result"
    }
   ],
   "source": [
    "df.category"
   ]
  },
  {
   "cell_type": "code",
   "execution_count": null,
   "metadata": {},
   "outputs": [],
   "source": []
  },
  {
   "cell_type": "code",
   "execution_count": null,
   "metadata": {},
   "outputs": [],
   "source": []
  },
  {
   "cell_type": "code",
   "execution_count": null,
   "metadata": {},
   "outputs": [],
   "source": []
  },
  {
   "cell_type": "code",
   "execution_count": null,
   "metadata": {},
   "outputs": [],
   "source": []
  },
  {
   "cell_type": "code",
   "execution_count": null,
   "metadata": {},
   "outputs": [],
   "source": []
  }
 ],
 "metadata": {
  "kernelspec": {
   "display_name": "product-category",
   "language": "python",
   "name": "product-category"
  },
  "language_info": {
   "codemirror_mode": {
    "name": "ipython",
    "version": 3
   },
   "file_extension": ".py",
   "mimetype": "text/x-python",
   "name": "python",
   "nbconvert_exporter": "python",
   "pygments_lexer": "ipython3",
   "version": "3.7.9"
  },
  "toc": {
   "base_numbering": 1,
   "nav_menu": {},
   "number_sections": true,
   "sideBar": true,
   "skip_h1_title": false,
   "title_cell": "Table of Contents",
   "title_sidebar": "Contents",
   "toc_cell": false,
   "toc_position": {},
   "toc_section_display": true,
   "toc_window_display": false
  }
 },
 "nbformat": 4,
 "nbformat_minor": 4
}
