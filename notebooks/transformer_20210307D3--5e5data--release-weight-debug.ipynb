{
 "cells": [
  {
   "cell_type": "code",
   "execution_count": 4,
   "metadata": {},
   "outputs": [],
   "source": [
    "PRFX = \"transformer_20210307D3\"\n",
    "PRFX_PRP = 'prep_20210307B1'\n",
    "FREEZE_BERT = False"
   ]
  },
  {
   "cell_type": "code",
   "execution_count": 5,
   "metadata": {
    "scrolled": true
   },
   "outputs": [
    {
     "name": "stdout",
     "output_type": "stream",
     "text": [
      "Tue Mar  9 02:13:10 2021       \r\n",
      "+-----------------------------------------------------------------------------+\r\n",
      "| NVIDIA-SMI 440.100      Driver Version: 440.100      CUDA Version: 10.2     |\r\n",
      "|-------------------------------+----------------------+----------------------+\r\n",
      "| GPU  Name        Persistence-M| Bus-Id        Disp.A | Volatile Uncorr. ECC |\r\n",
      "| Fan  Temp  Perf  Pwr:Usage/Cap|         Memory-Usage | GPU-Util  Compute M. |\r\n",
      "|===============================+======================+======================|\r\n",
      "|   0  Tesla V100-SXM2...  Off  | 00000000:00:1E.0 Off |                    0 |\r\n",
      "| N/A   39C    P0    39W / 300W |   3197MiB / 16160MiB |      0%      Default |\r\n",
      "+-------------------------------+----------------------+----------------------+\r\n",
      "                                                                               \r\n",
      "+-----------------------------------------------------------------------------+\r\n",
      "| Processes:                                                       GPU Memory |\r\n",
      "|  GPU       PID   Type   Process name                             Usage      |\r\n",
      "|=============================================================================|\r\n",
      "|    0      1043      C   ...conda3/envs/product-category/bin/python  1965MiB |\r\n",
      "|    0     28276      C   ...conda3/envs/product-category/bin/python  1221MiB |\r\n",
      "+-----------------------------------------------------------------------------+\r\n"
     ]
    }
   ],
   "source": [
    "!nvidia-smi"
   ]
  },
  {
   "cell_type": "markdown",
   "metadata": {},
   "source": [
    "- https://colab.research.google.com/drive/1F_RNcHzTfFuQf-LeKvSlud6x7jXYkG31#scrollTo=goRmGIRI5cfC"
   ]
  },
  {
   "cell_type": "markdown",
   "metadata": {},
   "source": [
    "# setup"
   ]
  },
  {
   "cell_type": "markdown",
   "metadata": {},
   "source": [
    "http://localhost:8080/notebooks/git/product-category/notebooks/prep_20210304A1.ipynb"
   ]
  },
  {
   "cell_type": "code",
   "execution_count": 6,
   "metadata": {},
   "outputs": [],
   "source": [
    "HOME = \"/data/git/product-category\"\n",
    "p_out = f'{HOME}/data/{PRFX}'\n",
    "!mkdir -p {p_out}"
   ]
  },
  {
   "cell_type": "code",
   "execution_count": 7,
   "metadata": {},
   "outputs": [],
   "source": [
    "sz = int(5e5)\n",
    "DATA2USE = f'{HOME}/data/data_sample_{sz}__{PRFX_PRP}.csv'"
   ]
  },
  {
   "cell_type": "markdown",
   "metadata": {},
   "source": [
    "# eda "
   ]
  },
  {
   "cell_type": "code",
   "execution_count": 8,
   "metadata": {},
   "outputs": [],
   "source": [
    "import pandas as pd\n",
    "import numpy as np\n",
    "from collections import Counter"
   ]
  },
  {
   "cell_type": "raw",
   "metadata": {
    "scrolled": true
   },
   "source": [
    "%%time\n",
    "# df = pd.read_csv(f'../data/data__{PRFX_PRP}.csv')\n",
    "# df = pd.read_csv(f'{HOME}/data/data_sample__{PRFX_PRP}.csv')\n",
    "df = pd.read_csv(DATA2USE, nrows=1000)\n",
    "print(df.shape)\n",
    "df.sample(3)"
   ]
  },
  {
   "cell_type": "raw",
   "metadata": {},
   "source": [
    "df = pd.read_csv(DATA2USE, nrows=1000)\n"
   ]
  },
  {
   "cell_type": "raw",
   "metadata": {},
   "source": [
    "MIN_CNT = 50\n",
    "cat2cnt = Counter((j for i in df.category.apply(lambda x: x.split('|')) for j in i))\n",
    "i2cat = sorted(k for k,v in cat2cnt.items() if v>MIN_CNT)\n",
    "cat2i = {v:k for k,v in enumerate(i2cat)}\n",
    "\n",
    "print(\"len(i2cat)\", len(i2cat))\n",
    "print(\"|\".join(i2cat))"
   ]
  },
  {
   "cell_type": "raw",
   "metadata": {
    "scrolled": false
   },
   "source": [
    "cat2cnt.most_common(20)"
   ]
  },
  {
   "cell_type": "markdown",
   "metadata": {},
   "source": [
    "# dataset"
   ]
  },
  {
   "cell_type": "code",
   "execution_count": 9,
   "metadata": {},
   "outputs": [],
   "source": [
    "from argparse import ArgumentParser\n",
    "import pytorch_lightning as pl\n",
    "from transformers.optimization import AdamW\n",
    "\n",
    "from torch.utils.data import TensorDataset, DataLoader\n",
    "from transformers import AutoTokenizer\n",
    "import torch\n",
    "\n",
    "def mk_tensors(txt, tokenizer, max_seq_length):\n",
    "    tok_res = tokenizer(\n",
    "        txt, truncation=True, padding='max_length', max_length=max_seq_length\n",
    "    )\n",
    "    input_ids = tok_res[\"input_ids\"]\n",
    "    attention_mask = tok_res[\"attention_mask\"]\n",
    "    input_ids = torch.tensor(input_ids)\n",
    "    attention_mask = torch.tensor(attention_mask)\n",
    "    return input_ids, attention_mask\n",
    "\n",
    "def mk_ds(txt, tokenizer, max_seq_length, ys):\n",
    "    input_ids, attention_mask = mk_tensors(txt, tokenizer, max_seq_length)\n",
    "    return TensorDataset(input_ids, \n",
    "                         attention_mask, \n",
    "                         torch.tensor(ys)) \n",
    "\n",
    "class PCDataModule(pl.LightningDataModule):\n",
    "    def __init__(self, \n",
    "                 model_name_or_path, \n",
    "                 max_seq_length, \n",
    "                 min_products_for_category,\n",
    "                 train_batch_size,\n",
    "                 val_batch_size,\n",
    "                 dataloader_num_workers,\n",
    "                 data_file_path=None,\n",
    "                 dataframe=None):\n",
    "        super().__init__()\n",
    "        self.data_file_path = data_file_path\n",
    "        self.dataframe = dataframe\n",
    "        self.min_products_for_category = min_products_for_category\n",
    "        self.model_name_or_path = model_name_or_path\n",
    "        self.max_seq_length = max_seq_length\n",
    "        self.train_batch_size = train_batch_size\n",
    "        self.val_batch_size = val_batch_size\n",
    "        self.dataloader_num_workers = dataloader_num_workers\n",
    "        self.num_classes = None\n",
    "      \n",
    "    def prepare_data(self):\n",
    "        #prepare_data is called from a single process (e.g. GPU 0). Do not use it to assign state (self.x = y).\n",
    "        _ = AutoTokenizer.from_pretrained(self.model_name_or_path)\n",
    "\n",
    "    def setup(self, stage=None):\n",
    "        self.tokenizer = AutoTokenizer.from_pretrained(self.model_name_or_path)\n",
    "        if self.dataframe is None:\n",
    "            self.dataframe = pd.read_csv(self.data_file_path)\n",
    "            self.dataframe.dropna(inplace=True)\n",
    "        print('dataframe size:', self.dataframe.shape)\n",
    "\n",
    "        \n",
    "#         self.dataframe = self.dataframe[self.dataframe.title.notna()].copy()\n",
    "        \n",
    "        cats = self.dataframe.category.apply(lambda x: x.split('|'))\n",
    "        cat2cnt = Counter((j for i in cats for j in i))\n",
    "        i2cat = sorted(k for k,v in cat2cnt.items() if v>self.min_products_for_category)\n",
    "        cat2i = {v:k for k,v in enumerate(i2cat)}\n",
    "        self.num_classes = len(i2cat)\n",
    "        self.i2cat, self.cat2i = i2cat, cat2i\n",
    "        \n",
    "        ys = np.zeros((len(self.dataframe), len(i2cat)))\n",
    "        for i,cats in enumerate(self.dataframe.category):\n",
    "            idx_pos = [cat2i[cat] for cat in cats.split('|') if cat in cat2i]\n",
    "            ys[i,idx_pos] = 1\n",
    "        \n",
    "        msk_val = self.dataframe.is_validation==1\n",
    "        self.df_trn = self.dataframe[~msk_val]\n",
    "        self.df_val = self.dataframe[ msk_val]\n",
    "        idx_trn = np.where(~msk_val)[0]\n",
    "        idx_val = np.where( msk_val)[0]\n",
    "        self.ys_trn, self.ys_val = ys[idx_trn], ys[idx_val]\n",
    "        \n",
    "        self.train_dataset = mk_ds(list(self.df_trn.title), self.tokenizer, self.max_seq_length, self.ys_trn)\n",
    "        self.eval_dataset  = mk_ds(list(self.df_val.title), self.tokenizer, self.max_seq_length, self.ys_val)\n",
    "        \n",
    "    \n",
    "    def train_dataloader(self):\n",
    "        return DataLoader(\n",
    "            self.train_dataset,\n",
    "            batch_size=self.train_batch_size,\n",
    "            num_workers=self.dataloader_num_workers,\n",
    "            pin_memory=True,\n",
    "        )\n",
    "\n",
    "    def val_dataloader(self):\n",
    "        return DataLoader(\n",
    "            self.eval_dataset,\n",
    "            batch_size=self.val_batch_size,\n",
    "            num_workers=self.dataloader_num_workers,\n",
    "            pin_memory=True,\n",
    "        )"
   ]
  },
  {
   "cell_type": "markdown",
   "metadata": {},
   "source": [
    "# model"
   ]
  },
  {
   "cell_type": "code",
   "execution_count": 10,
   "metadata": {},
   "outputs": [],
   "source": [
    "import torch.nn as nn\n",
    "import torch.nn.functional as F\n",
    "from transformers import AutoModel\n",
    "\n",
    "\n",
    "def getaccu(logits, ys):\n",
    "    return ((logits>0.).int() == ys).float().mean()\n",
    "\n",
    "class PCModel(pl.LightningModule):\n",
    "    def __init__(self, model_name_or_path, freeze_bert, num_classes, learning_rate, adam_beta1, adam_beta2, adam_epsilon):\n",
    "        super().__init__()\n",
    "        self.save_hyperparameters()\n",
    "        self.model_name_or_path = model_name_or_path\n",
    "        self.bert = AutoModel.from_pretrained(self.model_name_or_path)\n",
    "        self.freeze_bert = freeze_bert\n",
    "        if self.freeze_bert==True:\n",
    "            for param in self.bert.parameters():\n",
    "                param.requires_grad = False\n",
    "        self.num_classes = num_classes\n",
    "        self.W = nn.Linear(self.bert.config.hidden_size, self.num_classes)\n",
    "\n",
    "    def prepare_data(self):\n",
    "        #prepare_data is called from a single process (e.g. GPU 0). Do not use it to assign state (self.x = y).\n",
    "        _ = AutoModel.from_pretrained(self.model_name_or_path)\n",
    "\n",
    "    def forward(self, input_ids, attention_mask):\n",
    "        h = self.bert(input_ids, attention_mask)['last_hidden_state']\n",
    "        h_cls = h[:, 0]\n",
    "        return self.W(h_cls)\n",
    "    \n",
    "    def training_step(self, batch, batch_idx):\n",
    "        input_ids, attention_mask, ys = batch    \n",
    "        logits = self(input_ids, attention_mask)\n",
    "        loss = F.binary_cross_entropy_with_logits(logits, ys)\n",
    "        accu = getaccu(logits, ys)\n",
    "        self.log('train_loss', loss, on_epoch=True)\n",
    "        self.log('train_accu', accu, on_epoch=True)\n",
    "        return loss\n",
    "\n",
    "    def validation_step(self, batch, batch_idx):\n",
    "        input_ids, attention_mask, ys = batch    \n",
    "        logits = self(input_ids, attention_mask)\n",
    "        loss = F.binary_cross_entropy_with_logits(logits, ys)\n",
    "        accu = getaccu(logits, ys)\n",
    "        self.log('valid_loss', loss, on_step=False, sync_dist=True)\n",
    "        self.log('valid_accu', accu, on_step=False, sync_dist=True)\n",
    "    \n",
    "    def configure_optimizers(self):\n",
    "        optimizer = AdamW(self.parameters(),\n",
    "                          self.hparams.learning_rate,\n",
    "                          betas=(self.hparams.adam_beta1,\n",
    "                                 self.hparams.adam_beta2),\n",
    "                          eps=self.hparams.adam_epsilon,)\n",
    "        return optimizer    \n",
    "    \n",
    "    @staticmethod\n",
    "    def add_model_specific_args(parent_parser):\n",
    "        parser = ArgumentParser(parents=[parent_parser], add_help=False)\n",
    "        parser.add_argument('--learning_rate', type=float, default=5e-5)\n",
    "        parser.add_argument('--adam_beta1', type=float, default=0.9)\n",
    "        parser.add_argument('--adam_beta2', type=float, default=0.999)\n",
    "        parser.add_argument('--adam_epsilon', type=float, default=1e-8)\n",
    "        return parser"
   ]
  },
  {
   "cell_type": "markdown",
   "metadata": {},
   "source": [
    "# train"
   ]
  },
  {
   "cell_type": "code",
   "execution_count": 14,
   "metadata": {},
   "outputs": [],
   "source": [
    "parser = ArgumentParser()\n",
    "\n",
    "parser.add_argument('--model_name_or_path', type=str,\n",
    "                    default=\"distilbert-base-cased\")\n",
    "parser.add_argument('--freeze_bert', action='store_true')\n",
    "parser.add_argument('--max_seq_length', type=int, default=128)\n",
    "parser.add_argument('--min_products_for_category', type=int, default=100)\n",
    "parser.add_argument('--train_batch_size', type=int, default=128)\n",
    "parser.add_argument('--val_batch_size', type=int, default=256)\n",
    "parser.add_argument(\"--dataloader_num_workers\", type=int, default=8)\n",
    "\n",
    "parser = pl.Trainer.add_argparse_args(parser)\n",
    "parser = PCModel.add_model_specific_args(parser)\n",
    "\n",
    "args_list = [\n",
    "    '--default_root_dir', p_out,\n",
    "]\n",
    "if FREEZE_BERT: args_list.append('--freeze_bert')\n",
    "\n",
    "args = parser.parse_args(args_list)\n",
    "\n",
    "\n",
    "data_module = PCDataModule(\n",
    "    model_name_or_path=args.model_name_or_path,\n",
    "#     data_file_path=f'{HOME}/data/data_sample__{PRFX_PRP}.csv',\n",
    "    data_file_path=DATA2USE,\n",
    "    min_products_for_category=args.min_products_for_category,\n",
    "    max_seq_length=args.max_seq_length,\n",
    "    train_batch_size=args.train_batch_size,\n",
    "    val_batch_size=args.val_batch_size,\n",
    "    dataloader_num_workers=args.dataloader_num_workers,\n",
    ")\n",
    "\n",
    "data_module.prepare_data()"
   ]
  },
  {
   "cell_type": "code",
   "execution_count": 15,
   "metadata": {},
   "outputs": [
    {
     "name": "stdout",
     "output_type": "stream",
     "text": [
      "dataframe size: (499864, 3)\n",
      "CPU times: user 1min 25s, sys: 21.1 s, total: 1min 46s\n",
      "Wall time: 55 s\n"
     ]
    }
   ],
   "source": [
    "%%time\n",
    "data_module.setup()"
   ]
  },
  {
   "cell_type": "markdown",
   "metadata": {},
   "source": [
    "## save i2cat"
   ]
  },
  {
   "cell_type": "code",
   "execution_count": 66,
   "metadata": {},
   "outputs": [
    {
     "data": {
      "text/plain": [
       "(1906,\n",
       " ['1\" high', '100% Acrylic', '100% Authentic', '100% Canvas', '100% Cotton'])"
      ]
     },
     "execution_count": 66,
     "metadata": {},
     "output_type": "execute_result"
    }
   ],
   "source": [
    "len(data_module.i2cat), data_module.i2cat[:5]"
   ]
  },
  {
   "cell_type": "code",
   "execution_count": 62,
   "metadata": {},
   "outputs": [],
   "source": [
    "with open(f'{p_out}/i2cat.txt', 'w') as f:\n",
    "    for item in data_module.i2cat:\n",
    "        f.write(\"%s\\n\" % item)"
   ]
  },
  {
   "cell_type": "code",
   "execution_count": 63,
   "metadata": {},
   "outputs": [],
   "source": [
    "with open(f'{p_out}/i2cat.txt') as f:\n",
    "    i2cat = f.read().splitlines()"
   ]
  },
  {
   "cell_type": "code",
   "execution_count": 67,
   "metadata": {},
   "outputs": [
    {
     "data": {
      "text/plain": [
       "(1906,\n",
       " ['1\" high', '100% Acrylic', '100% Authentic', '100% Canvas', '100% Cotton'])"
      ]
     },
     "execution_count": 67,
     "metadata": {},
     "output_type": "execute_result"
    }
   ],
   "source": [
    "len(i2cat), i2cat[:5]"
   ]
  },
  {
   "cell_type": "code",
   "execution_count": null,
   "metadata": {},
   "outputs": [],
   "source": []
  },
  {
   "cell_type": "code",
   "execution_count": 10,
   "metadata": {},
   "outputs": [],
   "source": [
    "pcmodel = PCModel(\n",
    "    model_name_or_path=args.model_name_or_path,\n",
    "    freeze_bert=args.freeze_bert,\n",
    "    num_classes= data_module.num_classes,\n",
    "    learning_rate=args.learning_rate,\n",
    "    adam_beta1=args.adam_beta1,\n",
    "    adam_beta2=args.adam_beta2,\n",
    "    adam_epsilon=args.adam_epsilon,\n",
    ")\n",
    "pcmodel.prepare_data()"
   ]
  },
  {
   "cell_type": "raw",
   "metadata": {},
   "source": [
    "dl = data_module.val_dataloader()\n",
    "n=0\n",
    "for dat in dl:\n",
    "    input_ids, attention_mask, ys = dat\n",
    "    logits = pcmodel(input_ids, attention_mask)\n",
    "    accu = getaccu(logits, ys)\n",
    "    print(accu.item())\n",
    "    n+=1\n",
    "    if n>1: break"
   ]
  },
  {
   "cell_type": "code",
   "execution_count": null,
   "metadata": {},
   "outputs": [],
   "source": []
  },
  {
   "cell_type": "markdown",
   "metadata": {},
   "source": [
    "## trainer"
   ]
  },
  {
   "cell_type": "code",
   "execution_count": 11,
   "metadata": {},
   "outputs": [
    {
     "name": "stderr",
     "output_type": "stream",
     "text": [
      "GPU available: True, used: True\n",
      "TPU available: None, using: 0 TPU cores\n"
     ]
    }
   ],
   "source": [
    "from pytorch_lightning.callbacks.early_stopping import EarlyStopping\n",
    "from pytorch_lightning.loggers import CSVLogger, TensorBoardLogger\n",
    "\n",
    "csv_logger = CSVLogger(p_out, name='csv')\n",
    "tb_logger = TensorBoardLogger(p_out, name='tensorboard')\n",
    "\n",
    "trainer = pl.Trainer.from_argparse_args(args, \n",
    "#                                         limit_train_batches=10, limit_val_batches=5, \n",
    "#                                         fast_dev_run=True,\n",
    "                                        max_epochs=50,\n",
    "                                        callbacks=[EarlyStopping(monitor='valid_loss')],\n",
    "                                        stochastic_weight_avg=True,\n",
    "                                        log_gpu_memory=True, \n",
    "                                        gpus=1,\n",
    "                                        logger=[tb_logger,csv_logger],\n",
    "                                       )"
   ]
  },
  {
   "cell_type": "markdown",
   "metadata": {},
   "source": [
    "## run"
   ]
  },
  {
   "cell_type": "code",
   "execution_count": 12,
   "metadata": {
    "scrolled": false
   },
   "outputs": [
    {
     "name": "stderr",
     "output_type": "stream",
     "text": [
      "Global seed set to 1234\n",
      "\n",
      "  | Name | Type            | Params\n",
      "-----------------------------------------\n",
      "0 | bert | DistilBertModel | 65.2 M\n",
      "1 | W    | Linear          | 1.5 M \n",
      "-----------------------------------------\n",
      "66.7 M    Trainable params\n",
      "0         Non-trainable params\n",
      "66.7 M    Total params\n",
      "266.627   Total estimated model params size (MB)\n"
     ]
    },
    {
     "data": {
      "application/vnd.jupyter.widget-view+json": {
       "model_id": "",
       "version_major": 2,
       "version_minor": 0
      },
      "text/plain": [
       "HBox(children=(HTML(value='Validation sanity check'), FloatProgress(value=1.0, bar_style='info', layout=Layout…"
      ]
     },
     "metadata": {},
     "output_type": "display_data"
    },
    {
     "name": "stderr",
     "output_type": "stream",
     "text": [
      "/data/anaconda3/envs/product-category/lib/python3.7/site-packages/pytorch_lightning/core/step_result.py:148: UserWarning: To copy construct from a tensor, it is recommended to use sourceTensor.clone().detach() or sourceTensor.clone().detach().requires_grad_(True), rather than torch.tensor(sourceTensor).\n",
      "  value = torch.tensor(value, device=device, dtype=torch.float)\n"
     ]
    },
    {
     "data": {
      "application/vnd.jupyter.widget-view+json": {
       "model_id": "907a74a0b6584a9c972001c1c88178b9",
       "version_major": 2,
       "version_minor": 0
      },
      "text/plain": [
       "HBox(children=(HTML(value='Training'), FloatProgress(value=1.0, bar_style='info', layout=Layout(flex='2'), max…"
      ]
     },
     "metadata": {},
     "output_type": "display_data"
    },
    {
     "data": {
      "application/vnd.jupyter.widget-view+json": {
       "model_id": "",
       "version_major": 2,
       "version_minor": 0
      },
      "text/plain": [
       "HBox(children=(HTML(value='Validating'), FloatProgress(value=1.0, bar_style='info', layout=Layout(flex='2'), m…"
      ]
     },
     "metadata": {},
     "output_type": "display_data"
    },
    {
     "data": {
      "application/vnd.jupyter.widget-view+json": {
       "model_id": "",
       "version_major": 2,
       "version_minor": 0
      },
      "text/plain": [
       "HBox(children=(HTML(value='Validating'), FloatProgress(value=1.0, bar_style='info', layout=Layout(flex='2'), m…"
      ]
     },
     "metadata": {},
     "output_type": "display_data"
    },
    {
     "data": {
      "application/vnd.jupyter.widget-view+json": {
       "model_id": "",
       "version_major": 2,
       "version_minor": 0
      },
      "text/plain": [
       "HBox(children=(HTML(value='Validating'), FloatProgress(value=1.0, bar_style='info', layout=Layout(flex='2'), m…"
      ]
     },
     "metadata": {},
     "output_type": "display_data"
    },
    {
     "data": {
      "application/vnd.jupyter.widget-view+json": {
       "model_id": "",
       "version_major": 2,
       "version_minor": 0
      },
      "text/plain": [
       "HBox(children=(HTML(value='Validating'), FloatProgress(value=1.0, bar_style='info', layout=Layout(flex='2'), m…"
      ]
     },
     "metadata": {},
     "output_type": "display_data"
    },
    {
     "data": {
      "application/vnd.jupyter.widget-view+json": {
       "model_id": "",
       "version_major": 2,
       "version_minor": 0
      },
      "text/plain": [
       "HBox(children=(HTML(value='Validating'), FloatProgress(value=1.0, bar_style='info', layout=Layout(flex='2'), m…"
      ]
     },
     "metadata": {},
     "output_type": "display_data"
    },
    {
     "data": {
      "application/vnd.jupyter.widget-view+json": {
       "model_id": "",
       "version_major": 2,
       "version_minor": 0
      },
      "text/plain": [
       "HBox(children=(HTML(value='Validating'), FloatProgress(value=1.0, bar_style='info', layout=Layout(flex='2'), m…"
      ]
     },
     "metadata": {},
     "output_type": "display_data"
    },
    {
     "data": {
      "application/vnd.jupyter.widget-view+json": {
       "model_id": "",
       "version_major": 2,
       "version_minor": 0
      },
      "text/plain": [
       "HBox(children=(HTML(value='Validating'), FloatProgress(value=1.0, bar_style='info', layout=Layout(flex='2'), m…"
      ]
     },
     "metadata": {},
     "output_type": "display_data"
    },
    {
     "data": {
      "application/vnd.jupyter.widget-view+json": {
       "model_id": "",
       "version_major": 2,
       "version_minor": 0
      },
      "text/plain": [
       "HBox(children=(HTML(value='Validating'), FloatProgress(value=1.0, bar_style='info', layout=Layout(flex='2'), m…"
      ]
     },
     "metadata": {},
     "output_type": "display_data"
    },
    {
     "name": "stdout",
     "output_type": "stream",
     "text": [
      "\n"
     ]
    },
    {
     "data": {
      "text/plain": [
       "1"
      ]
     },
     "execution_count": 12,
     "metadata": {},
     "output_type": "execute_result"
    }
   ],
   "source": [
    "pl.seed_everything(1234)\n",
    "trainer.fit(pcmodel, data_module)"
   ]
  },
  {
   "cell_type": "code",
   "execution_count": 13,
   "metadata": {
    "scrolled": true
   },
   "outputs": [
    {
     "name": "stdout",
     "output_type": "stream",
     "text": [
      "/data/git/product-category/data/transformer_20210307D3/\r\n",
      "/data/git/product-category/data/transformer_20210307D3/tensorboard_csv\r\n",
      "/data/git/product-category/data/transformer_20210307D3/tensorboard_csv/0_0\r\n",
      "/data/git/product-category/data/transformer_20210307D3/tensorboard_csv/0_0/checkpoints\r\n",
      "/data/git/product-category/data/transformer_20210307D3/tensorboard_csv/0_0/checkpoints/epoch=7-step=26567.ckpt\r\n",
      "/data/git/product-category/data/transformer_20210307D3/csv\r\n",
      "/data/git/product-category/data/transformer_20210307D3/csv/version_0\r\n",
      "/data/git/product-category/data/transformer_20210307D3/csv/version_0/metrics.csv\r\n",
      "/data/git/product-category/data/transformer_20210307D3/csv/version_0/hparams.yaml\r\n",
      "/data/git/product-category/data/transformer_20210307D3/tensorboard\r\n",
      "/data/git/product-category/data/transformer_20210307D3/tensorboard/version_0\r\n",
      "/data/git/product-category/data/transformer_20210307D3/tensorboard/version_0/hparams.yaml\r\n",
      "/data/git/product-category/data/transformer_20210307D3/tensorboard/version_0/events.out.tfevents.1615142050.ip-10-0-3-91.1043.0\r\n"
     ]
    }
   ],
   "source": [
    "!find $p_out/"
   ]
  },
  {
   "cell_type": "markdown",
   "metadata": {},
   "source": [
    "## tensorboard"
   ]
  },
  {
   "cell_type": "code",
   "execution_count": 14,
   "metadata": {
    "scrolled": true
   },
   "outputs": [
    {
     "name": "stdout",
     "output_type": "stream",
     "text": [
      "/data/git/product-category/data/transformer_20210307D3/tensorboard/\r\n",
      "/data/git/product-category/data/transformer_20210307D3/tensorboard/version_0\r\n",
      "/data/git/product-category/data/transformer_20210307D3/tensorboard/version_0/hparams.yaml\r\n",
      "/data/git/product-category/data/transformer_20210307D3/tensorboard/version_0/events.out.tfevents.1615142050.ip-10-0-3-91.1043.0\r\n"
     ]
    }
   ],
   "source": [
    "!find $p_out/tensorboard/"
   ]
  },
  {
   "cell_type": "raw",
   "metadata": {},
   "source": [
    "!tensorboard --logdir {p_out}/tensorboard"
   ]
  },
  {
   "cell_type": "markdown",
   "metadata": {},
   "source": [
    "## load model"
   ]
  },
  {
   "cell_type": "code",
   "execution_count": 50,
   "metadata": {},
   "outputs": [
    {
     "name": "stdout",
     "output_type": "stream",
     "text": [
      "-rw-rw-r-- 1 ubuntu ubuntu 763M Mar  7 21:52 '/data/git/product-category/data/transformer_20210307D3/tensorboard_csv/0_0/checkpoints/epoch=7-step=26567.ckpt'\r\n"
     ]
    }
   ],
   "source": [
    "ls -hl {p_out}/tensorboard_csv/*/checkpoints/*.ckpt"
   ]
  },
  {
   "cell_type": "markdown",
   "metadata": {},
   "source": [
    "### copy as release weight"
   ]
  },
  {
   "cell_type": "code",
   "execution_count": 51,
   "metadata": {},
   "outputs": [],
   "source": [
    "!cp {p_out}/tensorboard_csv/0_0/checkpoints/epoch=7-step=26567.ckpt {HOME}/data/{PRFX}.ckpt"
   ]
  },
  {
   "cell_type": "code",
   "execution_count": 53,
   "metadata": {},
   "outputs": [
    {
     "name": "stdout",
     "output_type": "stream",
     "text": [
      "-rw-rw-r-- 1 ubuntu ubuntu 763M Mar  8 02:55 /data/git/product-category/data/transformer_20210307D3.ckpt\r\n"
     ]
    }
   ],
   "source": [
    "!ls -hl {HOME}/data/{PRFX}.ckpt"
   ]
  },
  {
   "cell_type": "code",
   "execution_count": 68,
   "metadata": {},
   "outputs": [],
   "source": [
    "!cp {p_out}/i2cat.txt {HOME}/data/i2cat_{PRFX}.txt"
   ]
  },
  {
   "cell_type": "markdown",
   "metadata": {},
   "source": [
    "### load"
   ]
  },
  {
   "cell_type": "raw",
   "metadata": {},
   "source": [
    "pcmodel = PCModel.load_from_checkpoint(f'{p_out}/tensorboard_csv/0_0/checkpoints/epoch=7-step=26567.ckpt')"
   ]
  },
  {
   "cell_type": "code",
   "execution_count": 11,
   "metadata": {
    "scrolled": true
   },
   "outputs": [],
   "source": [
    "pcmodel = PCModel.load_from_checkpoint(f'{HOME}/data/{PRFX}.ckpt')"
   ]
  },
  {
   "cell_type": "markdown",
   "metadata": {},
   "source": [
    "# eval"
   ]
  },
  {
   "cell_type": "markdown",
   "metadata": {},
   "source": [
    "## csv results"
   ]
  },
  {
   "cell_type": "code",
   "execution_count": 29,
   "metadata": {},
   "outputs": [
    {
     "name": "stdout",
     "output_type": "stream",
     "text": [
      "/data/git/product-category/data/transformer_20210307D3/csv/\r\n",
      "/data/git/product-category/data/transformer_20210307D3/csv/version_0\r\n",
      "/data/git/product-category/data/transformer_20210307D3/csv/version_0/metrics.csv\r\n",
      "/data/git/product-category/data/transformer_20210307D3/csv/version_0/hparams.yaml\r\n"
     ]
    }
   ],
   "source": [
    "!find $p_out/csv/"
   ]
  },
  {
   "cell_type": "code",
   "execution_count": 30,
   "metadata": {},
   "outputs": [
    {
     "data": {
      "text/html": [
       "<div>\n",
       "<style scoped>\n",
       "    .dataframe tbody tr th:only-of-type {\n",
       "        vertical-align: middle;\n",
       "    }\n",
       "\n",
       "    .dataframe tbody tr th {\n",
       "        vertical-align: top;\n",
       "    }\n",
       "\n",
       "    .dataframe thead th {\n",
       "        text-align: right;\n",
       "    }\n",
       "</style>\n",
       "<table border=\"1\" class=\"dataframe\">\n",
       "  <thead>\n",
       "    <tr style=\"text-align: right;\">\n",
       "      <th></th>\n",
       "      <th>train_loss_step</th>\n",
       "      <th>train_accu_step</th>\n",
       "      <th>gpu_id: 0/memory.used (MB)</th>\n",
       "      <th>epoch</th>\n",
       "      <th>step</th>\n",
       "      <th>train_loss_epoch</th>\n",
       "      <th>train_accu_epoch</th>\n",
       "      <th>valid_loss</th>\n",
       "      <th>valid_accu</th>\n",
       "    </tr>\n",
       "  </thead>\n",
       "  <tbody>\n",
       "    <tr>\n",
       "      <th>0</th>\n",
       "      <td>0.238795</td>\n",
       "      <td>0.997401</td>\n",
       "      <td>9316.0</td>\n",
       "      <td>0</td>\n",
       "      <td>49</td>\n",
       "      <td>NaN</td>\n",
       "      <td>NaN</td>\n",
       "      <td>NaN</td>\n",
       "      <td>NaN</td>\n",
       "    </tr>\n",
       "    <tr>\n",
       "      <th>1</th>\n",
       "      <td>0.097876</td>\n",
       "      <td>0.998053</td>\n",
       "      <td>9316.0</td>\n",
       "      <td>0</td>\n",
       "      <td>99</td>\n",
       "      <td>NaN</td>\n",
       "      <td>NaN</td>\n",
       "      <td>NaN</td>\n",
       "      <td>NaN</td>\n",
       "    </tr>\n",
       "    <tr>\n",
       "      <th>2</th>\n",
       "      <td>0.055693</td>\n",
       "      <td>0.998065</td>\n",
       "      <td>9318.0</td>\n",
       "      <td>0</td>\n",
       "      <td>149</td>\n",
       "      <td>NaN</td>\n",
       "      <td>NaN</td>\n",
       "      <td>NaN</td>\n",
       "      <td>NaN</td>\n",
       "    </tr>\n",
       "    <tr>\n",
       "      <th>3</th>\n",
       "      <td>0.038505</td>\n",
       "      <td>0.997975</td>\n",
       "      <td>9318.0</td>\n",
       "      <td>0</td>\n",
       "      <td>199</td>\n",
       "      <td>NaN</td>\n",
       "      <td>NaN</td>\n",
       "      <td>NaN</td>\n",
       "      <td>NaN</td>\n",
       "    </tr>\n",
       "    <tr>\n",
       "      <th>4</th>\n",
       "      <td>0.029109</td>\n",
       "      <td>0.998057</td>\n",
       "      <td>9318.0</td>\n",
       "      <td>0</td>\n",
       "      <td>249</td>\n",
       "      <td>NaN</td>\n",
       "      <td>NaN</td>\n",
       "      <td>NaN</td>\n",
       "      <td>NaN</td>\n",
       "    </tr>\n",
       "    <tr>\n",
       "      <th>...</th>\n",
       "      <td>...</td>\n",
       "      <td>...</td>\n",
       "      <td>...</td>\n",
       "      <td>...</td>\n",
       "      <td>...</td>\n",
       "      <td>...</td>\n",
       "      <td>...</td>\n",
       "      <td>...</td>\n",
       "      <td>...</td>\n",
       "    </tr>\n",
       "    <tr>\n",
       "      <th>542</th>\n",
       "      <td>0.001680</td>\n",
       "      <td>0.999438</td>\n",
       "      <td>10092.0</td>\n",
       "      <td>7</td>\n",
       "      <td>26449</td>\n",
       "      <td>NaN</td>\n",
       "      <td>NaN</td>\n",
       "      <td>NaN</td>\n",
       "      <td>NaN</td>\n",
       "    </tr>\n",
       "    <tr>\n",
       "      <th>543</th>\n",
       "      <td>0.001618</td>\n",
       "      <td>0.999483</td>\n",
       "      <td>10092.0</td>\n",
       "      <td>7</td>\n",
       "      <td>26499</td>\n",
       "      <td>NaN</td>\n",
       "      <td>NaN</td>\n",
       "      <td>NaN</td>\n",
       "      <td>NaN</td>\n",
       "    </tr>\n",
       "    <tr>\n",
       "      <th>544</th>\n",
       "      <td>0.002029</td>\n",
       "      <td>0.999402</td>\n",
       "      <td>10092.0</td>\n",
       "      <td>7</td>\n",
       "      <td>26549</td>\n",
       "      <td>NaN</td>\n",
       "      <td>NaN</td>\n",
       "      <td>NaN</td>\n",
       "      <td>NaN</td>\n",
       "    </tr>\n",
       "    <tr>\n",
       "      <th>545</th>\n",
       "      <td>NaN</td>\n",
       "      <td>NaN</td>\n",
       "      <td>10092.0</td>\n",
       "      <td>7</td>\n",
       "      <td>26567</td>\n",
       "      <td>0.002152</td>\n",
       "      <td>0.999324</td>\n",
       "      <td>NaN</td>\n",
       "      <td>NaN</td>\n",
       "    </tr>\n",
       "    <tr>\n",
       "      <th>546</th>\n",
       "      <td>NaN</td>\n",
       "      <td>NaN</td>\n",
       "      <td>10092.0</td>\n",
       "      <td>7</td>\n",
       "      <td>26567</td>\n",
       "      <td>NaN</td>\n",
       "      <td>NaN</td>\n",
       "      <td>0.00387</td>\n",
       "      <td>0.998976</td>\n",
       "    </tr>\n",
       "  </tbody>\n",
       "</table>\n",
       "<p>547 rows × 9 columns</p>\n",
       "</div>"
      ],
      "text/plain": [
       "     train_loss_step  train_accu_step  gpu_id: 0/memory.used (MB)  epoch  \\\n",
       "0           0.238795         0.997401                      9316.0      0   \n",
       "1           0.097876         0.998053                      9316.0      0   \n",
       "2           0.055693         0.998065                      9318.0      0   \n",
       "3           0.038505         0.997975                      9318.0      0   \n",
       "4           0.029109         0.998057                      9318.0      0   \n",
       "..               ...              ...                         ...    ...   \n",
       "542         0.001680         0.999438                     10092.0      7   \n",
       "543         0.001618         0.999483                     10092.0      7   \n",
       "544         0.002029         0.999402                     10092.0      7   \n",
       "545              NaN              NaN                     10092.0      7   \n",
       "546              NaN              NaN                     10092.0      7   \n",
       "\n",
       "      step  train_loss_epoch  train_accu_epoch  valid_loss  valid_accu  \n",
       "0       49               NaN               NaN         NaN         NaN  \n",
       "1       99               NaN               NaN         NaN         NaN  \n",
       "2      149               NaN               NaN         NaN         NaN  \n",
       "3      199               NaN               NaN         NaN         NaN  \n",
       "4      249               NaN               NaN         NaN         NaN  \n",
       "..     ...               ...               ...         ...         ...  \n",
       "542  26449               NaN               NaN         NaN         NaN  \n",
       "543  26499               NaN               NaN         NaN         NaN  \n",
       "544  26549               NaN               NaN         NaN         NaN  \n",
       "545  26567          0.002152          0.999324         NaN         NaN  \n",
       "546  26567               NaN               NaN     0.00387    0.998976  \n",
       "\n",
       "[547 rows x 9 columns]"
      ]
     },
     "execution_count": 30,
     "metadata": {},
     "output_type": "execute_result"
    }
   ],
   "source": [
    "dfmtr = pd.read_csv(f\"{p_out}/csv/version_0/metrics.csv\")\n",
    "\n",
    "dfmtr"
   ]
  },
  {
   "cell_type": "markdown",
   "metadata": {},
   "source": [
    "## run model"
   ]
  },
  {
   "cell_type": "raw",
   "metadata": {},
   "source": [
    "dl = data_module.val_dataloader()\n",
    "n=0\n",
    "for dat in dl:\n",
    "    input_ids, attention_mask, ys = dat\n",
    "    logits = pcmodel(input_ids, attention_mask)\n",
    "    accu = getaccu(logits, ys)\n",
    "    print(accu.item())\n",
    "    n+=1\n",
    "    if n>1: break"
   ]
  },
  {
   "cell_type": "markdown",
   "metadata": {},
   "source": [
    "## demo"
   ]
  },
  {
   "cell_type": "code",
   "execution_count": 12,
   "metadata": {},
   "outputs": [],
   "source": [
    "def do_demo(df):\n",
    "    i2cat = data_module.i2cat\n",
    "    tokenizer = data_module.tokenizer\n",
    "    max_seq_length = data_module.max_seq_length\n",
    "    row = df.sample()\n",
    "    display(row)\n",
    "    txt = list(row.title.values)\n",
    "    input_ids, attention_mask = mk_tensors(txt, tokenizer, max_seq_length)\n",
    "    logits = pcmodel(input_ids, attention_mask)[0]\n",
    "    print(txt[0])\n",
    "    print('Truth:', sorted(o for o in row.category.values[0].split('|') if o in i2cat))\n",
    "\n",
    "    top_icats = np.argsort(-logits.detach().numpy())[:5]\n",
    "    print('Top Preds:',[i2cat[i] for i in top_icats])\n",
    "    print('Preds 0.5+:',[i2cat[i] for i in np.where(logits>0)[0]])\n"
   ]
  },
  {
   "cell_type": "code",
   "execution_count": 16,
   "metadata": {
    "scrolled": true
   },
   "outputs": [
    {
     "data": {
      "text/html": [
       "<div>\n",
       "<style scoped>\n",
       "    .dataframe tbody tr th:only-of-type {\n",
       "        vertical-align: middle;\n",
       "    }\n",
       "\n",
       "    .dataframe tbody tr th {\n",
       "        vertical-align: top;\n",
       "    }\n",
       "\n",
       "    .dataframe thead th {\n",
       "        text-align: right;\n",
       "    }\n",
       "</style>\n",
       "<table border=\"1\" class=\"dataframe\">\n",
       "  <thead>\n",
       "    <tr style=\"text-align: right;\">\n",
       "      <th></th>\n",
       "      <th>category</th>\n",
       "      <th>title</th>\n",
       "      <th>is_validation</th>\n",
       "    </tr>\n",
       "  </thead>\n",
       "  <tbody>\n",
       "    <tr>\n",
       "      <th>414309</th>\n",
       "      <td>Home &amp; Kitchen|Kitchen &amp; Dining|Dining &amp; Enter...</td>\n",
       "      <td>Hello Kitty Rice Bowl Sakura Cherry Blossom CAW1</td>\n",
       "      <td>1</td>\n",
       "    </tr>\n",
       "  </tbody>\n",
       "</table>\n",
       "</div>"
      ],
      "text/plain": [
       "                                                 category  \\\n",
       "414309  Home & Kitchen|Kitchen & Dining|Dining & Enter...   \n",
       "\n",
       "                                                   title  is_validation  \n",
       "414309  Hello Kitty Rice Bowl Sakura Cherry Blossom CAW1              1  "
      ]
     },
     "metadata": {},
     "output_type": "display_data"
    },
    {
     "name": "stdout",
     "output_type": "stream",
     "text": [
      "Hello Kitty Rice Bowl Sakura Cherry Blossom CAW1\n",
      "Truth: ['Bowls', 'Dining & Entertaining', 'Dinnerware', 'Home & Kitchen', 'Kitchen & Dining']\n",
      "Top Preds: ['Kitchen & Dining', 'Home & Kitchen', 'Dining & Entertaining', 'Dinnerware', 'Bowls']\n",
      "Preds 0.5+: ['Bowls', 'Dining & Entertaining', 'Dinnerware', 'Home & Kitchen', 'Kitchen & Dining']\n"
     ]
    }
   ],
   "source": [
    "do_demo(data_module.df_val)"
   ]
  },
  {
   "cell_type": "code",
   "execution_count": 21,
   "metadata": {},
   "outputs": [
    {
     "data": {
      "text/plain": [
       "128"
      ]
     },
     "execution_count": 21,
     "metadata": {},
     "output_type": "execute_result"
    }
   ],
   "source": [
    "data_module.max_seq_length"
   ]
  },
  {
   "cell_type": "code",
   "execution_count": 19,
   "metadata": {},
   "outputs": [
    {
     "data": {
      "text/plain": [
       "128"
      ]
     },
     "execution_count": 19,
     "metadata": {},
     "output_type": "execute_result"
    }
   ],
   "source": [
    "data_module.max_seq_length"
   ]
  },
  {
   "cell_type": "code",
   "execution_count": 18,
   "metadata": {},
   "outputs": [
    {
     "data": {
      "text/plain": [
       "['1\" high',\n",
       " '100% Acrylic',\n",
       " '100% Authentic',\n",
       " '100% Canvas',\n",
       " '100% Cotton',\n",
       " '100% Fabric',\n",
       " '100% Leather',\n",
       " '100% Manmade',\n",
       " '100% Nylon',\n",
       " '100% Polyester',\n",
       " '100% Polyester lining',\n",
       " '100% Polyurethane',\n",
       " '100% Rayon',\n",
       " '100% Silk',\n",
       " '100% Suede',\n",
       " '100% Synthetic',\n",
       " '100% Textile',\n",
       " '100% UV protection coating',\n",
       " '100% Viscose',\n",
       " '100% cotton',\n",
       " '100% polyester',\n",
       " '20th Century Fox Home Entertainment',\n",
       " '60% Cotton, 40% Polyester',\n",
       " '60% Cotton/40% Polyester',\n",
       " '95% Cotton/5% Spandex',\n",
       " '95% Polyester/5% Spandex',\n",
       " '98% Cotton/2% Spandex',\n",
       " '</span>',\n",
       " '</span></span></span>',\n",
       " 'AC Adapters',\n",
       " 'Abrasive & Finishing Products',\n",
       " 'Accent & Off Road Lighting',\n",
       " 'Accent Furniture',\n",
       " 'Accessories',\n",
       " 'Accessories & Parts',\n",
       " 'Accessories & Supplies',\n",
       " 'Accessories &amp; Supplies',\n",
       " 'Accessory Kits',\n",
       " 'Acoustic Guitars',\n",
       " 'Action & Adventure',\n",
       " 'Action & Toy Figures',\n",
       " 'Action &amp; Adventure',\n",
       " 'Action Figures',\n",
       " 'Action Figures & Statues',\n",
       " 'Active',\n",
       " 'Active & Performance',\n",
       " 'Active Hoodies',\n",
       " 'Active Leggings',\n",
       " 'Active Pants',\n",
       " 'Active Shirts & Tees',\n",
       " 'Active Shorts',\n",
       " 'Activities, Crafts & Games',\n",
       " 'Activities, Crafts &amp; Games',\n",
       " 'Adapters',\n",
       " 'Additive Manufacturing Products',\n",
       " 'Adhesives',\n",
       " 'Adult Alternative',\n",
       " 'Adult Contemporary',\n",
       " 'Africa',\n",
       " 'Agricultural & Construction Machinery',\n",
       " 'Air Conditioners & Accessories',\n",
       " 'Air Conditioning',\n",
       " 'Air Filters',\n",
       " 'Air Filters & Accessories',\n",
       " 'Air Fresheners',\n",
       " 'Air Intake',\n",
       " 'Air Purifiers',\n",
       " 'Air Tool Parts & Accessories',\n",
       " 'Airsoft',\n",
       " 'Airsoft & Paintball',\n",
       " 'Alarm Clocks',\n",
       " 'Album-Oriented Rock (AOR)',\n",
       " 'All Lionsgate Titles',\n",
       " 'All Pans',\n",
       " 'All Sony Pictures Titles',\n",
       " 'All Titles',\n",
       " 'All our diamond suppliers confirm that they comply with the Kimberley Process to ensure that their diamonds are conflict free.',\n",
       " 'All-Season',\n",
       " 'Alternative Medicine',\n",
       " 'Alternative Rock',\n",
       " 'Alternators',\n",
       " 'Alternators & Generators',\n",
       " 'Americas',\n",
       " 'Amplifiers',\n",
       " 'Amplifiers & Effects',\n",
       " 'Ancient Civilizations',\n",
       " 'Animals',\n",
       " 'Animation',\n",
       " 'Anime & Manga',\n",
       " 'Ankle & Bootie',\n",
       " 'Antennas',\n",
       " 'Anti-Theft',\n",
       " 'Antiques & Collectibles',\n",
       " 'Antiques &amp; Collectibles',\n",
       " 'Apparel & Accessories',\n",
       " 'Appliances',\n",
       " 'Appliques',\n",
       " 'Appliques & Decorative Patches',\n",
       " 'Aprons',\n",
       " 'Aquarium Dcor',\n",
       " 'Aquarium Pumps & Filters',\n",
       " 'Archery',\n",
       " 'Architecture',\n",
       " 'Area Rugs',\n",
       " 'Area Rugs, Runners & Pads',\n",
       " 'Armbands',\n",
       " 'Arrows & Parts',\n",
       " 'Art House & International',\n",
       " 'Artificial Flowers',\n",
       " 'Artificial Plants & Flowers',\n",
       " 'Arts & Crafts',\n",
       " 'Arts & Literature',\n",
       " 'Arts & Photography',\n",
       " 'Arts &amp; Literature',\n",
       " 'Arts &amp; Photography',\n",
       " 'Arts, Crafts & Sewing',\n",
       " 'Arts, Music &amp; Photography',\n",
       " 'Artwork',\n",
       " 'Asia',\n",
       " 'Asian',\n",
       " 'Astronomy &amp; Space Science',\n",
       " 'Athletic',\n",
       " 'Athletic Socks',\n",
       " 'Audio & Video Accessories',\n",
       " 'Audio &amp; Video Accessories',\n",
       " 'Audio Cables',\n",
       " 'Auto Accessories',\n",
       " 'Automotive',\n",
       " 'Avant Garde & Free Jazz',\n",
       " 'Baby',\n",
       " 'Baby & Toddler Toys',\n",
       " 'Baby Boys',\n",
       " 'Baby Clothing',\n",
       " 'Baby Girls',\n",
       " 'Backpacking Packs',\n",
       " 'Backpacks',\n",
       " 'Backpacks & Bags',\n",
       " 'Backyard Birding & Wildlife',\n",
       " 'Badge Holders',\n",
       " 'Bags',\n",
       " 'Bags & Cases',\n",
       " 'Bags, Cases & Sleeves',\n",
       " 'Bags, Packs & Accessories',\n",
       " 'Bakers & Casseroles',\n",
       " 'Bakeware',\n",
       " 'Baking',\n",
       " 'Baking Mixes',\n",
       " 'Baking Tools & Accessories',\n",
       " 'Ballets & Dances',\n",
       " 'Balloons',\n",
       " 'Ballpoint Pens',\n",
       " 'Balls',\n",
       " 'Band & Orchestra',\n",
       " 'Bands',\n",
       " 'Bangle',\n",
       " 'Bar & Wine Tools',\n",
       " 'Bar Tools',\n",
       " 'Bar Tools & Drinkware',\n",
       " 'Barbells',\n",
       " 'Barstools',\n",
       " 'Baseball & Softball',\n",
       " 'Baseball Caps',\n",
       " 'Basic Cases',\n",
       " 'Basic Collars',\n",
       " 'Basic Halter Harnesses',\n",
       " 'Basic Leashes',\n",
       " 'Basketball',\n",
       " 'Baskets, Bins & Containers',\n",
       " 'Bath',\n",
       " 'Bath Rugs',\n",
       " 'Bath Toys',\n",
       " 'Bathroom Accessories',\n",
       " 'Bathroom Fixtures',\n",
       " 'Bathroom Hardware',\n",
       " 'Bathroom Sink Faucets',\n",
       " 'Bathroom Sinks',\n",
       " 'Bathtub Faucets & Showerheads',\n",
       " 'Bats',\n",
       " 'Batteries',\n",
       " 'Batteries & Accessories',\n",
       " 'Batteries & Battery Packs',\n",
       " 'Batteries & Chargers',\n",
       " 'Batteries, Chargers & Accessories',\n",
       " 'Battery Chargers',\n",
       " 'Battery Packs',\n",
       " 'Battery Packs & Chargers',\n",
       " 'Beach Towels',\n",
       " 'Bead',\n",
       " 'Beading & Jewelry Making',\n",
       " 'Beading Supplies',\n",
       " 'Beads & Bead Assortments',\n",
       " 'Bearings',\n",
       " 'Bearings & Seals',\n",
       " 'Beauty & Fashion',\n",
       " 'Bebop',\n",
       " 'Bed Blankets',\n",
       " 'Bed Pillows & Positioners',\n",
       " 'Bedding',\n",
       " 'Bedroom Furniture',\n",
       " 'Beds',\n",
       " 'Beds & Furniture',\n",
       " 'Beds & Sofas',\n",
       " 'Beds, Frames & Bases',\n",
       " 'Beer Glasses',\n",
       " 'Belts',\n",
       " 'Belts, Hoses & Pulleys',\n",
       " 'Beverage Serveware',\n",
       " 'Beverages',\n",
       " 'Beverages &amp; Wine',\n",
       " 'Bible Study & Reference',\n",
       " 'Bible Study &amp; Reference',\n",
       " 'Bibles',\n",
       " 'Bike Racks & Bags',\n",
       " 'Bikes',\n",
       " 'Bikinis',\n",
       " 'Billiards & Pool',\n",
       " 'Binders & Binding Systems',\n",
       " 'Binoculars',\n",
       " 'Binoculars & Scopes',\n",
       " 'Biographies',\n",
       " 'Biographies & Memoirs',\n",
       " 'Biographies &amp; Memoirs',\n",
       " 'Biological Sciences',\n",
       " 'Birds',\n",
       " 'Black',\n",
       " 'Blades',\n",
       " 'Blank Media',\n",
       " 'Blankets & Throws',\n",
       " 'Blazers',\n",
       " 'Blinds & Shades',\n",
       " 'Blouses & Button-Down Shirts',\n",
       " 'Blu-ray',\n",
       " 'Bluegrass',\n",
       " 'Blues',\n",
       " 'Board Games',\n",
       " 'Board Shorts',\n",
       " 'Boating',\n",
       " 'Boating & Sailing',\n",
       " 'Body',\n",
       " 'Body & Frame Parts',\n",
       " 'Body & Trim',\n",
       " 'Body Jewelry',\n",
       " 'Body Repair Tools',\n",
       " 'Body Work',\n",
       " 'Bodysuits',\n",
       " 'Book Covers & Book Accessories',\n",
       " 'Bookmarks',\n",
       " 'Books',\n",
       " 'Boots',\n",
       " 'Bottle Openers',\n",
       " 'Bottled Beverages, Water & Drink Mixes',\n",
       " 'Bottoms',\n",
       " 'Bowling',\n",
       " 'Bowls',\n",
       " 'Bowls & Dishes',\n",
       " 'Boxed Sets',\n",
       " 'Boxer Briefs',\n",
       " 'Boxers',\n",
       " 'Boxing',\n",
       " 'Boys',\n",
       " 'Bracelets',\n",
       " 'Brain Teasers',\n",
       " 'Brake & Tail Light Assemblies',\n",
       " 'Brake Kits',\n",
       " 'Brake Pads',\n",
       " 'Brake System',\n",
       " 'Braking',\n",
       " 'Brand New',\n",
       " 'Brand New Item',\n",
       " 'Brand New Never Been Worn Merchandise',\n",
       " 'Bras',\n",
       " 'Brazil',\n",
       " 'Breads & Bakery',\n",
       " 'Breakers, Load Centers & Fuses',\n",
       " 'Breakfast Foods',\n",
       " 'Briefcases',\n",
       " 'Briefs',\n",
       " 'Britain',\n",
       " 'British Isles',\n",
       " 'Broadway & Vocalists',\n",
       " 'Brooches & Pins',\n",
       " 'Buddhism',\n",
       " 'Building Materials',\n",
       " 'Building Sets',\n",
       " 'Building Supplies',\n",
       " 'Building Toys',\n",
       " 'Bulbs',\n",
       " 'Bumper Stickers, Decals & Magnets',\n",
       " 'Bumpers',\n",
       " 'Bumpers & Bumper Accessories',\n",
       " 'Business',\n",
       " 'Business & Money',\n",
       " 'Business &amp; Finance',\n",
       " 'Business &amp; Money',\n",
       " 'Business Card Holders',\n",
       " 'Business Culture',\n",
       " 'Button closure',\n",
       " 'Button-Down Shirts',\n",
       " 'Buttons',\n",
       " 'Buttons & Pins',\n",
       " 'CB & Two-Way Radios',\n",
       " 'CDs & Vinyl',\n",
       " \"COMFORTABLE AND SECURE FIT: With the perfect amount of padding, you'll be able to run around all day with ease in comfort! The construction is designed to give you a secure yet comfortable fit based on the size you choose. Please kindly refer to the size chart prior to selecting.\",\n",
       " 'Cabinet & Drawer Organization',\n",
       " 'Cabinet Hardware',\n",
       " 'Cables',\n",
       " 'Cables & Interconnects',\n",
       " 'Cake & Cupcake Toppers',\n",
       " 'Cake Toppers',\n",
       " 'Cakes',\n",
       " 'Calendars',\n",
       " 'Calendars, Planners & Personal Organizers',\n",
       " 'Calipers',\n",
       " 'Calipers & Parts',\n",
       " 'Camera',\n",
       " 'Camera & Photo',\n",
       " 'Camera &amp; Photo',\n",
       " 'Camera Batteries',\n",
       " 'Camera Cases',\n",
       " 'Camera Lenses',\n",
       " 'Camp Kitchen',\n",
       " 'Camping & Hiking',\n",
       " 'Camping Furniture',\n",
       " 'Candleholders',\n",
       " 'Candles',\n",
       " 'Candles & Holders',\n",
       " 'Candy & Chocolate',\n",
       " 'Candy & Chocolate Assortments',\n",
       " 'Candy & Chocolate Bars',\n",
       " 'Candy & Chocolate Gifts',\n",
       " 'Candy Making Molds',\n",
       " 'Candy Making Supplies',\n",
       " 'Canned',\n",
       " 'Canned, Jarred & Packaged Foods',\n",
       " 'Canvas',\n",
       " 'Capacitors',\n",
       " 'Caps',\n",
       " 'Caps & Hats',\n",
       " 'Car',\n",
       " 'Car & Vehicle Electronics',\n",
       " 'Car Accessories',\n",
       " 'Car Audio',\n",
       " 'Car Care',\n",
       " 'Car Chargers',\n",
       " 'Car Cradles & Mounts',\n",
       " 'Car Electronics',\n",
       " 'Car Video',\n",
       " 'Carafes & Pitchers',\n",
       " 'Carburetors',\n",
       " 'Carburetors & Parts',\n",
       " 'Card Files, Holders & Racks',\n",
       " 'Card Games',\n",
       " 'Cardigans',\n",
       " 'Cards & Card Stock',\n",
       " 'Cargo Liners',\n",
       " 'Caribbean & Cuba',\n",
       " 'Carriers & Travel Products',\n",
       " 'Cases',\n",
       " 'Cases, Holsters & Sleeves',\n",
       " 'Casino Equipment',\n",
       " 'Casual',\n",
       " 'Casual Button-Down Shirts',\n",
       " 'Casual Daypacks',\n",
       " 'Casual Socks',\n",
       " 'Catholicism',\n",
       " 'Cats',\n",
       " 'Ceiling Fans & Accessories',\n",
       " 'Ceiling Lights',\n",
       " 'Cell Phone Accessories',\n",
       " 'Cell Phones',\n",
       " 'Cell Phones & Accessories',\n",
       " 'Cereals',\n",
       " 'Chains',\n",
       " 'Chains & Sprockets',\n",
       " 'Chainsaw Parts & Accessories',\n",
       " 'Chairs',\n",
       " 'Chairs & Sofas',\n",
       " 'Chamber Music',\n",
       " 'Chandeliers',\n",
       " 'Chargers & Adapters',\n",
       " 'Chargers & Power Adapters',\n",
       " 'Charm Bracelets',\n",
       " 'Charms',\n",
       " 'Charms & Charm Bracelets',\n",
       " 'Chassis',\n",
       " 'Chemistry',\n",
       " 'Chew Toys',\n",
       " 'Chewing & Bubble Gum',\n",
       " \"Children's\",\n",
       " \"Children's Books\",\n",
       " \"Children's Music\",\n",
       " \"Children's eBooks\",\n",
       " 'Chimes',\n",
       " 'Chips & Crisps',\n",
       " 'Christian',\n",
       " 'Christian Books & Bibles',\n",
       " 'Christian Books &amp; Bibles',\n",
       " 'Christian Living',\n",
       " 'Christmas',\n",
       " 'Churches &amp; Church Leadership',\n",
       " 'Clamps',\n",
       " 'Classic Big Band',\n",
       " 'Classic Country',\n",
       " 'Classic Rock',\n",
       " 'Classical',\n",
       " 'Classics',\n",
       " 'Cleaning Tools & Chemicals',\n",
       " 'Climbing',\n",
       " 'Clocks',\n",
       " 'Close To Ceiling Lights',\n",
       " 'Clothes Hangers',\n",
       " 'Clothing',\n",
       " 'Clothing & Closet Storage',\n",
       " 'Clothing & Shoes',\n",
       " 'Clothing Accessories',\n",
       " 'Clothing Sets',\n",
       " 'Clothing, Shoes & Jewelry',\n",
       " 'Club & Night Out',\n",
       " 'Clutches',\n",
       " 'Clutches & Evening Bags',\n",
       " 'Clutches & Parts',\n",
       " 'Coasters',\n",
       " 'Coats, Jackets & Vests',\n",
       " 'Coaxial Speakers',\n",
       " 'Cocktail',\n",
       " 'Cocktail Drinkware',\n",
       " 'Coffee',\n",
       " 'Coffee Cups & Mugs',\n",
       " 'Coffee Makers',\n",
       " 'Coffee Mugs',\n",
       " 'Coffee, Tea & Cocoa',\n",
       " 'Coffee, Tea & Espresso',\n",
       " 'Coil Springs',\n",
       " 'Coils',\n",
       " 'Coin Collecting',\n",
       " 'Cold Weather Coats',\n",
       " 'Cold Weather Gloves',\n",
       " 'Collars',\n",
       " 'Collars, Harnesses & Leashes',\n",
       " 'Collectible Figurines',\n",
       " 'Color: Black',\n",
       " 'Comedy',\n",
       " 'Comedy & Spoken Word',\n",
       " 'Comfortable',\n",
       " 'Comforter Sets',\n",
       " 'Comforters & Sets',\n",
       " 'Comic Books',\n",
       " 'Comics & Graphic Novels',\n",
       " 'Comics &amp; Graphic Novels',\n",
       " 'Comics, Manga & Graphic Novels',\n",
       " 'Commuter & Travel Mugs',\n",
       " 'Complete Tripods',\n",
       " 'Computer Accessories & Peripherals',\n",
       " 'Computer Accessories &amp; Peripherals',\n",
       " 'Computer Cable Adapters',\n",
       " 'Computer Components',\n",
       " 'Computer Science',\n",
       " 'Computers & Accessories',\n",
       " 'Computers & Tablets',\n",
       " 'Computers & Technology',\n",
       " 'Computers &amp; Accessories',\n",
       " 'Computers &amp; Technology',\n",
       " 'Concertos',\n",
       " 'Condiments & Salad Dressings',\n",
       " 'Connectors & Adapters',\n",
       " 'Consoles & Organizers',\n",
       " 'Contemporary',\n",
       " 'Contemporary & Designer',\n",
       " 'Contemporary Folk',\n",
       " 'Continental Europe',\n",
       " 'Control Arms',\n",
       " 'Control Arms & Parts',\n",
       " 'Controllers',\n",
       " 'Controls',\n",
       " 'Controls & Indicators',\n",
       " 'Cookbooks, Food & Wine',\n",
       " 'Cookbooks, Food &amp; Wine',\n",
       " 'Cookie Cutters',\n",
       " 'Cookies',\n",
       " 'Cookies, Biscuits & Snacks',\n",
       " 'Cooking & Baking',\n",
       " 'Cooking Oils, Vinegars & Sprays',\n",
       " 'Cooking Utensils',\n",
       " 'Cooking by Ingredient',\n",
       " 'Cookware',\n",
       " 'Coolers',\n",
       " 'Cord Management',\n",
       " 'Cordless Telephones',\n",
       " 'Corkscrews & Openers',\n",
       " 'Costumes',\n",
       " 'Costumes & Accessories',\n",
       " 'Costumes & Cosplay Apparel',\n",
       " 'Cotton',\n",
       " 'Country',\n",
       " 'Cover-Ups',\n",
       " 'Covers',\n",
       " 'Crackers',\n",
       " 'Craft Kits',\n",
       " 'Craft Supplies',\n",
       " 'Crafting',\n",
       " 'Crafts & Hobbies',\n",
       " 'Crafts &amp; Hobbies',\n",
       " 'Crafts, Hobbies & Home',\n",
       " 'Crafts, Hobbies &amp; Home',\n",
       " 'Cross-Stitch',\n",
       " 'Crossbody Bags',\n",
       " 'Cuba',\n",
       " 'Cuff',\n",
       " 'Cuff Links',\n",
       " 'Cups',\n",
       " 'Cups, Mugs, & Saucers',\n",
       " 'Cushions',\n",
       " 'Custom Fit',\n",
       " 'Cutlery & Knife Accessories',\n",
       " 'Cutting Boards',\n",
       " 'Cutting Tools',\n",
       " 'Cycling',\n",
       " 'DJ Equipment',\n",
       " 'Dairy, Cheese & Eggs',\n",
       " 'Dance',\n",
       " 'Dance & Electronic',\n",
       " 'Dance Pop',\n",
       " 'Dash Covers',\n",
       " 'Data Storage',\n",
       " 'Dcor',\n",
       " 'Decals',\n",
       " 'Decals & Bumper Stickers',\n",
       " 'Decks & Sets',\n",
       " 'Decorating Tools',\n",
       " 'Decorations',\n",
       " 'Decorative Accessories',\n",
       " 'Decorative Boxes',\n",
       " 'Decorative Paper',\n",
       " 'Decorative Patches',\n",
       " 'Decorative Pillows, Inserts & Covers',\n",
       " 'Decorative Signs',\n",
       " 'Denim',\n",
       " 'Desk Accessories & Workspace Organizers',\n",
       " 'Desk Lamps',\n",
       " 'Desk Supplies Holders & Dispensers',\n",
       " 'Desktops',\n",
       " 'Detailed Graphic Artwork Design',\n",
       " 'Diagnostic & Test Tools',\n",
       " 'Die-Cast Vehicles',\n",
       " 'Die-Cuts',\n",
       " 'Die-Cutting & Embossing',\n",
       " 'Digital Camera Accessories',\n",
       " 'Digital Cameras',\n",
       " 'Dining & Entertaining',\n",
       " 'Dinnerware',\n",
       " 'Dinnerware Sets',\n",
       " 'Disc Sports',\n",
       " 'Dish Cloths & Dish Towels',\n",
       " 'Distribution',\n",
       " 'Diving & Snorkeling',\n",
       " 'Diving Suits',\n",
       " 'Documentary',\n",
       " 'Dogs',\n",
       " 'Doll Accessories',\n",
       " 'Dollhouse Accessories',\n",
       " 'Dolls',\n",
       " 'Dolls & Accessories',\n",
       " 'Domestic',\n",
       " 'Door Handles',\n",
       " 'Door Hardware & Locks',\n",
       " 'Doormats',\n",
       " 'Doors',\n",
       " 'Down & Down Alternative',\n",
       " 'Down Jackets & Parkas',\n",
       " 'Drama',\n",
       " 'Dramas &amp; Plays',\n",
       " 'Draperies & Curtains',\n",
       " 'Drawing',\n",
       " 'Drawing & Painting Supplies',\n",
       " 'Drawing Media',\n",
       " 'Dress Shirts',\n",
       " 'Dress Up & Pretend Play',\n",
       " 'Dresses',\n",
       " 'Dried Beans, Grains & Rice',\n",
       " 'Drill Bits',\n",
       " 'Drinkware',\n",
       " 'Drive Train',\n",
       " 'Driving, Fog & Spot Lights',\n",
       " 'Drop & Dangle',\n",
       " 'Drum & Percussion Accessories',\n",
       " 'Drum Sets & Set Components',\n",
       " 'Drums & Percussion',\n",
       " 'Dry',\n",
       " 'Dry Clean Only',\n",
       " 'Duvet Cover Sets',\n",
       " 'Duvets, Covers & Sets',\n",
       " 'Earbud Headphones',\n",
       " 'Early Learning',\n",
       " 'Earrings',\n",
       " 'Earth Sciences',\n",
       " 'Easy Listening',\n",
       " 'Economics',\n",
       " 'Education',\n",
       " 'Education & Crafts',\n",
       " 'Education & Reference',\n",
       " 'Education & Teaching',\n",
       " 'Education &amp; Reference',\n",
       " 'Education &amp; Teaching',\n",
       " 'Elastic closure',\n",
       " 'Electric Fuel Pumps',\n",
       " 'Electric Guitar Effects',\n",
       " 'Electric Guitar Parts',\n",
       " 'Electric Guitars',\n",
       " 'Electrical',\n",
       " 'Electronic Music, DJ & Karaoke',\n",
       " 'Electronica',\n",
       " 'Electronics',\n",
       " 'Electronics & Gadgets',\n",
       " 'Embellishments',\n",
       " 'Emblems',\n",
       " 'Encyclopedias &amp; Subject Guides',\n",
       " 'End Tables',\n",
       " 'Engagement Rings',\n",
       " 'Engine',\n",
       " 'Engine Cooling & Climate Control',\n",
       " 'Engine Mounts',\n",
       " 'Engine Parts',\n",
       " 'Engineering',\n",
       " 'Engineering & Transportation',\n",
       " 'Engineering &amp; Transportation',\n",
       " 'Engines & Engine Parts',\n",
       " 'Envelopes',\n",
       " 'Envelopes, Mailers & Shipping Supplies',\n",
       " 'Equestrian Sports',\n",
       " 'Erotica',\n",
       " 'Ethernet Cables',\n",
       " 'Europe',\n",
       " 'Evening Bags',\n",
       " 'Event & Party Supplies',\n",
       " 'Everyday Bras',\n",
       " 'Exercise & Fitness',\n",
       " 'Exercise &amp; Fitness',\n",
       " 'Exhaust',\n",
       " 'Exhaust & Emissions',\n",
       " 'Exhaust System',\n",
       " 'Exotic Apparel',\n",
       " 'Exterior',\n",
       " 'Exterior Accessories',\n",
       " 'Exterior Care',\n",
       " 'Exterior Mirrors',\n",
       " 'External Components',\n",
       " 'External Hard Drives',\n",
       " 'Eye Protection',\n",
       " 'Eyewear Frames',\n",
       " 'Fabric',\n",
       " 'Fabric lining',\n",
       " 'Faceplates, Protectors & Skins',\n",
       " 'Fairy Tales, Folk Tales &amp; Myths',\n",
       " 'Family Relationships',\n",
       " 'Fan Shop',\n",
       " 'Fans & Cooling',\n",
       " 'Fantasy',\n",
       " 'Far East & Asia',\n",
       " 'Farm & Ranch',\n",
       " 'Fashion Hoodies & Sweatshirts',\n",
       " 'Fashion Scarves',\n",
       " 'Fashion Sneakers',\n",
       " 'Fasteners',\n",
       " 'Faucet Parts',\n",
       " 'Faux Leather',\n",
       " 'Favors',\n",
       " 'Fedoras',\n",
       " 'Feeders',\n",
       " 'Feeding & Watering Supplies',\n",
       " 'Fenders',\n",
       " 'Fertilizers & Plant Food',\n",
       " 'Figure Kits',\n",
       " 'Filing Products',\n",
       " 'Film Photography',\n",
       " 'Filter Accessories',\n",
       " 'Filters',\n",
       " 'Filters & Accessories',\n",
       " 'Fireplace & Stove Accessories',\n",
       " 'Fireplaces, Stoves & Accessories',\n",
       " 'Fish & Aquatic Pets',\n",
       " 'Fishing',\n",
       " 'Fishing Apparel',\n",
       " 'Fit: True to Size',\n",
       " 'Fitness & Cross-Training',\n",
       " 'Fitness Technology',\n",
       " 'Fittings',\n",
       " 'Fixed Blade Hunting Knives',\n",
       " 'Flags',\n",
       " 'Flash Accessories',\n",
       " 'Flashlights',\n",
       " 'Flasks',\n",
       " 'Flat Front',\n",
       " 'Flats',\n",
       " 'Flatware',\n",
       " 'Flatware Sets',\n",
       " 'Fleece',\n",
       " 'Flexible sole',\n",
       " 'Flip Cases',\n",
       " 'Flip-Flops',\n",
       " 'Floor Lamps',\n",
       " 'Floor Mats',\n",
       " 'Floor Mats & Cargo Liners',\n",
       " 'Flowers',\n",
       " 'Folding Knives',\n",
       " 'Folio Cases',\n",
       " 'Folk',\n",
       " 'Folk & World',\n",
       " 'Food',\n",
       " 'Food & Beverage Gifts',\n",
       " 'Food Service Equipment & Supplies',\n",
       " 'Food Storage',\n",
       " 'Food Storage & Organization Sets',\n",
       " 'Football',\n",
       " 'Footies & Rompers',\n",
       " 'Footwear',\n",
       " 'Foreign Language Study &amp; Reference',\n",
       " 'Foreign Languages',\n",
       " 'Formal',\n",
       " 'Forms & Genres',\n",
       " 'Forms, Recordkeeping & Money Handling',\n",
       " 'Fountain Pens',\n",
       " 'Frames',\n",
       " 'France',\n",
       " 'Frosting, Icing & Decorations',\n",
       " 'Fruit Juice',\n",
       " 'Fuel Injection',\n",
       " 'Fuel Pumps & Accessories',\n",
       " 'Fuel System',\n",
       " 'Full Car Covers',\n",
       " 'Furnace Filters',\n",
       " 'Furnace Parts & Accessories',\n",
       " 'Furniture',\n",
       " 'Furniture Accessories',\n",
       " 'Fuses',\n",
       " 'GPS System Accessories',\n",
       " 'GPS, Finders & Accessories',\n",
       " 'Game & Recreation Room Furniture',\n",
       " 'Game Accessories',\n",
       " 'Games',\n",
       " 'Gaming',\n",
       " 'Garage & Shop',\n",
       " 'Garden Sculptures & Statues',\n",
       " 'Gardening & Lawn Care',\n",
       " 'Gardening &amp; Landscape Design',\n",
       " 'Gaskets',\n",
       " 'Gauges',\n",
       " 'Gemstones may have been treated to improve their appearance or durability and may require special care.',\n",
       " 'Genealogy',\n",
       " 'General Accessories',\n",
       " 'Generators & Portable Power',\n",
       " 'Genre Fiction',\n",
       " 'Genre for Featured Categories',\n",
       " 'Geography &amp; Cultures',\n",
       " 'Gift Cards',\n",
       " 'Girls',\n",
       " 'Glassware & Drinkware',\n",
       " 'Glassware & Labware',\n",
       " 'Gloves',\n",
       " 'Gloves & Mittens',\n",
       " 'Goggles',\n",
       " 'Golf',\n",
       " 'Golf Clubs',\n",
       " 'Goth & Industrial',\n",
       " 'Graphic Design',\n",
       " 'Graphic Novels',\n",
       " 'Graphics Cards',\n",
       " 'Graters, Peelers & Slicers',\n",
       " 'Great Quality Jewelry!',\n",
       " 'Green',\n",
       " 'Greeting Cards',\n",
       " 'Grilles',\n",
       " 'Grilles & Grille Guards',\n",
       " 'Grilling & Barbecue Utensils',\n",
       " 'Grills & Outdoor Cooking',\n",
       " 'Grips',\n",
       " 'Grocery & Gourmet Food',\n",
       " 'Grooming',\n",
       " 'Ground Coffee',\n",
       " 'Growing Up & Facts of Life',\n",
       " 'Growing Up &amp; Facts of Life',\n",
       " 'Grown-Up Toys',\n",
       " 'Guitar & Bass Accessories',\n",
       " 'Guitar Effects',\n",
       " 'Guitars',\n",
       " 'Gummy Candy',\n",
       " 'Gun Accessories, Maintenance & Storage',\n",
       " 'Gun Holsters',\n",
       " 'Gun Holsters, Cases & Bags',\n",
       " 'Gun Maintenance',\n",
       " 'Gun Parts & Accessories',\n",
       " 'Gun Scopes',\n",
       " 'Gunsmithing Tools',\n",
       " 'Gym Bags',\n",
       " 'HDMI Cables',\n",
       " 'HVAC',\n",
       " 'Halogen Bulbs',\n",
       " 'Hand & Arm Protection',\n",
       " 'Hand Controls',\n",
       " 'Hand Percussion',\n",
       " 'Hand Tools',\n",
       " 'Hand Wash',\n",
       " 'Handbags & Wallets',\n",
       " 'Handheld Flashlights',\n",
       " 'Handlebars & Components',\n",
       " 'Handlebars, Headsets & Stems',\n",
       " 'Hard Candy',\n",
       " 'Hard Candy & Lollipops',\n",
       " 'Hard Drive Accessories',\n",
       " 'Hard Lures',\n",
       " 'Hardcore & Punk',\n",
       " 'Hardware',\n",
       " 'Harnesses',\n",
       " 'Hats',\n",
       " 'Hats & Caps',\n",
       " 'Headbands',\n",
       " 'Headlight Bulbs',\n",
       " 'Headphone Accessories',\n",
       " 'Headphones',\n",
       " 'Headwear',\n",
       " 'Health Supplies',\n",
       " 'Health, Fitness & Dieting',\n",
       " 'Health, Fitness &amp; Dieting',\n",
       " 'Heating, Cooling & Air Quality',\n",
       " 'Heel measures approximately 0.25\"',\n",
       " 'Heel measures approximately 0.5\"',\n",
       " 'Heel measures approximately 0.75\"',\n",
       " 'Heel measures approximately 1\"',\n",
       " 'Heel measures approximately 1.25\"',\n",
       " 'Heel measures approximately 1.5\"',\n",
       " 'Heel measures approximately 2\"',\n",
       " 'Heel measures approximately 2.5\"',\n",
       " 'Heel measures approximately 3\"',\n",
       " 'Heel measures approximately 4\"',\n",
       " 'Heeled Sandals',\n",
       " 'Helmets',\n",
       " 'Helmets & Accessories',\n",
       " 'Henleys',\n",
       " 'Herbal',\n",
       " 'Herbs',\n",
       " 'Herbs, Spices & Seasonings',\n",
       " 'Hiking & Trekking',\n",
       " 'Hiking Boots',\n",
       " 'Hiking Daypacks',\n",
       " 'Hinges',\n",
       " 'Historical',\n",
       " 'History',\n",
       " 'History & Criticism',\n",
       " 'History &amp; Criticism',\n",
       " 'Hitch Accessories',\n",
       " 'Hitches',\n",
       " 'Hobbies',\n",
       " 'Hobby Building Tools & Hardware',\n",
       " 'Holders & Dispensers',\n",
       " 'Holiday & Wedding',\n",
       " 'Holsters',\n",
       " 'Home & Kitchen',\n",
       " 'Home Audio',\n",
       " 'Home Bar Furniture',\n",
       " 'Home Brewing & Wine Making',\n",
       " 'Home Dcor',\n",
       " 'Home Dcor Accents',\n",
       " 'Home Fragrance',\n",
       " 'Home Improvement & Design',\n",
       " 'Home Improvement &amp; Design',\n",
       " 'Home Office Desks',\n",
       " 'Home Office Furniture',\n",
       " 'Home Storage Hooks',\n",
       " 'Home Theater',\n",
       " 'Hoodies',\n",
       " 'Hooks',\n",
       " 'Hoop',\n",
       " 'Horror',\n",
       " 'Horses',\n",
       " 'Hoses',\n",
       " 'Hot Sauce',\n",
       " 'House',\n",
       " 'Household Fans',\n",
       " 'Hub Assemblies',\n",
       " 'Hubcaps, Trim Rings & Hub Accessories',\n",
       " 'Humanities',\n",
       " 'Humor',\n",
       " 'Humor & Entertainment',\n",
       " 'Humor &amp; Entertainment',\n",
       " 'Humor &amp; Satire',\n",
       " 'Hunting',\n",
       " 'Hunting & Fishing',\n",
       " 'Hunting Accessories',\n",
       " 'Hunting Apparel',\n",
       " 'Hunting Knives',\n",
       " 'Hydraulics, Pneumatics & Plumbing',\n",
       " 'ID Tags & Collar Accessories',\n",
       " 'Identification Badges & Supplies',\n",
       " 'Ignition Parts',\n",
       " 'Importado',\n",
       " 'Imported',\n",
       " 'Incandescent Bulbs',\n",
       " 'Incense',\n",
       " 'Incense & Incense Holders',\n",
       " 'Independently Distributed',\n",
       " 'Indie & Lo-Fi',\n",
       " 'Indie Rock',\n",
       " 'Individual Artists',\n",
       " 'Individual Drive Sockets',\n",
       " 'Individual Sports',\n",
       " 'Indoor Fountain Accessories',\n",
       " 'Indoor Fountain Stones & Sea Glass',\n",
       " 'Indoor Fountains & Accessories',\n",
       " 'Indoor Gardening & Hydroponics',\n",
       " 'Indoor String Lights',\n",
       " 'Industrial & Construction Boots',\n",
       " 'Industrial & Scientific',\n",
       " 'Industrial Electrical',\n",
       " 'Industrial Hardware',\n",
       " 'Industries',\n",
       " 'Inkjet Printer Ink',\n",
       " 'Inline & Roller Skating',\n",
       " 'Instrument Accessories',\n",
       " 'Interior',\n",
       " 'Interior Accessories',\n",
       " 'Interior Switches',\n",
       " 'Internal Components',\n",
       " 'Internal Hard Drives',\n",
       " 'Investing',\n",
       " 'Iron-on Transfers',\n",
       " 'Items that are handmade may vary in size, shape and color',\n",
       " 'Jackets',\n",
       " 'Jackets & Coats',\n",
       " 'Jackets & Vests',\n",
       " 'Jams, Jellies & Sweet Spreads',\n",
       " 'Janitorial & Sanitation Supplies',\n",
       " 'Jar Candles',\n",
       " 'Jazz',\n",
       " 'Jeans',\n",
       " 'Jelly Beans & Gummy Candy',\n",
       " 'Jerseys',\n",
       " 'Jewelry',\n",
       " 'Jewelry & Watches',\n",
       " 'Jewelry Accessories',\n",
       " 'Jewelry Boxes',\n",
       " 'Jewelry Boxes & Organizers',\n",
       " 'Jewelry Findings',\n",
       " 'Jewelry Sets',\n",
       " 'Jigsaw Puzzles',\n",
       " 'Job Hunting &amp; Careers',\n",
       " 'Judaism',\n",
       " 'Juices',\n",
       " 'Jumpsuits, Rompers & Overalls',\n",
       " 'Karaoke',\n",
       " 'Kayaking',\n",
       " 'Key Chains',\n",
       " 'Key Tags & Chains',\n",
       " 'Keyboard & Mice Accessories',\n",
       " 'Keyboard Cases',\n",
       " 'Keyboards',\n",
       " 'Keyboards, Mice & Accessories',\n",
       " 'Keychains',\n",
       " 'Kids & Baby',\n",
       " 'Kids & Family',\n",
       " \"Kids' Backpacks\",\n",
       " \"Kids' Bedding\",\n",
       " \"Kids' Electronics\",\n",
       " \"Kids' Furniture\",\n",
       " \"Kids' Room Dcor\",\n",
       " 'Kindle Store',\n",
       " 'Kindle eBooks',\n",
       " 'Kitchen & Bar Sinks',\n",
       " 'Kitchen & Bath Fixtures',\n",
       " 'Kitchen & Dining',\n",
       " 'Kitchen & Dining Room Furniture',\n",
       " 'Kitchen & Table Linens',\n",
       " 'Kitchen Accessories',\n",
       " 'Kitchen Faucets',\n",
       " 'Kitchen Fixtures',\n",
       " 'Kitchen Sink Faucets',\n",
       " 'Kitchen Sinks',\n",
       " 'Kitchen Toys',\n",
       " 'Kitchen Utensils & Gadgets',\n",
       " 'Kits',\n",
       " 'Knee-High',\n",
       " 'Knife Sets',\n",
       " 'Knits & Tees',\n",
       " 'Knitting & Crochet',\n",
       " 'Knives',\n",
       " 'Knives & Tools',\n",
       " 'Knobs',\n",
       " 'LED & LCD TVs',\n",
       " 'LED Bulbs',\n",
       " 'Lab & Scientific Products',\n",
       " 'Lab, Safety & Work Gloves',\n",
       " 'Labels & Stickers',\n",
       " 'Labels, Indexes & Stamps',\n",
       " 'Lamps',\n",
       " 'Lamps & Shades',\n",
       " 'Landline Phones',\n",
       " 'Landscape Lighting',\n",
       " 'Laptop Accessories',\n",
       " 'Laptop Replacement Parts',\n",
       " 'Laptops',\n",
       " 'Laser Printer Drums & Toner',\n",
       " 'Latin Music',\n",
       " ...]"
      ]
     },
     "execution_count": 18,
     "metadata": {},
     "output_type": "execute_result"
    }
   ],
   "source": [
    "data_module.i2cat"
   ]
  },
  {
   "cell_type": "code",
   "execution_count": null,
   "metadata": {},
   "outputs": [],
   "source": []
  },
  {
   "cell_type": "code",
   "execution_count": null,
   "metadata": {},
   "outputs": [],
   "source": []
  },
  {
   "cell_type": "markdown",
   "metadata": {},
   "source": [
    "# fin"
   ]
  },
  {
   "cell_type": "code",
   "execution_count": 19,
   "metadata": {},
   "outputs": [
    {
     "name": "stdout",
     "output_type": "stream",
     "text": [
      "Sun Mar  7 21:52:11 2021       \r\n",
      "+-----------------------------------------------------------------------------+\r\n",
      "| NVIDIA-SMI 440.100      Driver Version: 440.100      CUDA Version: 10.2     |\r\n",
      "|-------------------------------+----------------------+----------------------+\r\n",
      "| GPU  Name        Persistence-M| Bus-Id        Disp.A | Volatile Uncorr. ECC |\r\n",
      "| Fan  Temp  Perf  Pwr:Usage/Cap|         Memory-Usage | GPU-Util  Compute M. |\r\n",
      "|===============================+======================+======================|\r\n",
      "|   0  Tesla V100-SXM2...  Off  | 00000000:00:1E.0 Off |                    0 |\r\n",
      "| N/A   61C    P0    60W / 300W |   1976MiB / 16160MiB |      0%      Default |\r\n",
      "+-------------------------------+----------------------+----------------------+\r\n",
      "                                                                               \r\n",
      "+-----------------------------------------------------------------------------+\r\n",
      "| Processes:                                                       GPU Memory |\r\n",
      "|  GPU       PID   Type   Process name                             Usage      |\r\n",
      "|=============================================================================|\r\n",
      "|    0      1043      C   ...conda3/envs/product-category/bin/python  1965MiB |\r\n",
      "+-----------------------------------------------------------------------------+\r\n"
     ]
    }
   ],
   "source": [
    "!nvidia-smi"
   ]
  },
  {
   "cell_type": "code",
   "execution_count": null,
   "metadata": {},
   "outputs": [],
   "source": []
  },
  {
   "cell_type": "code",
   "execution_count": null,
   "metadata": {},
   "outputs": [],
   "source": []
  },
  {
   "cell_type": "code",
   "execution_count": null,
   "metadata": {},
   "outputs": [],
   "source": []
  },
  {
   "cell_type": "code",
   "execution_count": null,
   "metadata": {},
   "outputs": [],
   "source": []
  },
  {
   "cell_type": "code",
   "execution_count": null,
   "metadata": {},
   "outputs": [],
   "source": []
  },
  {
   "cell_type": "code",
   "execution_count": null,
   "metadata": {},
   "outputs": [],
   "source": []
  }
 ],
 "metadata": {
  "kernelspec": {
   "display_name": "product-category",
   "language": "python",
   "name": "product-category"
  },
  "language_info": {
   "codemirror_mode": {
    "name": "ipython",
    "version": 3
   },
   "file_extension": ".py",
   "mimetype": "text/x-python",
   "name": "python",
   "nbconvert_exporter": "python",
   "pygments_lexer": "ipython3",
   "version": "3.7.9"
  },
  "toc": {
   "base_numbering": 1,
   "nav_menu": {},
   "number_sections": true,
   "sideBar": true,
   "skip_h1_title": false,
   "title_cell": "Table of Contents",
   "title_sidebar": "Contents",
   "toc_cell": false,
   "toc_position": {
    "height": "calc(100% - 180px)",
    "left": "10px",
    "top": "150px",
    "width": "165px"
   },
   "toc_section_display": true,
   "toc_window_display": true
  }
 },
 "nbformat": 4,
 "nbformat_minor": 4
}
