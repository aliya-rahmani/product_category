{
 "cells": [
  {
   "cell_type": "markdown",
   "metadata": {},
   "source": [
    "- https://nijianmo.github.io/amazon/index.html\n",
    "- https://jmcauley.ucsd.edu/data/amazon/ \n",
    "- https://colab.research.google.com/drive/1Zv6MARGQcrBbLHyjPVVMZVnRWsRnVMpV"
   ]
  },
  {
   "cell_type": "markdown",
   "metadata": {},
   "source": [
    "# get data"
   ]
  },
  {
   "cell_type": "code",
   "execution_count": 1,
   "metadata": {},
   "outputs": [],
   "source": [
    "from tqdm import tqdm\n",
    "import pandas as pd\n",
    "import gzip\n",
    "import json"
   ]
  },
  {
   "cell_type": "code",
   "execution_count": 2,
   "metadata": {
    "scrolled": true
   },
   "outputs": [
    {
     "name": "stdout",
     "output_type": "stream",
     "text": [
      "\u001b[0m\u001b[01;31mAll_Amazon_Meta.json.gz\u001b[0m  \u001b[01;31mmeta_Appliances.json.gz\u001b[0m  \u001b[01;31mmeta_Books.json.gz\u001b[0m\r\n"
     ]
    }
   ],
   "source": [
    "ls ../data/amazon_meta_data/"
   ]
  },
  {
   "cell_type": "code",
   "execution_count": 3,
   "metadata": {},
   "outputs": [],
   "source": [
    "pth = '../data/amazon_meta_data/All_Amazon_Meta.json.gz'"
   ]
  },
  {
   "cell_type": "code",
   "execution_count": 4,
   "metadata": {
    "collapsed": true
   },
   "outputs": [
    {
     "name": "stdout",
     "output_type": "stream",
     "text": [
      "9001\n",
      "{'category': ['Clothing, Shoes & Jewelry', 'Women', 'Clothing', 'Tops, Tees & Blouses', 'Blouses & Button-Down Shirts', 'Import', 'Versatile Occasions - Great for Daily,Casual,I am sure you will like it!', 'Black Friday Cyber Monday Christmas Loose Blouse V-Neck Blouse Solid Color Blouse Sling Blouse Fashion Blouse Cool Blouse Vintage Blouse Popular Blouse Fun Blouse Sexy Blouse Lace Vest Blouse Wild Blouse Sleeveless Blouse Lace Blouse closure', 'Printing Vest Rose Blouse Velvet Shirt Couple Blouse Elegant Blouse Long Sleeve Blouse Lace Vest Printed Blouse High Low Hem Blouse Top Short Sleeve Blouses Hollow Clothing Casual Shirts Out Shoulder Blouse Three Quarter Sleeve Shirts Chiffon Blouse Floral Printed Button Shirt Stailored Blouse Button Blouse Crew Neck Blouse Zip Blouse Cheap Blouse Expensive Blouse Discount Blouse Box Pattern Blouse Twill Fabric Blouse Straight Blouse Rolling Blouse Crimping Blouse Leaf Blouse Sling Blouse', 'Shawl Blouse Transparent Blouse Crepe Blouse Rayon Blouse Stretch Blouse Embroidered Blouse Tie Up Blouse Bow Blouse Thick Blouse Exquisite Blouse Off Shoulder Blouse Couple Blouse Stitching Harness Rose Blouse Letter Blouse Slim Blouse Halter Blouse Oblique Blouse Feather Blouse Pullover Tops Easter Mothers Day Flag Day Independence Day Holiday Hot Pink Outfits For Women Chiffon Blouse Velvet Cardigan Blouses For Women Fashion 2018 Hoodie', \"poker t shirts fishing t shirts tee shirts for guys mens blue t shirt as t shirts womens t shirts casual shirts for men tee shirt maker nice shirts for guys military t shirts witty t shirts biker t shirts olive green shirt mens beer shirts t shirt transfers polyester t shirts army t shirt custom made tee shirts men's a shirts offensive t shirts bob marley t shirts hanes t shirts kids t shirts nice mens t shirts make your own shirt t shirt making website t shirt logo\", 'ladies tops tops for women off the shoulder tops long tops tunic tops going out tops cute tops trendy tops lace top long tops for women party tops cotton tops blouses for women womens shirts cute tops for women summer tops dressy tops halter top tunic tops for women shoulderless tops women tops online black tops for women white top ladies long tops black top halter neck tops strapless top tops online long shirts for women summer tops for women red top lace tops for women long tops', \"online designer tops sleeveless tops long sleeve tops one shoulder tops ladies tops online ladies blouse basic tops white shirt womens chiffon tops pink top ladies summer tops trendy tops for women burgundy top women's shirts black and white top\"], 'tech1': '', 'description': ['(=^ ^=) 1.It is made of high quality materials,durable enought for your daily wearing<br>(=^ ^=) 2.Stylish and fashion design make you more attractive<br>(=^ ^=) 3.Perfect Match with your favorite shorts,leggings, black slacks, denim jeans, etc<br>(=^ ^=) 4.Great for Daily,Casual,I am sure you will like it! <br><br>(=^ ^=) If you would like to know more products of our store, please pay close attention to <b>Ninasill</b> <br><br>Loose Blouse V-Neck Blouse Solid Color Blouse Sling Blouse Fashion Blouse Cool Blouse Vintage Blouse Popular Blouse Fun Blouse Sexy Blouse Lace Vest Blouse Wild <br>Blouse Sleeveless Blouse Lace Blouse Lace Stitching Blouse Sweaters T-Shirts Men Blouse Women Blouse Girls Blouse Boys Blouse Kid Blouse Adult Blouse Children Blouse Printing Vest Rose Blouse Velvet Shirt Couple Blouse Elegant Blouse Long <br>Sleeve Blouse Lace Vest Printed Blouse High Low Hem Blouse Top Short Sleeve Blouses Hollow Clothing V-Collar Vest Casual Shirts Out Shoulder Blouse Three Quarter Sleeve Shirts Chiffon Blouse Floral Printed Button Shirts'], 'fit': '', 'title': 'Women Blouse, Ninasill Hooded Sweatshirt Coat Winter Warm Wool Zipper Pockets Cotton Coat Outwear', 'also_buy': [], 'image': ['https://images-na.ssl-images-amazon.com/images/I/41FcdYMol2L._SX38_SY50_CR,0,0,38,50_.jpg', 'https://images-na.ssl-images-amazon.com/images/I/51ul8a%2B-IjL._SX38_SY50_CR,0,0,38,50_.jpg', 'https://images-na.ssl-images-amazon.com/images/I/51zLLlGLEHL._SX38_SY50_CR,0,0,38,50_.jpg', 'https://images-na.ssl-images-amazon.com/images/I/515CIhAjPIL._SX38_SY50_CR,0,0,38,50_.jpg'], 'tech2': '', 'brand': 'Ninasill_Blouse', 'feature': ['Import', 'Versatile Occasions - Great for Daily,Casual,I am sure you will like it!', 'Black Friday Cyber Monday Christmas Loose Blouse V-Neck Blouse Solid Color Blouse Sling Blouse Fashion Blouse Cool Blouse Vintage Blouse Popular Blouse Fun Blouse Sexy Blouse Lace Vest Blouse Wild Blouse Sleeveless Blouse Lace Blouse closure', 'Printing Vest Rose Blouse Velvet Shirt Couple Blouse Elegant Blouse Long Sleeve Blouse Lace Vest Printed Blouse High Low Hem Blouse Top Short Sleeve Blouses Hollow Clothing Casual Shirts Out Shoulder Blouse Three Quarter Sleeve Shirts Chiffon Blouse Floral Printed Button Shirt Stailored Blouse Button Blouse Crew Neck Blouse Zip Blouse Cheap Blouse Expensive Blouse Discount Blouse Box Pattern Blouse Twill Fabric Blouse Straight Blouse Rolling Blouse Crimping Blouse Leaf Blouse Sling Blouse', 'Shawl Blouse Transparent Blouse Crepe Blouse Rayon Blouse Stretch Blouse Embroidered Blouse Tie Up Blouse Bow Blouse Thick Blouse Exquisite Blouse Off Shoulder Blouse Couple Blouse Stitching Harness Rose Blouse Letter Blouse Slim Blouse Halter Blouse Oblique Blouse Feather Blouse Pullover Tops Easter Mothers Day Flag Day Independence Day Holiday Hot Pink Outfits For Women Chiffon Blouse Velvet Cardigan Blouses For Women Fashion 2018 Hoodie', \"poker t shirts fishing t shirts tee shirts for guys mens blue t shirt as t shirts womens t shirts casual shirts for men tee shirt maker nice shirts for guys military t shirts witty t shirts biker t shirts olive green shirt mens beer shirts t shirt transfers polyester t shirts army t shirt custom made tee shirts men's a shirts offensive t shirts bob marley t shirts hanes t shirts kids t shirts nice mens t shirts make your own shirt t shirt making website t shirt logo\", 'ladies tops tops for women off the shoulder tops long tops tunic tops going out tops cute tops trendy tops lace top long tops for women party tops cotton tops blouses for women womens shirts cute tops for women summer tops dressy tops halter top tunic tops for women shoulderless tops women tops online black tops for women white top ladies long tops black top halter neck tops strapless top tops online long shirts for women summer tops for women red top lace tops for women long tops', \"online designer tops sleeveless tops long sleeve tops one shoulder tops ladies tops online ladies blouse basic tops white shirt womens chiffon tops pink top ladies summer tops trendy tops for women burgundy top women's shirts black and white top\", '<span class=\"a-text-bold\">Shipping Weight:\\n                    </span>\\n                    <span>12.8 ounces (<a href=\\'https://www.amazon.com/gp/help/seller/shipping.html/ref=dp_pd_shipping?_encoding=UTF8&amp;seller=&amp;asin=B07KS5RY2B\\'>View shipping rates and policies</a>)</span>', '<span class=\"a-text-bold\">ASIN:\\n                    </span>\\n                    <span>B07KS5RY2B</span>', '', '<span class=\"a-text-bold\">Item model number:\\n                    </span>\\n                    <span>ZC-1004</span>', '<span class=\"a-text-bold\">Date first listed on Amazon:\\n                    </span>\\n                    <span>November 22, 2018</span>', '<span class=\"a-text-bold\">\\n                    Average Customer Review:\\n                </span>\\n                \\n\\n\\n\\n\\n<style type=\"text/css\">\\n    /* \\n    * Fix for UDP-1061. Average customer reviews has a small extra line on hover \\n    * https://omni-grok.amazon.com/xref/src/appgroup/websiteTemplates/retail/SoftlinesDetailPageAssets/udp-intl-lock/src/legacy.css?indexName=WebsiteTemplates#40\\n    */\\n    .noUnderline a:hover { \\n        text-decoration: none; \\n    }\\n</style>\\n\\n\\n\\n    \\n    \\n    \\n    \\n        \\n\\n        \\n\\n        \\n        \\n        \\n        \\n\\t\\t\\n\\t\\t\\n\\t\\t\\n\\t\\t\\n\\t\\t        \\n\\t\\t\\n\\t\\t\\n\\t\\t\\n\\t\\t\\n\\t\\t\\n\\t\\t\\n\\t\\t\\n\\t\\t        \\n        \\n\\n        <div id=\"detailBullets_averageCustomerReviews\" class=\"a-spacing-none\" data-asin=\"B07KS5RY2B\" data-ref=\"dpx_acr_pop_\" >\\n            \\n            \\n            \\n                \\n                    \\n\\n\\n\\n\\n\\n\\n\\n    \\n    \\n        \\n            \\n                <a id=\"acrCustomerWriteReviewLink\" class=\"a-link-normal reviewCountSolicit\" href=\"/review/create-review/ref=dpx_acr_wr_link?asin=B07KS5RY2B\">\\n                    <span id=\"acrCustomerWriteReviewText\" class=\"a-size-base\">Be the first to review this item</span>\\n                </a>\\n            \\n        \\n    \\n\\n                \\n                \\n            \\n        </div>'], 'rank': [], 'also_view': [], 'details': {}, 'main_cat': 'Movies & TV', 'similar_item': '', 'date': '<div class=\"a-fixed-left-grid a-spacing-none\"><div class=\"a-fixed-left-grid-inner\" style=\"padding-left:280px\"><div class=\"a-fixed-left-grid-col a-col-left\" style=\"width:280px;margin-left:-280px;float:left;\"><span class=\"a-declarative\" data-action=\"reviews:filter-action:push-state\" data-reviews:filter-action:push-state=\"{&quot;scrollToSelector&quot;:&quot;#reviews-filter-info&quot;,&quot;allowLinkDefault&quot;:&quot;1&quot;}\"><table id=\"histogramTable\" class=\"a-normal a-align-middle a-spacing-base\" role=\"presentation\"><tr class=\"a-histogram-row\"><td class=\"aok-nowrap\"><span aria-hidden=\"true\" class=\"a-size-base\">5 star</span><span class=\"a-offscreen\">5 star (0%)</span><span class=\"a-letter-space\"></span>', 'price': '$9.99 - $12.50', 'asin': '6305121869'}\n",
      "9001\n",
      "0\n",
      "9001\n"
     ]
    }
   ],
   "source": [
    "# https://colab.research.google.com/drive/1Zv6MARGQcrBbLHyjPVVMZVnRWsRnVMpV#scrollTo=7igYuRaV4bF7\n",
    "    \n",
    "### load the meta data\n",
    "\n",
    "data = []\n",
    "n=1000\n",
    "with gzip.open(pth) as f:\n",
    "    for l in f:\n",
    "        n += 1\n",
    "        data.append(json.loads(l.strip()))\n",
    "        if n>10000:\n",
    "            break\n",
    "# total length of list, this number equals total number of products\n",
    "print(len(data))\n",
    "\n",
    "# first row of the list\n",
    "print(data[0])\n",
    "\n",
    "# convert list into pandas dataframe\n",
    "\n",
    "df = pd.DataFrame.from_dict(data)\n",
    "\n",
    "print(len(df))\n",
    "\n",
    "\n",
    "### remove rows with unformatted title (i.e. some 'title' may still contain html style content)\n",
    "\n",
    "df3 = df.fillna('')\n",
    "df4 = df3[df3.title.str.contains('getTime')] # unformatted rows\n",
    "df5 = df3[~df3.title.str.contains('getTime')] # filter those unformatted rows\n",
    "print(len(df4))\n",
    "print(len(df5))\n",
    "\n",
    "# how those unformatted rows look like"
   ]
  },
  {
   "cell_type": "markdown",
   "metadata": {},
   "source": [
    "## eda"
   ]
  },
  {
   "cell_type": "code",
   "execution_count": 5,
   "metadata": {},
   "outputs": [],
   "source": [
    "df = df5"
   ]
  },
  {
   "cell_type": "code",
   "execution_count": 14,
   "metadata": {},
   "outputs": [
    {
     "data": {
      "text/plain": [
       "(9001, 18)"
      ]
     },
     "execution_count": 14,
     "metadata": {},
     "output_type": "execute_result"
    }
   ],
   "source": [
    "df.shape"
   ]
  },
  {
   "cell_type": "code",
   "execution_count": 15,
   "metadata": {},
   "outputs": [
    {
     "data": {
      "text/html": [
       "<div>\n",
       "<style scoped>\n",
       "    .dataframe tbody tr th:only-of-type {\n",
       "        vertical-align: middle;\n",
       "    }\n",
       "\n",
       "    .dataframe tbody tr th {\n",
       "        vertical-align: top;\n",
       "    }\n",
       "\n",
       "    .dataframe thead th {\n",
       "        text-align: right;\n",
       "    }\n",
       "</style>\n",
       "<table border=\"1\" class=\"dataframe\">\n",
       "  <thead>\n",
       "    <tr style=\"text-align: right;\">\n",
       "      <th></th>\n",
       "      <th>category</th>\n",
       "      <th>tech1</th>\n",
       "      <th>description</th>\n",
       "      <th>fit</th>\n",
       "      <th>title</th>\n",
       "      <th>also_buy</th>\n",
       "      <th>image</th>\n",
       "      <th>tech2</th>\n",
       "      <th>brand</th>\n",
       "      <th>feature</th>\n",
       "      <th>rank</th>\n",
       "      <th>also_view</th>\n",
       "      <th>details</th>\n",
       "      <th>main_cat</th>\n",
       "      <th>similar_item</th>\n",
       "      <th>date</th>\n",
       "      <th>price</th>\n",
       "      <th>asin</th>\n",
       "    </tr>\n",
       "  </thead>\n",
       "  <tbody>\n",
       "    <tr>\n",
       "      <th>0</th>\n",
       "      <td>[Clothing, Shoes &amp; Jewelry, Women, Clothing, T...</td>\n",
       "      <td></td>\n",
       "      <td>[(=^ ^=) 1.It is made of high quality material...</td>\n",
       "      <td></td>\n",
       "      <td>Women Blouse, Ninasill Hooded Sweatshirt Coat ...</td>\n",
       "      <td>[]</td>\n",
       "      <td>[https://images-na.ssl-images-amazon.com/image...</td>\n",
       "      <td></td>\n",
       "      <td>Ninasill_Blouse</td>\n",
       "      <td>[Import, Versatile Occasions - Great for Daily...</td>\n",
       "      <td>[]</td>\n",
       "      <td>[]</td>\n",
       "      <td>{}</td>\n",
       "      <td>Movies &amp; TV</td>\n",
       "      <td></td>\n",
       "      <td>&lt;div class=\"a-fixed-left-grid a-spacing-none\"&gt;...</td>\n",
       "      <td>$9.99 - $12.50</td>\n",
       "      <td>6305121869</td>\n",
       "    </tr>\n",
       "    <tr>\n",
       "      <th>1</th>\n",
       "      <td>[Clothing, Shoes &amp; Jewelry, Traditional &amp; Cult...</td>\n",
       "      <td></td>\n",
       "      <td>[&lt;b&gt;&lt;br&gt;Hi friend, welcome to our store. Befor...</td>\n",
       "      <td></td>\n",
       "      <td>Coolred-Women Retro Split Sexy Skinny Premium ...</td>\n",
       "      <td>[]</td>\n",
       "      <td>[https://images-na.ssl-images-amazon.com/image...</td>\n",
       "      <td></td>\n",
       "      <td>Coolred-Women</td>\n",
       "      <td>[100% Spandex, Order Larger If You are Between...</td>\n",
       "      <td>14,082,777 in Clothing, Shoes &amp; Jewelry (</td>\n",
       "      <td>[]</td>\n",
       "      <td>{}</td>\n",
       "      <td>&lt;img src=\"https://images-na.ssl-images-amazon....</td>\n",
       "      <td></td>\n",
       "      <td>&lt;div class=\"a-fixed-left-grid a-spacing-none\"&gt;...</td>\n",
       "      <td>$16.08 - $18.36</td>\n",
       "      <td>6318708057</td>\n",
       "    </tr>\n",
       "    <tr>\n",
       "      <th>2</th>\n",
       "      <td>[Clothing, Shoes &amp; Jewelry, Men, Clothing, Sho...</td>\n",
       "      <td></td>\n",
       "      <td>[Gaok men's pants are all made from cotton mat...</td>\n",
       "      <td>class=\"a-normal a-align-center a-spacing-smal...</td>\n",
       "      <td>Gaok Men's Retro Cotton Multi-Pocket Camo Carg...</td>\n",
       "      <td>[]</td>\n",
       "      <td>[https://images-na.ssl-images-amazon.com/image...</td>\n",
       "      <td></td>\n",
       "      <td>Gaok</td>\n",
       "      <td>[Cotton, Zipper closure, Material:100% cotton,...</td>\n",
       "      <td>2,877,972 in Clothing, Shoes &amp; Jewelry (</td>\n",
       "      <td>[B07CRJ95M7, B008AHISU4, B07B8F98W2, B07DD98Q7...</td>\n",
       "      <td>{}</td>\n",
       "      <td>&lt;img src=\"https://images-na.ssl-images-amazon....</td>\n",
       "      <td></td>\n",
       "      <td>&lt;div class=\"a-fixed-left-grid a-spacing-none\"&gt;...</td>\n",
       "      <td>$26.99</td>\n",
       "      <td>6342506256</td>\n",
       "    </tr>\n",
       "    <tr>\n",
       "      <th>3</th>\n",
       "      <td>[Clothing, Shoes &amp; Jewelry, Men, Clothing, Jea...</td>\n",
       "      <td></td>\n",
       "      <td>[&lt;b&gt;pant size(Unit:inch)&lt;/b&gt;&lt;br&gt; W30(tag30) Wa...</td>\n",
       "      <td>class=\"a-normal a-align-center a-spacing-smal...</td>\n",
       "      <td>QIBOE Men's Baggy Jeans Denim Sweatpants Loose...</td>\n",
       "      <td>[B077GQQKRV, B07CBJQTF6, B07H2Z6S9J, B06Y26PZ5...</td>\n",
       "      <td>[https://images-na.ssl-images-amazon.com/image...</td>\n",
       "      <td></td>\n",
       "      <td>QIBOE</td>\n",
       "      <td>[Denim, Zipper closure, Material: cotton, Styl...</td>\n",
       "      <td>1,506,383 in Clothing, Shoes &amp; Jewelry (</td>\n",
       "      <td>[B07H2Z6S9J, B077GQQKRV, B072XTTTK9, B002DMJOC...</td>\n",
       "      <td>{}</td>\n",
       "      <td>&lt;img src=\"https://images-na.ssl-images-amazon....</td>\n",
       "      <td></td>\n",
       "      <td>&lt;div class=\"a-fixed-left-grid a-spacing-none\"&gt;...</td>\n",
       "      <td>$38.99</td>\n",
       "      <td>6342509379</td>\n",
       "    </tr>\n",
       "    <tr>\n",
       "      <th>4</th>\n",
       "      <td>[Clothing, Shoes &amp; Jewelry, Women, Accessories...</td>\n",
       "      <td></td>\n",
       "      <td>[All of our sunglasses offer protection agains...</td>\n",
       "      <td></td>\n",
       "      <td>Crazy Explosion-proof Lens Polarized Sunglasse...</td>\n",
       "      <td>[]</td>\n",
       "      <td>[https://images-na.ssl-images-amazon.com/image...</td>\n",
       "      <td></td>\n",
       "      <td>OLO</td>\n",
       "      <td>[Material: Polycarbonate, Main features: Windp...</td>\n",
       "      <td>936,295 in Sports &amp; Outdoors (</td>\n",
       "      <td>[B00V6F372G]</td>\n",
       "      <td>{'ASIN: ': '6342522081'}</td>\n",
       "      <td>Sports &amp; Outdoors</td>\n",
       "      <td></td>\n",
       "      <td></td>\n",
       "      <td>$3.29</td>\n",
       "      <td>6342522081</td>\n",
       "    </tr>\n",
       "  </tbody>\n",
       "</table>\n",
       "</div>"
      ],
      "text/plain": [
       "                                            category tech1  \\\n",
       "0  [Clothing, Shoes & Jewelry, Women, Clothing, T...         \n",
       "1  [Clothing, Shoes & Jewelry, Traditional & Cult...         \n",
       "2  [Clothing, Shoes & Jewelry, Men, Clothing, Sho...         \n",
       "3  [Clothing, Shoes & Jewelry, Men, Clothing, Jea...         \n",
       "4  [Clothing, Shoes & Jewelry, Women, Accessories...         \n",
       "\n",
       "                                         description  \\\n",
       "0  [(=^ ^=) 1.It is made of high quality material...   \n",
       "1  [<b><br>Hi friend, welcome to our store. Befor...   \n",
       "2  [Gaok men's pants are all made from cotton mat...   \n",
       "3  [<b>pant size(Unit:inch)</b><br> W30(tag30) Wa...   \n",
       "4  [All of our sunglasses offer protection agains...   \n",
       "\n",
       "                                                 fit  \\\n",
       "0                                                      \n",
       "1                                                      \n",
       "2   class=\"a-normal a-align-center a-spacing-smal...   \n",
       "3   class=\"a-normal a-align-center a-spacing-smal...   \n",
       "4                                                      \n",
       "\n",
       "                                               title  \\\n",
       "0  Women Blouse, Ninasill Hooded Sweatshirt Coat ...   \n",
       "1  Coolred-Women Retro Split Sexy Skinny Premium ...   \n",
       "2  Gaok Men's Retro Cotton Multi-Pocket Camo Carg...   \n",
       "3  QIBOE Men's Baggy Jeans Denim Sweatpants Loose...   \n",
       "4  Crazy Explosion-proof Lens Polarized Sunglasse...   \n",
       "\n",
       "                                            also_buy  \\\n",
       "0                                                 []   \n",
       "1                                                 []   \n",
       "2                                                 []   \n",
       "3  [B077GQQKRV, B07CBJQTF6, B07H2Z6S9J, B06Y26PZ5...   \n",
       "4                                                 []   \n",
       "\n",
       "                                               image tech2            brand  \\\n",
       "0  [https://images-na.ssl-images-amazon.com/image...        Ninasill_Blouse   \n",
       "1  [https://images-na.ssl-images-amazon.com/image...          Coolred-Women   \n",
       "2  [https://images-na.ssl-images-amazon.com/image...                   Gaok   \n",
       "3  [https://images-na.ssl-images-amazon.com/image...                  QIBOE   \n",
       "4  [https://images-na.ssl-images-amazon.com/image...                    OLO   \n",
       "\n",
       "                                             feature  \\\n",
       "0  [Import, Versatile Occasions - Great for Daily...   \n",
       "1  [100% Spandex, Order Larger If You are Between...   \n",
       "2  [Cotton, Zipper closure, Material:100% cotton,...   \n",
       "3  [Denim, Zipper closure, Material: cotton, Styl...   \n",
       "4  [Material: Polycarbonate, Main features: Windp...   \n",
       "\n",
       "                                        rank  \\\n",
       "0                                         []   \n",
       "1  14,082,777 in Clothing, Shoes & Jewelry (   \n",
       "2   2,877,972 in Clothing, Shoes & Jewelry (   \n",
       "3   1,506,383 in Clothing, Shoes & Jewelry (   \n",
       "4             936,295 in Sports & Outdoors (   \n",
       "\n",
       "                                           also_view  \\\n",
       "0                                                 []   \n",
       "1                                                 []   \n",
       "2  [B07CRJ95M7, B008AHISU4, B07B8F98W2, B07DD98Q7...   \n",
       "3  [B07H2Z6S9J, B077GQQKRV, B072XTTTK9, B002DMJOC...   \n",
       "4                                       [B00V6F372G]   \n",
       "\n",
       "                    details  \\\n",
       "0                        {}   \n",
       "1                        {}   \n",
       "2                        {}   \n",
       "3                        {}   \n",
       "4  {'ASIN: ': '6342522081'}   \n",
       "\n",
       "                                            main_cat similar_item  \\\n",
       "0                                        Movies & TV                \n",
       "1  <img src=\"https://images-na.ssl-images-amazon....                \n",
       "2  <img src=\"https://images-na.ssl-images-amazon....                \n",
       "3  <img src=\"https://images-na.ssl-images-amazon....                \n",
       "4                                  Sports & Outdoors                \n",
       "\n",
       "                                                date            price  \\\n",
       "0  <div class=\"a-fixed-left-grid a-spacing-none\">...   $9.99 - $12.50   \n",
       "1  <div class=\"a-fixed-left-grid a-spacing-none\">...  $16.08 - $18.36   \n",
       "2  <div class=\"a-fixed-left-grid a-spacing-none\">...           $26.99   \n",
       "3  <div class=\"a-fixed-left-grid a-spacing-none\">...           $38.99   \n",
       "4                                                               $3.29   \n",
       "\n",
       "         asin  \n",
       "0  6305121869  \n",
       "1  6318708057  \n",
       "2  6342506256  \n",
       "3  6342509379  \n",
       "4  6342522081  "
      ]
     },
     "execution_count": 15,
     "metadata": {},
     "output_type": "execute_result"
    }
   ],
   "source": [
    "df.head()"
   ]
  },
  {
   "cell_type": "code",
   "execution_count": 17,
   "metadata": {},
   "outputs": [
    {
     "data": {
      "text/plain": [
       "dict_keys(['category', 'tech1', 'description', 'fit', 'title', 'also_buy', 'image', 'tech2', 'brand', 'feature', 'rank', 'also_view', 'details', 'main_cat', 'similar_item', 'date', 'price', 'asin'])"
      ]
     },
     "execution_count": 17,
     "metadata": {},
     "output_type": "execute_result"
    }
   ],
   "source": [
    "data[0].keys()"
   ]
  },
  {
   "cell_type": "code",
   "execution_count": 19,
   "metadata": {},
   "outputs": [],
   "source": [
    "keys2use = ['category', 'description', 'title', 'brand', 'feature', 'asin']"
   ]
  },
  {
   "cell_type": "code",
   "execution_count": 20,
   "metadata": {},
   "outputs": [
    {
     "data": {
      "text/html": [
       "<div>\n",
       "<style scoped>\n",
       "    .dataframe tbody tr th:only-of-type {\n",
       "        vertical-align: middle;\n",
       "    }\n",
       "\n",
       "    .dataframe tbody tr th {\n",
       "        vertical-align: top;\n",
       "    }\n",
       "\n",
       "    .dataframe thead th {\n",
       "        text-align: right;\n",
       "    }\n",
       "</style>\n",
       "<table border=\"1\" class=\"dataframe\">\n",
       "  <thead>\n",
       "    <tr style=\"text-align: right;\">\n",
       "      <th></th>\n",
       "      <th>category</th>\n",
       "      <th>description</th>\n",
       "      <th>title</th>\n",
       "      <th>brand</th>\n",
       "      <th>feature</th>\n",
       "      <th>asin</th>\n",
       "    </tr>\n",
       "  </thead>\n",
       "  <tbody>\n",
       "    <tr>\n",
       "      <th>0</th>\n",
       "      <td>[Clothing, Shoes &amp; Jewelry, Women, Clothing, T...</td>\n",
       "      <td>[(=^ ^=) 1.It is made of high quality material...</td>\n",
       "      <td>Women Blouse, Ninasill Hooded Sweatshirt Coat ...</td>\n",
       "      <td>Ninasill_Blouse</td>\n",
       "      <td>[Import, Versatile Occasions - Great for Daily...</td>\n",
       "      <td>6305121869</td>\n",
       "    </tr>\n",
       "    <tr>\n",
       "      <th>1</th>\n",
       "      <td>[Clothing, Shoes &amp; Jewelry, Traditional &amp; Cult...</td>\n",
       "      <td>[&lt;b&gt;&lt;br&gt;Hi friend, welcome to our store. Befor...</td>\n",
       "      <td>Coolred-Women Retro Split Sexy Skinny Premium ...</td>\n",
       "      <td>Coolred-Women</td>\n",
       "      <td>[100% Spandex, Order Larger If You are Between...</td>\n",
       "      <td>6318708057</td>\n",
       "    </tr>\n",
       "    <tr>\n",
       "      <th>2</th>\n",
       "      <td>[Clothing, Shoes &amp; Jewelry, Men, Clothing, Sho...</td>\n",
       "      <td>[Gaok men's pants are all made from cotton mat...</td>\n",
       "      <td>Gaok Men's Retro Cotton Multi-Pocket Camo Carg...</td>\n",
       "      <td>Gaok</td>\n",
       "      <td>[Cotton, Zipper closure, Material:100% cotton,...</td>\n",
       "      <td>6342506256</td>\n",
       "    </tr>\n",
       "    <tr>\n",
       "      <th>3</th>\n",
       "      <td>[Clothing, Shoes &amp; Jewelry, Men, Clothing, Jea...</td>\n",
       "      <td>[&lt;b&gt;pant size(Unit:inch)&lt;/b&gt;&lt;br&gt; W30(tag30) Wa...</td>\n",
       "      <td>QIBOE Men's Baggy Jeans Denim Sweatpants Loose...</td>\n",
       "      <td>QIBOE</td>\n",
       "      <td>[Denim, Zipper closure, Material: cotton, Styl...</td>\n",
       "      <td>6342509379</td>\n",
       "    </tr>\n",
       "    <tr>\n",
       "      <th>4</th>\n",
       "      <td>[Clothing, Shoes &amp; Jewelry, Women, Accessories...</td>\n",
       "      <td>[All of our sunglasses offer protection agains...</td>\n",
       "      <td>Crazy Explosion-proof Lens Polarized Sunglasse...</td>\n",
       "      <td>OLO</td>\n",
       "      <td>[Material: Polycarbonate, Main features: Windp...</td>\n",
       "      <td>6342522081</td>\n",
       "    </tr>\n",
       "    <tr>\n",
       "      <th>...</th>\n",
       "      <td>...</td>\n",
       "      <td>...</td>\n",
       "      <td>...</td>\n",
       "      <td>...</td>\n",
       "      <td>...</td>\n",
       "      <td>...</td>\n",
       "    </tr>\n",
       "    <tr>\n",
       "      <th>8996</th>\n",
       "      <td>[Clothing, Shoes &amp; Jewelry, Women, Watches, Wr...</td>\n",
       "      <td>[Valentino Fascia Collection. Made in Switzerl...</td>\n",
       "      <td>Valentino Women's Watch 8751100535</td>\n",
       "      <td>Valentino</td>\n",
       "      <td>[Swiss Made, Water resistance, &lt;span class=\"a-...</td>\n",
       "      <td>B0007IP6DQ</td>\n",
       "    </tr>\n",
       "    <tr>\n",
       "      <th>8997</th>\n",
       "      <td>[Clothing, Shoes &amp; Jewelry, Men, Accessories, ...</td>\n",
       "      <td>[]</td>\n",
       "      <td>Slim Magnetic Genuine Leather Money Clip Black...</td>\n",
       "      <td>Marshal</td>\n",
       "      <td>[&lt;span class=\"a-text-bold\"&gt;Shipping Informatio...</td>\n",
       "      <td>B0007IQFKY</td>\n",
       "    </tr>\n",
       "    <tr>\n",
       "      <th>8998</th>\n",
       "      <td>[Clothing, Shoes &amp; Jewelry, Women, Accessories...</td>\n",
       "      <td>[Credit card holder crafted of fine cowhide le...</td>\n",
       "      <td>Mens Womens Leather Credit Card Holder Black W...</td>\n",
       "      <td>Marshal</td>\n",
       "      <td>[Leather Credit Card Holder Wallet, one size, ...</td>\n",
       "      <td>B0007IQFFO</td>\n",
       "    </tr>\n",
       "    <tr>\n",
       "      <th>8999</th>\n",
       "      <td>[Clothing, Shoes &amp; Jewelry, Women, Accessories...</td>\n",
       "      <td>[Genuine Leather Credit Card Holder Womens Wal...</td>\n",
       "      <td>New Womens Leather Bifold Credit Card Holder B...</td>\n",
       "      <td>Gem Avenue</td>\n",
       "      <td>[Genuine Cow Hide Leather Bifold Credit Card H...</td>\n",
       "      <td>B0007IQF8Q</td>\n",
       "    </tr>\n",
       "    <tr>\n",
       "      <th>9000</th>\n",
       "      <td>[Clothing, Shoes &amp; Jewelry, Women, Accessories...</td>\n",
       "      <td>[Adorable Piece. Real EEL Skin Leather Wallet....</td>\n",
       "      <td>New Eel Skin Leather Credit Card Holder Burgun...</td>\n",
       "      <td>Gem Avenue</td>\n",
       "      <td>[Genuine EEL Skin Leather Wallet, Features an ...</td>\n",
       "      <td>B0007IQF22</td>\n",
       "    </tr>\n",
       "  </tbody>\n",
       "</table>\n",
       "<p>9001 rows × 6 columns</p>\n",
       "</div>"
      ],
      "text/plain": [
       "                                               category  \\\n",
       "0     [Clothing, Shoes & Jewelry, Women, Clothing, T...   \n",
       "1     [Clothing, Shoes & Jewelry, Traditional & Cult...   \n",
       "2     [Clothing, Shoes & Jewelry, Men, Clothing, Sho...   \n",
       "3     [Clothing, Shoes & Jewelry, Men, Clothing, Jea...   \n",
       "4     [Clothing, Shoes & Jewelry, Women, Accessories...   \n",
       "...                                                 ...   \n",
       "8996  [Clothing, Shoes & Jewelry, Women, Watches, Wr...   \n",
       "8997  [Clothing, Shoes & Jewelry, Men, Accessories, ...   \n",
       "8998  [Clothing, Shoes & Jewelry, Women, Accessories...   \n",
       "8999  [Clothing, Shoes & Jewelry, Women, Accessories...   \n",
       "9000  [Clothing, Shoes & Jewelry, Women, Accessories...   \n",
       "\n",
       "                                            description  \\\n",
       "0     [(=^ ^=) 1.It is made of high quality material...   \n",
       "1     [<b><br>Hi friend, welcome to our store. Befor...   \n",
       "2     [Gaok men's pants are all made from cotton mat...   \n",
       "3     [<b>pant size(Unit:inch)</b><br> W30(tag30) Wa...   \n",
       "4     [All of our sunglasses offer protection agains...   \n",
       "...                                                 ...   \n",
       "8996  [Valentino Fascia Collection. Made in Switzerl...   \n",
       "8997                                                 []   \n",
       "8998  [Credit card holder crafted of fine cowhide le...   \n",
       "8999  [Genuine Leather Credit Card Holder Womens Wal...   \n",
       "9000  [Adorable Piece. Real EEL Skin Leather Wallet....   \n",
       "\n",
       "                                                  title            brand  \\\n",
       "0     Women Blouse, Ninasill Hooded Sweatshirt Coat ...  Ninasill_Blouse   \n",
       "1     Coolred-Women Retro Split Sexy Skinny Premium ...    Coolred-Women   \n",
       "2     Gaok Men's Retro Cotton Multi-Pocket Camo Carg...             Gaok   \n",
       "3     QIBOE Men's Baggy Jeans Denim Sweatpants Loose...            QIBOE   \n",
       "4     Crazy Explosion-proof Lens Polarized Sunglasse...              OLO   \n",
       "...                                                 ...              ...   \n",
       "8996                 Valentino Women's Watch 8751100535        Valentino   \n",
       "8997  Slim Magnetic Genuine Leather Money Clip Black...          Marshal   \n",
       "8998  Mens Womens Leather Credit Card Holder Black W...          Marshal   \n",
       "8999  New Womens Leather Bifold Credit Card Holder B...       Gem Avenue   \n",
       "9000  New Eel Skin Leather Credit Card Holder Burgun...       Gem Avenue   \n",
       "\n",
       "                                                feature        asin  \n",
       "0     [Import, Versatile Occasions - Great for Daily...  6305121869  \n",
       "1     [100% Spandex, Order Larger If You are Between...  6318708057  \n",
       "2     [Cotton, Zipper closure, Material:100% cotton,...  6342506256  \n",
       "3     [Denim, Zipper closure, Material: cotton, Styl...  6342509379  \n",
       "4     [Material: Polycarbonate, Main features: Windp...  6342522081  \n",
       "...                                                 ...         ...  \n",
       "8996  [Swiss Made, Water resistance, <span class=\"a-...  B0007IP6DQ  \n",
       "8997  [<span class=\"a-text-bold\">Shipping Informatio...  B0007IQFKY  \n",
       "8998  [Leather Credit Card Holder Wallet, one size, ...  B0007IQFFO  \n",
       "8999  [Genuine Cow Hide Leather Bifold Credit Card H...  B0007IQF8Q  \n",
       "9000  [Genuine EEL Skin Leather Wallet, Features an ...  B0007IQF22  \n",
       "\n",
       "[9001 rows x 6 columns]"
      ]
     },
     "execution_count": 20,
     "metadata": {},
     "output_type": "execute_result"
    }
   ],
   "source": [
    "df[keys2use]"
   ]
  },
  {
   "cell_type": "markdown",
   "metadata": {},
   "source": [
    "## get data func"
   ]
  },
  {
   "cell_type": "code",
   "execution_count": 38,
   "metadata": {},
   "outputs": [],
   "source": [
    "# https://colab.research.google.com/drive/1Zv6MARGQcrBbLHyjPVVMZVnRWsRnVMpV#scrollTo=7igYuRaV4bF7\n",
    "    \n",
    "### load the meta data\n",
    "def get_meta_data(pth, n=None):\n",
    "    keys2use = set(['category', 'description', 'title', 'brand', 'feature', 'asin'])\n",
    "    data = []\n",
    "    with gzip.open(pth) as f:\n",
    "        for i,l in enumerate(tqdm(f)):\n",
    "            dat = json.loads(l.strip())\n",
    "            dat = {k:v for k,v in dat.items() if k in keys2use}\n",
    "            data.append(dat)\n",
    "            if n is not None and i>n: break\n",
    "    # total length of list, this number equals total number of products\n",
    "    print(\"len(data)\", len(data))\n",
    "\n",
    "    # convert list into pandas dataframe\n",
    "    df = pd.DataFrame.from_dict(data)\n",
    "    print(\"len(df)\", len(df))\n",
    "\n",
    "    ### remove rows with unformatted title (i.e. some 'title' may still contain html style content)\n",
    "    df3 = df.fillna('')\n",
    "    df4 = df3[df3.title.str.contains('getTime')] # unformatted rows\n",
    "    df5 = df3[~df3.title.str.contains('getTime')] # filter those unformatted rows\n",
    "    print(\"len(df4)\", len(df4))\n",
    "    print(\"len(df5)\", len(df5))\n",
    "\n",
    "    return df5"
   ]
  },
  {
   "cell_type": "code",
   "execution_count": 39,
   "metadata": {},
   "outputs": [
    {
     "name": "stderr",
     "output_type": "stream",
     "text": [
      "10001it [00:01, 7519.54it/s]"
     ]
    },
    {
     "name": "stdout",
     "output_type": "stream",
     "text": [
      "len(data) 10002\n",
      "len(df) 10002\n",
      "len(df4) 0\n",
      "len(df5) 10002\n"
     ]
    },
    {
     "name": "stderr",
     "output_type": "stream",
     "text": [
      "\n"
     ]
    }
   ],
   "source": [
    "df = get_meta_data(pth, 10000)"
   ]
  },
  {
   "cell_type": "markdown",
   "metadata": {},
   "source": [
    "# eda"
   ]
  },
  {
   "cell_type": "code",
   "execution_count": 40,
   "metadata": {},
   "outputs": [
    {
     "data": {
      "text/plain": [
       "(10002, 6)"
      ]
     },
     "execution_count": 40,
     "metadata": {},
     "output_type": "execute_result"
    }
   ],
   "source": [
    "df.shape"
   ]
  },
  {
   "cell_type": "code",
   "execution_count": 41,
   "metadata": {},
   "outputs": [
    {
     "data": {
      "text/html": [
       "<div>\n",
       "<style scoped>\n",
       "    .dataframe tbody tr th:only-of-type {\n",
       "        vertical-align: middle;\n",
       "    }\n",
       "\n",
       "    .dataframe tbody tr th {\n",
       "        vertical-align: top;\n",
       "    }\n",
       "\n",
       "    .dataframe thead th {\n",
       "        text-align: right;\n",
       "    }\n",
       "</style>\n",
       "<table border=\"1\" class=\"dataframe\">\n",
       "  <thead>\n",
       "    <tr style=\"text-align: right;\">\n",
       "      <th></th>\n",
       "      <th>category</th>\n",
       "      <th>description</th>\n",
       "      <th>title</th>\n",
       "      <th>brand</th>\n",
       "      <th>feature</th>\n",
       "      <th>asin</th>\n",
       "    </tr>\n",
       "  </thead>\n",
       "  <tbody>\n",
       "    <tr>\n",
       "      <th>0</th>\n",
       "      <td>[Clothing, Shoes &amp; Jewelry, Women, Clothing, T...</td>\n",
       "      <td>[(=^ ^=) 1.It is made of high quality material...</td>\n",
       "      <td>Women Blouse, Ninasill Hooded Sweatshirt Coat ...</td>\n",
       "      <td>Ninasill_Blouse</td>\n",
       "      <td>[Import, Versatile Occasions - Great for Daily...</td>\n",
       "      <td>6305121869</td>\n",
       "    </tr>\n",
       "    <tr>\n",
       "      <th>1</th>\n",
       "      <td>[Clothing, Shoes &amp; Jewelry, Traditional &amp; Cult...</td>\n",
       "      <td>[&lt;b&gt;&lt;br&gt;Hi friend, welcome to our store. Befor...</td>\n",
       "      <td>Coolred-Women Retro Split Sexy Skinny Premium ...</td>\n",
       "      <td>Coolred-Women</td>\n",
       "      <td>[100% Spandex, Order Larger If You are Between...</td>\n",
       "      <td>6318708057</td>\n",
       "    </tr>\n",
       "    <tr>\n",
       "      <th>2</th>\n",
       "      <td>[Clothing, Shoes &amp; Jewelry, Men, Clothing, Sho...</td>\n",
       "      <td>[Gaok men's pants are all made from cotton mat...</td>\n",
       "      <td>Gaok Men's Retro Cotton Multi-Pocket Camo Carg...</td>\n",
       "      <td>Gaok</td>\n",
       "      <td>[Cotton, Zipper closure, Material:100% cotton,...</td>\n",
       "      <td>6342506256</td>\n",
       "    </tr>\n",
       "    <tr>\n",
       "      <th>3</th>\n",
       "      <td>[Clothing, Shoes &amp; Jewelry, Men, Clothing, Jea...</td>\n",
       "      <td>[&lt;b&gt;pant size(Unit:inch)&lt;/b&gt;&lt;br&gt; W30(tag30) Wa...</td>\n",
       "      <td>QIBOE Men's Baggy Jeans Denim Sweatpants Loose...</td>\n",
       "      <td>QIBOE</td>\n",
       "      <td>[Denim, Zipper closure, Material: cotton, Styl...</td>\n",
       "      <td>6342509379</td>\n",
       "    </tr>\n",
       "    <tr>\n",
       "      <th>4</th>\n",
       "      <td>[Clothing, Shoes &amp; Jewelry, Women, Accessories...</td>\n",
       "      <td>[All of our sunglasses offer protection agains...</td>\n",
       "      <td>Crazy Explosion-proof Lens Polarized Sunglasse...</td>\n",
       "      <td>OLO</td>\n",
       "      <td>[Material: Polycarbonate, Main features: Windp...</td>\n",
       "      <td>6342522081</td>\n",
       "    </tr>\n",
       "  </tbody>\n",
       "</table>\n",
       "</div>"
      ],
      "text/plain": [
       "                                            category  \\\n",
       "0  [Clothing, Shoes & Jewelry, Women, Clothing, T...   \n",
       "1  [Clothing, Shoes & Jewelry, Traditional & Cult...   \n",
       "2  [Clothing, Shoes & Jewelry, Men, Clothing, Sho...   \n",
       "3  [Clothing, Shoes & Jewelry, Men, Clothing, Jea...   \n",
       "4  [Clothing, Shoes & Jewelry, Women, Accessories...   \n",
       "\n",
       "                                         description  \\\n",
       "0  [(=^ ^=) 1.It is made of high quality material...   \n",
       "1  [<b><br>Hi friend, welcome to our store. Befor...   \n",
       "2  [Gaok men's pants are all made from cotton mat...   \n",
       "3  [<b>pant size(Unit:inch)</b><br> W30(tag30) Wa...   \n",
       "4  [All of our sunglasses offer protection agains...   \n",
       "\n",
       "                                               title            brand  \\\n",
       "0  Women Blouse, Ninasill Hooded Sweatshirt Coat ...  Ninasill_Blouse   \n",
       "1  Coolred-Women Retro Split Sexy Skinny Premium ...    Coolred-Women   \n",
       "2  Gaok Men's Retro Cotton Multi-Pocket Camo Carg...             Gaok   \n",
       "3  QIBOE Men's Baggy Jeans Denim Sweatpants Loose...            QIBOE   \n",
       "4  Crazy Explosion-proof Lens Polarized Sunglasse...              OLO   \n",
       "\n",
       "                                             feature        asin  \n",
       "0  [Import, Versatile Occasions - Great for Daily...  6305121869  \n",
       "1  [100% Spandex, Order Larger If You are Between...  6318708057  \n",
       "2  [Cotton, Zipper closure, Material:100% cotton,...  6342506256  \n",
       "3  [Denim, Zipper closure, Material: cotton, Styl...  6342509379  \n",
       "4  [Material: Polycarbonate, Main features: Windp...  6342522081  "
      ]
     },
     "execution_count": 41,
     "metadata": {},
     "output_type": "execute_result"
    }
   ],
   "source": [
    "df.head()"
   ]
  },
  {
   "cell_type": "code",
   "execution_count": 42,
   "metadata": {
    "scrolled": true
   },
   "outputs": [
    {
     "data": {
      "text/plain": [
       "0        Women Blouse, Ninasill Hooded Sweatshirt Coat ...\n",
       "1        Coolred-Women Retro Split Sexy Skinny Premium ...\n",
       "2        Gaok Men's Retro Cotton Multi-Pocket Camo Carg...\n",
       "3        QIBOE Men's Baggy Jeans Denim Sweatpants Loose...\n",
       "4        Crazy Explosion-proof Lens Polarized Sunglasse...\n",
       "                               ...                        \n",
       "9997     White Basic Elastic Suspender with Silver Fini...\n",
       "9998             Nipple Ring with sterling moon &amp; star\n",
       "9999              CLARKS Women's Sunbeat Adjustable Sandal\n",
       "10000    Sarong, Rayon Batik - &quot;Turtles 2&quot; 44...\n",
       "10001    Skull Sarong, Batik - &quot;Less Than Perfect&...\n",
       "Name: title, Length: 10002, dtype: object"
      ]
     },
     "execution_count": 42,
     "metadata": {},
     "output_type": "execute_result"
    }
   ],
   "source": [
    "df.title"
   ]
  },
  {
   "cell_type": "code",
   "execution_count": 43,
   "metadata": {},
   "outputs": [
    {
     "data": {
      "text/plain": [
       "0        Ninasill_Blouse\n",
       "1          Coolred-Women\n",
       "2                   Gaok\n",
       "3                  QIBOE\n",
       "4                    OLO\n",
       "              ...       \n",
       "9997            jackster\n",
       "9998       Pierce this 2\n",
       "9999                    \n",
       "10000    Curious Designs\n",
       "10001    Curious Designs\n",
       "Name: brand, Length: 10002, dtype: object"
      ]
     },
     "execution_count": 43,
     "metadata": {},
     "output_type": "execute_result"
    }
   ],
   "source": [
    "df.brand"
   ]
  },
  {
   "cell_type": "code",
   "execution_count": 76,
   "metadata": {},
   "outputs": [
    {
     "data": {
      "text/plain": [
       "[{'category': ['Clothing, Shoes & Jewelry',\n",
       "   'Men',\n",
       "   'Clothing',\n",
       "   'Active',\n",
       "   'Active Sweatshirts',\n",
       "   'Preshrunk 50% cotton/50% polyester',\n",
       "   'Mediumweight',\n",
       "   'Classic fit',\n",
       "   '8 oz'],\n",
       "  'description': ['This is the perfect crew neck sweatshirt, soft and durable with a classic fit and a wide variety of colors.'],\n",
       "  'title': 'JERZEES NuBlend Crewneck Sweatshirt',\n",
       "  'brand': 'Jerzees',\n",
       "  'feature': ['Preshrunk 50% cotton/50% polyester',\n",
       "   'Mediumweight',\n",
       "   'Classic fit',\n",
       "   '8 oz',\n",
       "   '<span class=\"a-text-bold\">Shipping Weight:\\n                    </span>\\n                    <span>1 pounds</span>',\n",
       "   '<span class=\"a-text-bold\">ASIN:\\n                    </span>\\n                    <span>B00V3R9HR6</span>',\n",
       "   '',\n",
       "   '<span class=\"a-text-bold\">Item model number:\\n                    </span>\\n                    <span>562MR</span>',\n",
       "   '<span class=\"a-text-bold\">Date first listed on Amazon:\\n                    </span>\\n                    <span>October 29, 2016</span>',\n",
       "   '<span class=\"a-text-bold\">\\n                    Average Customer Review:\\n                </span>\\n                \\n\\n\\n\\n\\n<style type=\"text/css\">\\n    /* \\n    * Fix for UDP-1061. Average customer reviews has a small extra line on hover \\n    * https://omni-grok.amazon.com/xref/src/appgroup/websiteTemplates/retail/SoftlinesDetailPageAssets/udp-intl-lock/src/legacy.css?indexName=WebsiteTemplates#40\\n    */\\n    .noUnderline a:hover { \\n        text-decoration: none; \\n    }\\n</style>\\n\\n\\n\\n    \\n    \\n    \\n    \\n        \\n\\n        \\n\\n        \\n        \\n        \\n        \\n\\t\\t\\n\\t\\t\\n\\t\\t\\n\\t\\t\\n\\t\\t        \\n\\t\\t\\n\\t\\t\\n\\t\\t\\n\\t\\t\\n\\t\\t\\n\\t\\t\\n\\t\\t\\n\\t\\t        \\n        \\n\\n        <div id=\"detailBullets_averageCustomerReviews\" class=\"a-spacing-none\" data-asin=\"B00V3R9HR6\" data-ref=\"dpx_acr_pop_\" >\\n            \\n            \\n            \\n                \\n                \\n                    \\n\\n\\n\\n\\n\\n\\n\\n\\n\\n\\n        <span class=\"a-declarative\" data-action=\"acrStarsLink-click-metrics\" data-acrStarsLink-click-metrics=\"{}\">\\n            \\n\\n\\n\\n\\n\\n    <span id=\"acrPopover\" class=\"reviewCountTextLinkedHistogram noUnderline\" title=\"3.9 out of 5 stars\">\\n        <span class=\"a-declarative\" data-action=\"a-popover\" data-a-popover=\"{&quot;max-width&quot;:&quot;700&quot;,&quot;closeButton&quot;:&quot;false&quot;,&quot;position&quot;:&quot;triggerBottom&quot;,&quot;url&quot;:&quot;/gp/customer-reviews/widgets/average-customer-review/popover/ref=dpx_acr_pop_?contextId=dpx&amp;asin=B00V3R9HR6&quot;}\">\\n            <a href=\"javascript:void(0)\" class=\"a-popover-trigger a-declarative\">\\n                \\n\\n<i class=\"a-icon a-icon-star a-star-4\"><span class=\"a-icon-alt\">3.9 out of 5 stars</span></i>\\n                \\n            <i class=\"a-icon a-icon-popover\"></i></a>\\n        </span>\\n        <span class=\"a-letter-space\"></span>\\n    </span>\\n\\n\\n        </span>\\n        <span class=\"a-letter-space\"></span>\\n        \\n        \\n\\n        \\n\\n        \\n\\n        \\n        \\n        \\n        \\n        \\n        \\n        \\n            \\n            \\n                <span class=\"a-declarative\" data-action=\"acrLink-click-metrics\" data-acrLink-click-metrics=\"{}\">\\n                    <a id=\"acrCustomerReviewLink\" class=\"a-link-normal\" href=\"#customerReviews\">\\n                        <span id=\"acrCustomerReviewText\" class=\"a-size-base\">18 customer reviews</span>\\n                    </a>\\n                </span>\\n            \\n                <script type=\"text/javascript\">\\n                    P.when(\\'A\\', \\'ready\\').execute(function(A) {\\n                        A.declarative(\\'acrLink-click-metrics\\', \\'click\\', { \"allowLinkDefault\" : true }, function(event){\\n                            if(window.ue) {\\n                                ue.count(\"acrLinkClickCount\", (ue.count(\"acrLinkClickCount\") || 0) + 1);\\n                            }\\n                        });\\n                    });\\n                </script>\\n            \\n            \\n            \\n            \\n        \\n        \\n        <script type=\"text/javascript\">\\n            P.when(\\'A\\', \\'cf\\').execute(function(A) {\\n                A.declarative(\\'acrStarsLink-click-metrics\\', \\'click\\', { \"allowLinkDefault\" : true },  function(event){\\n                    if(window.ue) {\\n                        ue.count(\"acrStarsLinkWithPopoverClickCount\", (ue.count(\"acrStarsLinkWithPopoverClickCount\") || 0) + 1);\\n                    }\\n                });\\n            });\\n        </script>\\n\\n\\n                \\n            \\n        </div>'],\n",
       "  'asin': 'B0002NYVOG'}]"
      ]
     },
     "execution_count": 76,
     "metadata": {},
     "output_type": "execute_result"
    }
   ],
   "source": [
    "df.sample().to_dict('records')"
   ]
  },
  {
   "cell_type": "code",
   "execution_count": null,
   "metadata": {},
   "outputs": [],
   "source": []
  },
  {
   "cell_type": "code",
   "execution_count": null,
   "metadata": {},
   "outputs": [],
   "source": []
  },
  {
   "cell_type": "code",
   "execution_count": null,
   "metadata": {},
   "outputs": [],
   "source": []
  },
  {
   "cell_type": "code",
   "execution_count": null,
   "metadata": {},
   "outputs": [],
   "source": []
  }
 ],
 "metadata": {
  "kernelspec": {
   "display_name": "product-category",
   "language": "python",
   "name": "product-category"
  },
  "language_info": {
   "codemirror_mode": {
    "name": "ipython",
    "version": 3
   },
   "file_extension": ".py",
   "mimetype": "text/x-python",
   "name": "python",
   "nbconvert_exporter": "python",
   "pygments_lexer": "ipython3",
   "version": "3.7.9"
  },
  "toc": {
   "base_numbering": 1,
   "nav_menu": {},
   "number_sections": true,
   "sideBar": true,
   "skip_h1_title": false,
   "title_cell": "Table of Contents",
   "title_sidebar": "Contents",
   "toc_cell": false,
   "toc_position": {},
   "toc_section_display": true,
   "toc_window_display": false
  }
 },
 "nbformat": 4,
 "nbformat_minor": 4
}
