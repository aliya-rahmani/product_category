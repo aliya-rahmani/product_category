{
 "cells": [
  {
   "cell_type": "code",
   "execution_count": 66,
   "metadata": {},
   "outputs": [],
   "source": [
    "# http://localhost:8080/notebooks/git/product-category/notebooks/prep_20210302A1.ipynb\n",
    "prfx_prp = 'prep_20210302B1'"
   ]
  },
  {
   "cell_type": "code",
   "execution_count": 67,
   "metadata": {},
   "outputs": [],
   "source": [
    "import pandas as pd\n",
    "import numpy as np\n",
    "from collections import Counter\n",
    "\n",
    "\n",
    "from sklearn.feature_extraction.text import TfidfVectorizer\n",
    "from sklearn.metrics import accuracy_score\n",
    "from sklearn.ensemble import RandomForestClassifier\n",
    "\n",
    "\n"
   ]
  },
  {
   "cell_type": "code",
   "execution_count": 68,
   "metadata": {},
   "outputs": [],
   "source": [
    "MIN_CNT = 50"
   ]
  },
  {
   "cell_type": "code",
   "execution_count": 69,
   "metadata": {},
   "outputs": [
    {
     "name": "stdout",
     "output_type": "stream",
     "text": [
      "CPU times: user 83.1 ms, sys: 16 ms, total: 99.1 ms\n",
      "Wall time: 135 ms\n"
     ]
    }
   ],
   "source": [
    "%%time\n",
    "df = pd.read_csv(f'../data/data_sample__{prfx_prp}.csv')"
   ]
  },
  {
   "cell_type": "code",
   "execution_count": 70,
   "metadata": {},
   "outputs": [
    {
     "name": "stdout",
     "output_type": "stream",
     "text": [
      "df.shape: (10000, 7)\n",
      "CPU times: user 169 ms, sys: 0 ns, total: 169 ms\n",
      "Wall time: 167 ms\n"
     ]
    }
   ],
   "source": [
    "%%time\n",
    "def try2eval(x):\n",
    "    try:\n",
    "        return eval(x)\n",
    "    except SyntaxError:\n",
    "        return []\n",
    "\n",
    "# df = pd.read_csv(f'../data/data_sample__{prfx_prp}.csv')\n",
    "df.fillna(\"\", inplace=True)\n",
    "df = df.astype(str)\n",
    "df['category'] = df.category.apply(try2eval)\n",
    "print(\"df.shape:\", df.shape)\n",
    "df['txt'] = df.title + \" \" + df.brand + \" \" + df.description + \" \" + df.feature"
   ]
  },
  {
   "cell_type": "code",
   "execution_count": 75,
   "metadata": {
    "scrolled": true
   },
   "outputs": [
    {
     "data": {
      "text/plain": [
       "(23, 111)"
      ]
     },
     "execution_count": 75,
     "metadata": {},
     "output_type": "execute_result"
    }
   ],
   "source": [
    "dmn2cnt = Counter(df.domain.value_counts().to_dict())\n",
    "i2dmn = sorted(dmn2cnt.keys())\n",
    "dmn2i = {v:k for k,v in enumerate(i2dmn)}\n",
    "cat2cnt = Counter([j for i in df.category for j in i])\n",
    "i2cat = sorted(k for k,v in cat2cnt.items() if v>50)\n",
    "cat2i = {v:k for k,v in enumerate(i2cat)}\n",
    "\n",
    "len(i2dmn), len(i2cat)"
   ]
  },
  {
   "cell_type": "markdown",
   "metadata": {},
   "source": [
    "## split train val"
   ]
  },
  {
   "cell_type": "code",
   "execution_count": 76,
   "metadata": {},
   "outputs": [
    {
     "data": {
      "text/plain": [
       "((8466, 8), (1534, 8))"
      ]
     },
     "execution_count": 76,
     "metadata": {},
     "output_type": "execute_result"
    }
   ],
   "source": [
    "np.random.seed(101)\n",
    "msk_val = np.random.rand(len(df))>0.85\n",
    "dftrn = df[~msk_val]\n",
    "dfval = df[msk_val]\n",
    "dftrn.shape, dfval.shape"
   ]
  },
  {
   "cell_type": "markdown",
   "metadata": {},
   "source": [
    "## rf model"
   ]
  },
  {
   "cell_type": "code",
   "execution_count": 77,
   "metadata": {},
   "outputs": [
    {
     "name": "stdout",
     "output_type": "stream",
     "text": [
      "CPU times: user 3.19 s, sys: 68.2 ms, total: 3.26 s\n",
      "Wall time: 3.27 s\n"
     ]
    },
    {
     "data": {
      "text/plain": [
       "((8466, 57858), (1534, 57858))"
      ]
     },
     "execution_count": 77,
     "metadata": {},
     "output_type": "execute_result"
    }
   ],
   "source": [
    "%%time\n",
    "vec = TfidfVectorizer(ngram_range=(1,2),\n",
    "                      min_df=3, max_df=0.9, strip_accents='unicode', use_idf=1,\n",
    "                      smooth_idf=1, sublinear_tf=1)\n",
    "Xtrn = vec.fit_transform(dftrn.txt)\n",
    "Xval = vec.transform(dfval.txt)\n",
    "\n",
    "Xtrn.shape, Xval.shape"
   ]
  },
  {
   "cell_type": "code",
   "execution_count": 78,
   "metadata": {},
   "outputs": [],
   "source": [
    "ys = np.zeros((len(df), len(i2cat)))\n",
    "\n",
    "for i,cats in enumerate(df.category):\n",
    "    idx_pos = [cat2i[cat] for cat in cats if cat in cat2i]\n",
    "    ys[i,idx_pos] = 1\n",
    "\n",
    "ys_trn = ys[~msk_val]\n",
    "ys_val = ys[msk_val]"
   ]
  },
  {
   "cell_type": "code",
   "execution_count": 79,
   "metadata": {},
   "outputs": [],
   "source": [
    "clf = RandomForestClassifier(n_estimators=5, \n",
    "                             min_samples_leaf=2,\n",
    "                             max_features=0.5,\n",
    "                             n_jobs=-1)"
   ]
  },
  {
   "cell_type": "code",
   "execution_count": 80,
   "metadata": {},
   "outputs": [
    {
     "name": "stdout",
     "output_type": "stream",
     "text": [
      "CPU times: user 2min 14s, sys: 50.3 ms, total: 2min 14s\n",
      "Wall time: 30.3 s\n"
     ]
    },
    {
     "data": {
      "text/plain": [
       "RandomForestClassifier(max_features=0.5, min_samples_leaf=2, n_estimators=5,\n",
       "                       n_jobs=-1)"
      ]
     },
     "execution_count": 80,
     "metadata": {},
     "output_type": "execute_result"
    }
   ],
   "source": [
    "%%time\n",
    "clf.fit(Xtrn, ys_trn)"
   ]
  },
  {
   "cell_type": "code",
   "execution_count": 81,
   "metadata": {},
   "outputs": [
    {
     "data": {
      "text/plain": [
       "111"
      ]
     },
     "execution_count": 81,
     "metadata": {},
     "output_type": "execute_result"
    }
   ],
   "source": [
    "clf.n_outputs_"
   ]
  },
  {
   "cell_type": "code",
   "execution_count": 82,
   "metadata": {},
   "outputs": [
    {
     "data": {
      "text/plain": [
       "(0.9940620989522477, 0.5922513583746751)"
      ]
     },
     "execution_count": 82,
     "metadata": {},
     "output_type": "execute_result"
    }
   ],
   "source": [
    "prds_trn = clf.predict(Xtrn)\n",
    "prds_prob_trn = clf.predict_proba(Xtrn)\n",
    "\n",
    "np.mean(prds_trn==ys_trn), accuracy_score(ys_trn, prds_trn)"
   ]
  },
  {
   "cell_type": "code",
   "execution_count": 83,
   "metadata": {},
   "outputs": [
    {
     "data": {
      "text/plain": [
       "(0.9859696724103504, 0.2255541069100391)"
      ]
     },
     "execution_count": 83,
     "metadata": {},
     "output_type": "execute_result"
    }
   ],
   "source": [
    "prds_val = clf.predict(Xval)\n",
    "prds_prob_val = clf.predict_proba(Xval)\n",
    "\n",
    "np.mean(prds_val==ys_val), accuracy_score(ys_val, prds_val)"
   ]
  },
  {
   "cell_type": "code",
   "execution_count": 108,
   "metadata": {},
   "outputs": [
    {
     "name": "stdout",
     "output_type": "stream",
     "text": [
      "0.99; 1.00; 0.99; 0.95; 0.99; 1.00; 0.99; 0.99; 0.99; 0.99; 0.99; 0.96; 1.00; 1.00; 1.00; 0.99; 0.99; 0.99; 0.99; 0.93; 0.99; 0.99; 1.00; 1.00; 0.97; 0.99; 0.99; 0.99; 0.98; 0.98; 0.99; 0.95; 0.97; 0.99; 0.98; 0.99; 1.00; 0.99; 1.00; 0.95; 0.99; 0.99; 0.99; 0.99; 0.99; 0.99; 0.99; 0.99; 0.99; 1.00; 1.00; 1.00; 0.99; 0.93; 0.97; 0.98; 0.99; 0.99; 0.98; 0.99; 1.00; 0.99; 0.98; 0.98; 0.99; 1.00; 0.99; 0.98; 0.97; 0.99; 0.96; 0.99; 0.99; 0.99; 0.99; 0.99; 0.99; 0.98; 0.98; 0.99; 0.98; 0.99; 0.98; 0.99; 0.98; 0.99; 1.00; 0.99; 0.99; 0.98; 0.99; 0.99; 1.00; 1.00; 0.99; 0.99; 0.97; 0.94; 0.99; 1.00; 0.98; 1.00; 0.96; 0.99; 0.99; 0.95; 0.99; 1.00; 1.00; 0.96; 1.00; "
     ]
    }
   ],
   "source": [
    "for j in range(ys_val.shape[1]):\n",
    "    print(f\"{accuracy_score(ys_val[:,j], prds_val[:,j]):.2f}\", end='; ')"
   ]
  },
  {
   "cell_type": "markdown",
   "metadata": {},
   "source": [
    "## demo"
   ]
  },
  {
   "cell_type": "code",
   "execution_count": 145,
   "metadata": {},
   "outputs": [
    {
     "name": "stdout",
     "output_type": "stream",
     "text": [
      "Geneva Women's AMZ1004 Ceramic Mother-of-Pearl Enamel Bezel Watch Geneva Moderate A sleek and fashionable timepiece dressed in white ceramic, the Geneva Moderate Women's Custom Ceramic Mother-of-Pearl Enamel Bezel Watch will quickly grab the attention of any passersby with an eye for style. This exceptional timepiece begins with a round 34mm silver-toned all-alloy case with a fixed white enamel bezel and a textured crown. These elements hug a pristine white mother-of-pearl dial, which is protected by a hardened mineral crystal and features silver-toned index and Arabic numeral hour markers and luminous silver-toned hands powered by analog quartz movement. The dial also features three sub-dials offering 60-second, 30-minute and 1/10th-of-a-second displays. A solid all-alloy bracelet with white ceramic center links straps this watch to the wrist, while a double push-button fold-over safety clasp ensures its secure placement. Finally, this watch boasts water resistance up to 33 feet (10 meters). With a look that transitions well from day to night, this watch may become one of the most versatile members of your accessories collection. White Enamel Bezel with White MOP Dial\n",
      "Reliable Quartz Movement\n",
      "Solid Alloy Metal Bracelet with Genuine Ceramic Inner Link Stainless Steel Double Push Buckle\n",
      "Solid All Alloy Metal Case Construction with Brass Pushers and Stainless Steel Case back\n",
      "Not water resistant\n",
      "Package Dimensions:\n",
      "                    \n",
      "3.8 x 3.7 x 2.8 inches\n",
      "Shipping Weight:\n",
      "                    \n",
      "6.4 ounces\n",
      "---\n",
      "Truth: ['Clothing, Shoes & Jewelry', 'Not water resistant', 'Reliable Quartz Movement', 'Solid All Alloy Metal Case Construction with Brass Pushers and Stainless Steel Case back', 'Solid Alloy Metal Bracelet with Genuine Ceramic Inner Link Stainless Steel Double Push Buckle', 'Watches', 'White Enamel Bezel with White MOP Dial', 'Women', 'Wrist Watches']\n",
      "y: ['Clothing, Shoes & Jewelry', 'Watches', 'Women', 'Wrist Watches']\n",
      "Prediction: ['Clothing, Shoes & Jewelry', 'Watches', 'Women', 'Wrist Watches']\n"
     ]
    }
   ],
   "source": [
    "i = np.random.choice(range(len(ys_val)))\n",
    "dct = dict(dfval.iloc[i])\n",
    "print(dct['txt'])\n",
    "\n",
    "y = np.where(ys_val[i])[0]\n",
    "prd = np.where(prds_val[i])[0]\n",
    "print('---')\n",
    "print(\"Truth:\", sorted(dct['category']))\n",
    "print(\"y:\", [i2cat[i] for i in y])\n",
    "print(\"Prediction:\", [i2cat[i] for i in prd])"
   ]
  },
  {
   "cell_type": "code",
   "execution_count": null,
   "metadata": {},
   "outputs": [],
   "source": []
  },
  {
   "cell_type": "code",
   "execution_count": null,
   "metadata": {},
   "outputs": [],
   "source": []
  },
  {
   "cell_type": "code",
   "execution_count": null,
   "metadata": {},
   "outputs": [],
   "source": []
  },
  {
   "cell_type": "code",
   "execution_count": null,
   "metadata": {},
   "outputs": [],
   "source": []
  },
  {
   "cell_type": "code",
   "execution_count": null,
   "metadata": {},
   "outputs": [],
   "source": []
  }
 ],
 "metadata": {
  "kernelspec": {
   "display_name": "product-category",
   "language": "python",
   "name": "product-category"
  },
  "language_info": {
   "codemirror_mode": {
    "name": "ipython",
    "version": 3
   },
   "file_extension": ".py",
   "mimetype": "text/x-python",
   "name": "python",
   "nbconvert_exporter": "python",
   "pygments_lexer": "ipython3",
   "version": "3.7.9"
  },
  "toc": {
   "base_numbering": 1,
   "nav_menu": {},
   "number_sections": true,
   "sideBar": true,
   "skip_h1_title": false,
   "title_cell": "Table of Contents",
   "title_sidebar": "Contents",
   "toc_cell": false,
   "toc_position": {},
   "toc_section_display": true,
   "toc_window_display": false
  }
 },
 "nbformat": 4,
 "nbformat_minor": 4
}
