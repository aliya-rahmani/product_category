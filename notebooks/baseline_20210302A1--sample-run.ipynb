{
 "cells": [
  {
   "cell_type": "code",
   "execution_count": 34,
   "metadata": {},
   "outputs": [],
   "source": [
    "# http://localhost:8080/notebooks/git/product-category/notebooks/prep_20210302A1.ipynb\n",
    "prfx_prp = 'prep_20210302B1'"
   ]
  },
  {
   "cell_type": "code",
   "execution_count": 35,
   "metadata": {},
   "outputs": [],
   "source": [
    "import pandas as pd\n",
    "import numpy as np\n",
    "from collections import Counter\n",
    "\n",
    "\n",
    "from sklearn.feature_extraction.text import TfidfVectorizer\n",
    "from sklearn.metrics import accuracy_score\n",
    "from sklearn.ensemble import RandomForestClassifier\n",
    "\n",
    "\n"
   ]
  },
  {
   "cell_type": "code",
   "execution_count": 36,
   "metadata": {},
   "outputs": [],
   "source": [
    "MIN_CNT = 50"
   ]
  },
  {
   "cell_type": "code",
   "execution_count": 47,
   "metadata": {},
   "outputs": [
    {
     "name": "stdout",
     "output_type": "stream",
     "text": [
      "df.shape: (10000, 7)\n",
      "CPU times: user 238 ms, sys: 3.09 ms, total: 242 ms\n",
      "Wall time: 240 ms\n"
     ]
    }
   ],
   "source": [
    "%%time\n",
    "# df = pd.read_csv(f'../data/data__{prfx_prp}.csv')\n",
    "\n",
    "df = pd.read_csv(f'../data/data_sample__{prfx_prp}.csv')\n",
    "df['category'] = df.category.apply(eval)\n",
    "df.fillna(\"\", inplace=True)\n",
    "print(\"df.shape:\", df.shape)\n",
    "df['txt'] = df.title + \" \" + df.brand + \" \" + df.description + \" \" + df.feature"
   ]
  },
  {
   "cell_type": "code",
   "execution_count": 48,
   "metadata": {
    "scrolled": true
   },
   "outputs": [
    {
     "data": {
      "text/plain": [
       "(23, 111)"
      ]
     },
     "execution_count": 48,
     "metadata": {},
     "output_type": "execute_result"
    }
   ],
   "source": [
    "dmn2cnt = Counter(df.domain.value_counts().to_dict())\n",
    "i2dmn = sorted(dmn2cnt.keys())\n",
    "dmn2i = {v:k for k,v in enumerate(i2dmn)}\n",
    "cat2cnt = Counter([j for i in df.category for j in i])\n",
    "i2cat = sorted(k for k,v in cat2cnt.items() if v>50)\n",
    "cat2i = {v:k for k,v in enumerate(i2cat)}\n",
    "\n",
    "len(i2dmn), len(i2cat)"
   ]
  },
  {
   "cell_type": "markdown",
   "metadata": {},
   "source": [
    "## split train val"
   ]
  },
  {
   "cell_type": "code",
   "execution_count": 49,
   "metadata": {},
   "outputs": [
    {
     "data": {
      "text/plain": [
       "((8466, 8), (1534, 8))"
      ]
     },
     "execution_count": 49,
     "metadata": {},
     "output_type": "execute_result"
    }
   ],
   "source": [
    "np.random.seed(101)\n",
    "msk_val = np.random.rand(len(df))>0.85\n",
    "dftrn = df[~msk_val]\n",
    "dfval = df[msk_val]\n",
    "dftrn.shape, dfval.shape"
   ]
  },
  {
   "cell_type": "markdown",
   "metadata": {},
   "source": [
    "## rf model"
   ]
  },
  {
   "cell_type": "code",
   "execution_count": 54,
   "metadata": {},
   "outputs": [
    {
     "name": "stdout",
     "output_type": "stream",
     "text": [
      "CPU times: user 2.94 s, sys: 29.4 ms, total: 2.97 s\n",
      "Wall time: 2.97 s\n"
     ]
    },
    {
     "data": {
      "text/plain": [
       "((8466, 57858), (1534, 57858))"
      ]
     },
     "execution_count": 54,
     "metadata": {},
     "output_type": "execute_result"
    }
   ],
   "source": [
    "%%time\n",
    "vec = TfidfVectorizer(ngram_range=(1,2),\n",
    "                      min_df=3, max_df=0.9, strip_accents='unicode', use_idf=1,\n",
    "                      smooth_idf=1, sublinear_tf=1)\n",
    "Xtrn = vec.fit_transform(dftrn.txt)\n",
    "Xval = vec.transform(dfval.txt)\n",
    "\n",
    "Xtrn.shape, Xval.shape"
   ]
  },
  {
   "cell_type": "code",
   "execution_count": 57,
   "metadata": {},
   "outputs": [
    {
     "data": {
      "text/plain": [
       "0       [Clothing, Shoes & Jewelry, Women, Contemporar...\n",
       "1       [Tools & Home Improvement, Measuring & Layout ...\n",
       "2       [Clothing, Shoes & Jewelry, Novelty & More, Cl...\n",
       "3       [Home & Kitchen, Kitchen & Dining, Dining & En...\n",
       "4       [Automotive, Motorcycle & Powersports, Protect...\n",
       "                              ...                        \n",
       "9995    [Clothing, Shoes & Jewelry, Novelty & More, Cl...\n",
       "9996         [Books, Literature & Fiction, Genre Fiction]\n",
       "9997    [Tools & Home Improvement, Power & Hand Tools,...\n",
       "9998    [Electronics, Computers & Accessories, Network...\n",
       "9999    [Clothing, Shoes & Jewelry, Women, Shoes, Boot...\n",
       "Name: category, Length: 10000, dtype: object"
      ]
     },
     "execution_count": 57,
     "metadata": {},
     "output_type": "execute_result"
    }
   ],
   "source": [
    "df['cat'] = df.category.apply(lambda x: [cat2i[o]])"
   ]
  },
  {
   "cell_type": "code",
   "execution_count": 77,
   "metadata": {},
   "outputs": [],
   "source": [
    "ys = np.zeros((len(df), len(i2cat)))\n",
    "\n",
    "for i,cats in enumerate(df.category):\n",
    "    idx_pos = [cat2i[cat] for cat in cats if cat in cat2i]\n",
    "    ys[i,idx_pos] = 1\n",
    "\n",
    "ys_trn = ys[~msk_val]\n",
    "ys_val = ys[msk_val]"
   ]
  },
  {
   "cell_type": "code",
   "execution_count": 79,
   "metadata": {},
   "outputs": [],
   "source": [
    "clf = RandomForestClassifier(n_estimators=5, \n",
    "                             min_samples_leaf=2,\n",
    "                             max_features=0.5,\n",
    "                             n_jobs=-1)"
   ]
  },
  {
   "cell_type": "code",
   "execution_count": 80,
   "metadata": {},
   "outputs": [
    {
     "data": {
      "text/plain": [
       "RandomForestClassifier(max_features=0.5, min_samples_leaf=2, n_estimators=5,\n",
       "                       n_jobs=-1)"
      ]
     },
     "execution_count": 80,
     "metadata": {},
     "output_type": "execute_result"
    }
   ],
   "source": [
    "%%time\n",
    "clf.fit(Xtrn, ys_trn)"
   ]
  },
  {
   "cell_type": "code",
   "execution_count": 82,
   "metadata": {},
   "outputs": [
    {
     "data": {
      "text/plain": [
       "111"
      ]
     },
     "execution_count": 82,
     "metadata": {},
     "output_type": "execute_result"
    }
   ],
   "source": [
    "clf.n_outputs_"
   ]
  },
  {
   "cell_type": "code",
   "execution_count": 97,
   "metadata": {},
   "outputs": [
    {
     "data": {
      "text/plain": [
       "(0.9940620989522477, 0.591896999763761)"
      ]
     },
     "execution_count": 97,
     "metadata": {},
     "output_type": "execute_result"
    }
   ],
   "source": [
    "prds_trn = clf.predict(Xtrn)\n",
    "prds_prob_trn = clf.predict_proba(Xtrn)\n",
    "\n",
    "np.mean(prds_trn==ys_trn), accuracy_score(ys_trn, prds_trn)"
   ]
  },
  {
   "cell_type": "code",
   "execution_count": 98,
   "metadata": {},
   "outputs": [
    {
     "data": {
      "text/plain": [
       "(0.9859755452975792, 0.2255541069100391)"
      ]
     },
     "execution_count": 98,
     "metadata": {},
     "output_type": "execute_result"
    }
   ],
   "source": [
    "prds_val = clf.predict(Xval)\n",
    "prds_prob_val = clf.predict_proba(Xval)\n",
    "\n",
    "np.mean(prds_val==ys_val), accuracy_score(ys_val, prds_val)"
   ]
  },
  {
   "cell_type": "code",
   "execution_count": 99,
   "metadata": {},
   "outputs": [
    {
     "name": "stdout",
     "output_type": "stream",
     "text": [
      "0.9934810951760105\n",
      "0.9973924380704041\n",
      "0.9934810951760105\n",
      "0.9511082138200783\n",
      "0.9915254237288136\n",
      "0.9954367666232073\n",
      "0.9928292046936115\n",
      "0.9908735332464146\n",
      "0.9850065189048239\n",
      "0.9934810951760105\n",
      "0.9915254237288136\n",
      "0.9621903520208605\n",
      "0.9973924380704041\n",
      "0.9960886571056062\n",
      "0.9980443285528031\n",
      "0.9856584093872229\n",
      "0.9882659713168188\n",
      "0.9941329856584094\n",
      "0.9934810951760105\n",
      "0.9322033898305084\n",
      "0.9941329856584094\n",
      "0.9947848761408083\n",
      "0.9967405475880052\n",
      "0.9980443285528031\n",
      "0.9732724902216427\n",
      "0.9856584093872229\n",
      "0.9850065189048239\n",
      "0.9947848761408083\n",
      "0.983702737940026\n",
      "0.9797913950456323\n",
      "0.9941329856584094\n",
      "0.9550195567144719\n",
      "0.9680573663624511\n",
      "0.9941329856584094\n",
      "0.9817470664928292\n",
      "0.9928292046936115\n",
      "0.9954367666232073\n",
      "0.9941329856584094\n",
      "0.9967405475880052\n",
      "0.9524119947848761\n",
      "0.9941329856584094\n",
      "0.9869621903520208\n",
      "0.9882659713168188\n",
      "0.9947848761408083\n",
      "0.9908735332464146\n",
      "0.9928292046936115\n",
      "0.9915254237288136\n",
      "0.9947848761408083\n",
      "0.9921773142112125\n",
      "0.9960886571056062\n",
      "0.9954367666232073\n",
      "0.9954367666232073\n",
      "0.9856584093872229\n",
      "0.9322033898305084\n",
      "0.9719687092568449\n",
      "0.9830508474576272\n",
      "0.9928292046936115\n",
      "0.9934810951760105\n",
      "0.9771838331160365\n",
      "0.9863102998696219\n",
      "0.9954367666232073\n",
      "0.9876140808344198\n",
      "0.9817470664928292\n",
      "0.9823989569752282\n",
      "0.9850065189048239\n",
      "0.9954367666232073\n",
      "0.9934810951760105\n",
      "0.9752281616688396\n",
      "0.9732724902216427\n",
      "0.9915254237288136\n",
      "0.9569752281616688\n",
      "0.9934810951760105\n",
      "0.9876140808344198\n",
      "0.9889178617992177\n",
      "0.9934810951760105\n",
      "0.9934810951760105\n",
      "0.9921773142112125\n",
      "0.9784876140808344\n",
      "0.9804432855280313\n",
      "0.9856584093872229\n",
      "0.9817470664928292\n",
      "0.9921773142112125\n",
      "0.9830508474576272\n",
      "0.9941329856584094\n",
      "0.9771838331160365\n",
      "0.9902216427640157\n",
      "0.9960886571056062\n",
      "0.9895697522816167\n",
      "0.9947848761408083\n",
      "0.9791395045632334\n",
      "0.9928292046936115\n",
      "0.9947848761408083\n",
      "0.9954367666232073\n",
      "0.9967405475880052\n",
      "0.9863102998696219\n",
      "0.9863102998696219\n",
      "0.9726205997392438\n",
      "0.9419817470664928\n",
      "0.9947848761408083\n",
      "1.0\n",
      "0.9817470664928292\n",
      "0.9980443285528031\n",
      "0.9608865710560626\n",
      "0.9921773142112125\n",
      "0.9928292046936115\n",
      "0.954367666232073\n",
      "0.9941329856584094\n",
      "0.9967405475880052\n",
      "0.9960886571056062\n",
      "0.9576271186440678\n",
      "0.9967405475880052\n"
     ]
    }
   ],
   "source": [
    "for j in range(ys_val.shape[1]):\n",
    "    print(accuracy_score(ys_val[:,j], prds_val[:,j]))"
   ]
  },
  {
   "cell_type": "code",
   "execution_count": null,
   "metadata": {},
   "outputs": [],
   "source": []
  }
 ],
 "metadata": {
  "kernelspec": {
   "display_name": "product-category",
   "language": "python",
   "name": "product-category"
  },
  "language_info": {
   "codemirror_mode": {
    "name": "ipython",
    "version": 3
   },
   "file_extension": ".py",
   "mimetype": "text/x-python",
   "name": "python",
   "nbconvert_exporter": "python",
   "pygments_lexer": "ipython3",
   "version": "3.7.9"
  },
  "toc": {
   "base_numbering": 1,
   "nav_menu": {},
   "number_sections": true,
   "sideBar": true,
   "skip_h1_title": false,
   "title_cell": "Table of Contents",
   "title_sidebar": "Contents",
   "toc_cell": false,
   "toc_position": {},
   "toc_section_display": true,
   "toc_window_display": false
  }
 },
 "nbformat": 4,
 "nbformat_minor": 4
}
