{
 "cells": [
  {
   "cell_type": "markdown",
   "metadata": {},
   "source": [
    "- https://nijianmo.github.io/amazon/index.html\n",
    "- https://jmcauley.ucsd.edu/data/amazon/ \n",
    "- https://colab.research.google.com/drive/1Zv6MARGQcrBbLHyjPVVMZVnRWsRnVMpV"
   ]
  },
  {
   "cell_type": "code",
   "execution_count": 2,
   "metadata": {},
   "outputs": [],
   "source": [
    "import pandas as pd"
   ]
  },
  {
   "cell_type": "code",
   "execution_count": 3,
   "metadata": {},
   "outputs": [],
   "source": [
    "# http://localhost:8080/notebooks/git/product-category/notebooks/prep_20210302A1.ipynb\n",
    "prfx_prp = 'prep_20210302A1'"
   ]
  },
  {
   "cell_type": "code",
   "execution_count": 29,
   "metadata": {
    "scrolled": true
   },
   "outputs": [
    {
     "name": "stdout",
     "output_type": "stream",
     "text": [
      "CPU times: user 1min 49s, sys: 9.36 s, total: 1min 58s\n",
      "Wall time: 1min 58s\n"
     ]
    },
    {
     "data": {
      "text/plain": [
       "(13706665, 7)"
      ]
     },
     "execution_count": 29,
     "metadata": {},
     "output_type": "execute_result"
    }
   ],
   "source": [
    "%%time\n",
    "df = pd.read_csv(f'../data/data__{prfx_prp}.csv')\n",
    "df.shape"
   ]
  },
  {
   "cell_type": "code",
   "execution_count": null,
   "metadata": {},
   "outputs": [],
   "source": []
  },
  {
   "cell_type": "code",
   "execution_count": 30,
   "metadata": {},
   "outputs": [
    {
     "name": "stdout",
     "output_type": "stream",
     "text": [
      "CPU times: user 7min 46s, sys: 13.9 s, total: 8min\n",
      "Wall time: 8min\n"
     ]
    },
    {
     "data": {
      "text/html": [
       "<div>\n",
       "<style scoped>\n",
       "    .dataframe tbody tr th:only-of-type {\n",
       "        vertical-align: middle;\n",
       "    }\n",
       "\n",
       "    .dataframe tbody tr th {\n",
       "        vertical-align: top;\n",
       "    }\n",
       "\n",
       "    .dataframe thead th {\n",
       "        text-align: right;\n",
       "    }\n",
       "</style>\n",
       "<table border=\"1\" class=\"dataframe\">\n",
       "  <thead>\n",
       "    <tr style=\"text-align: right;\">\n",
       "      <th></th>\n",
       "      <th>category</th>\n",
       "      <th>description</th>\n",
       "      <th>title</th>\n",
       "      <th>brand</th>\n",
       "      <th>feature</th>\n",
       "      <th>asin</th>\n",
       "      <th>domain</th>\n",
       "    </tr>\n",
       "  </thead>\n",
       "  <tbody>\n",
       "    <tr>\n",
       "      <th>0</th>\n",
       "      <td>[Appliances, Refrigerators, Freezers &amp; Ice Mak...</td>\n",
       "      <td>[]</td>\n",
       "      <td>Tupperware Freezer Square Round Container Set ...</td>\n",
       "      <td>Tupperware</td>\n",
       "      <td>[Each 3-pc. set includes two 7/8-cup/200 mL an...</td>\n",
       "      <td>7301113188</td>\n",
       "      <td>Appliance</td>\n",
       "    </tr>\n",
       "    <tr>\n",
       "      <th>1</th>\n",
       "      <td>[Appliances, Refrigerators, Freezers &amp; Ice Mak...</td>\n",
       "      <td>[2 X Tupperware Pure &amp; Fresh Unique Covered Co...</td>\n",
       "      <td>2 X Tupperware Pure &amp;amp; Fresh Unique Covered...</td>\n",
       "      <td>Tupperware</td>\n",
       "      <td>[2 X Tupperware Pure &amp; Fresh Unique Covered Co...</td>\n",
       "      <td>7861850250</td>\n",
       "      <td>Appliance</td>\n",
       "    </tr>\n",
       "    <tr>\n",
       "      <th>2</th>\n",
       "      <td>[Appliances, Parts &amp;amp; Accessories]</td>\n",
       "      <td>[]</td>\n",
       "      <td>The Cigar - Moments of Pleasure</td>\n",
       "      <td>The Cigar Book</td>\n",
       "      <td>[]</td>\n",
       "      <td>8792559360</td>\n",
       "      <td>Appliance</td>\n",
       "    </tr>\n",
       "    <tr>\n",
       "      <th>3</th>\n",
       "      <td>[Appliances, Parts &amp; Accessories]</td>\n",
       "      <td>[Multi purpost descaler, especially suited to ...</td>\n",
       "      <td>Caraselle 2X 50G Appliance Descalene</td>\n",
       "      <td>Caraselle</td>\n",
       "      <td>[]</td>\n",
       "      <td>9792954481</td>\n",
       "      <td>Appliance</td>\n",
       "    </tr>\n",
       "    <tr>\n",
       "      <th>4</th>\n",
       "      <td>[Appliances, Parts &amp; Accessories, Range Parts ...</td>\n",
       "      <td>[Full gauge and size beveled-edge; furnished w...</td>\n",
       "      <td>EATON Wiring 39CH-SP-L Arrow Hart 1-Gang Chrom...</td>\n",
       "      <td>EATON Wiring</td>\n",
       "      <td>[Returns will not be honored on this closeout ...</td>\n",
       "      <td>B00002N5EL</td>\n",
       "      <td>Appliance</td>\n",
       "    </tr>\n",
       "  </tbody>\n",
       "</table>\n",
       "</div>"
      ],
      "text/plain": [
       "                                            category  \\\n",
       "0  [Appliances, Refrigerators, Freezers & Ice Mak...   \n",
       "1  [Appliances, Refrigerators, Freezers & Ice Mak...   \n",
       "2              [Appliances, Parts &amp; Accessories]   \n",
       "3                  [Appliances, Parts & Accessories]   \n",
       "4  [Appliances, Parts & Accessories, Range Parts ...   \n",
       "\n",
       "                                         description  \\\n",
       "0                                                 []   \n",
       "1  [2 X Tupperware Pure & Fresh Unique Covered Co...   \n",
       "2                                                 []   \n",
       "3  [Multi purpost descaler, especially suited to ...   \n",
       "4  [Full gauge and size beveled-edge; furnished w...   \n",
       "\n",
       "                                               title           brand  \\\n",
       "0  Tupperware Freezer Square Round Container Set ...      Tupperware   \n",
       "1  2 X Tupperware Pure &amp; Fresh Unique Covered...      Tupperware   \n",
       "2                    The Cigar - Moments of Pleasure  The Cigar Book   \n",
       "3               Caraselle 2X 50G Appliance Descalene       Caraselle   \n",
       "4  EATON Wiring 39CH-SP-L Arrow Hart 1-Gang Chrom...    EATON Wiring   \n",
       "\n",
       "                                             feature        asin     domain  \n",
       "0  [Each 3-pc. set includes two 7/8-cup/200 mL an...  7301113188  Appliance  \n",
       "1  [2 X Tupperware Pure & Fresh Unique Covered Co...  7861850250  Appliance  \n",
       "2                                                 []  8792559360  Appliance  \n",
       "3                                                 []  9792954481  Appliance  \n",
       "4  [Returns will not be honored on this closeout ...  B00002N5EL  Appliance  "
      ]
     },
     "execution_count": 30,
     "metadata": {},
     "output_type": "execute_result"
    }
   ],
   "source": [
    "%%time\n",
    "list_cols = ['category', 'description', 'feature']\n",
    "for col in list_cols:\n",
    "    df[col] = df[col].fillna('[]')\n",
    "    df[col] = df[col].apply(eval)\n",
    "df.head()"
   ]
  },
  {
   "cell_type": "code",
   "execution_count": null,
   "metadata": {},
   "outputs": [],
   "source": []
  },
  {
   "cell_type": "code",
   "execution_count": null,
   "metadata": {},
   "outputs": [],
   "source": []
  },
  {
   "cell_type": "code",
   "execution_count": null,
   "metadata": {},
   "outputs": [],
   "source": []
  }
 ],
 "metadata": {
  "kernelspec": {
   "display_name": "product-category",
   "language": "python",
   "name": "product-category"
  },
  "language_info": {
   "codemirror_mode": {
    "name": "ipython",
    "version": 3
   },
   "file_extension": ".py",
   "mimetype": "text/x-python",
   "name": "python",
   "nbconvert_exporter": "python",
   "pygments_lexer": "ipython3",
   "version": "3.7.9"
  },
  "toc": {
   "base_numbering": 1,
   "nav_menu": {},
   "number_sections": true,
   "sideBar": true,
   "skip_h1_title": false,
   "title_cell": "Table of Contents",
   "title_sidebar": "Contents",
   "toc_cell": false,
   "toc_position": {},
   "toc_section_display": true,
   "toc_window_display": true
  }
 },
 "nbformat": 4,
 "nbformat_minor": 4
}
